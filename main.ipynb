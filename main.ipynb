{
  "cells": [
    {
      "cell_type": "markdown",
      "metadata": {
        "id": "view-in-github",
        "colab_type": "text"
      },
      "source": [
        "<a href=\"https://colab.research.google.com/github/nayyarabernardo/ETL-CAT-INSS/blob/main/main.ipynb\" target=\"_parent\"><img src=\"https://colab.research.google.com/assets/colab-badge.svg\" alt=\"Open In Colab\"/></a>"
      ]
    },
    {
      "cell_type": "markdown",
      "metadata": {
        "id": "Yu6hiAP5-gdv"
      },
      "source": [
        "#Projeto Aquecimento\n",
        "\n",
        "EQUIPE:\n",
        "- Nayara Bernardo\n",
        "- Tatiana Benevides\n",
        "\n",
        "\n",
        "Exercício realizado no Bootcamp de Engenharia de Dados da SoulCode"
      ]
    },
    {
      "cell_type": "markdown",
      "source": [
        "##Breve contextualização dos dados"
      ],
      "metadata": {
        "id": "je0M3SOYaIIy"
      }
    },
    {
      "cell_type": "markdown",
      "source": [
        "O projeto foi desenvolvido consolidando as bases disponibilizadas em uma única por meio do processo de ETL, utilizando como ferramentas o Colab bem como o Google Cloud e observando os seguintes parâmetros:\n",
        "1. Da base de dados: \n",
        "* Os dados disponibilizados são da base dos dados de\n",
        "CAT do ano de 2022 contendo os dados cadastrados no sistema informatizado de Comunicação de Acidentes do Trabalho do INSS (CATWEB) ou quando da concessão de benefício por incapacidade acidentário. Por tais dados serem efetuados por sistema, telefone e ou presencial podem existir dados divergentes ou ausentes(faltantes).\n",
        "2. Nível Infra:\n",
        "* O arquivo original e tratado deve ser salvo em MongoDB Atlas em coleções diferentes (enumerar com o final tratado ou original).\n",
        "Os Datasets devem ser obrigatoriamente salvos em uma bucket do\n",
        "CloudStorage(original e tratado).\n",
        "Disponibilizar o dataset final em um mysql.\n",
        "COMENTÁRIOS\n",
        "\n",
        "3. Nível Pandas\n",
        "* Realizar a extração correta para um dataframe.\n",
        "* Verificar a existência de dados inconsistentes e realizar a limpeza para NaN/NA ou algum valor atribuído por você explicando o porque da decisão.\n",
        "* Realizar o drop(se necessário) de colunas do dataframe realizando o\n",
        "comentário do porque da exclusão\n",
        "* Todos os passos devem ser comentados(exclusivos)\n",
        "* Agregar todos os DF&#39;s originais em um unico DF tratado\n",
        "* Criar no mínimo 3 insights dos dados apresentados podendo ser\n",
        "construído com auxilio de plots.\n",
        "4. Nivel PySpark\n",
        "* Deverá ser montada a estrutura do DataFrame utilizando o StructType.\n",
        "* Verificar a existência de dados inconsistentes, nulos e realizar a limpeza.\n",
        "* Verificar a necessidade de drop em colunas ou linhas. Caso seja\n",
        "necessário, fazer comentário do porque.\n",
        "* Realizar a mudança de nome de pelo menos 2 colunas\n",
        "* Deverá criar pelo menos duas novas colunas contendo alguma informação relevante sobre as outras colunas já existentes (Funções de Agrupamento, Agregação ou Joins). (Use a sua capacidade analítica)\n",
        "* Deverá utilizar filtros, ordenação e agrupamento, trazendo dados\n",
        "relevantes para o negócio em questão. (Use a sua capacidade analítica)\n",
        "* Utilizar pelo menos duas Window Functions\n",
        "* 5 insights utilizando SparkSQL"
      ],
      "metadata": {
        "id": "lNCbITk3aacY"
      }
    },
    {
      "cell_type": "markdown",
      "metadata": {
        "id": "46Y-x5TpDVhm"
      },
      "source": [
        "#1.Bibliotecas"
      ]
    },
    {
      "cell_type": "markdown",
      "metadata": {
        "id": "EVqzCXAy-xvN"
      },
      "source": [
        "##1.1.Instalações de Bibliotecas"
      ]
    },
    {
      "cell_type": "code",
      "execution_count": null,
      "metadata": {
        "id": "Hb7khVWf3zQz"
      },
      "outputs": [],
      "source": [
        "!pip install gcsfs # Necessário para fazer a conexão com a GCP\n",
        "!pip install pyspark # Necessário para fazer a conexão com o PySpark\n",
        "!pip install pymongo # Necessário para fazer a conexão com o MongoDB\n",
        "!pip install pymysql # Necessário para fazer a conexão / envio com o MySQL\n",
        "!pip install mysql-connector-python # Necessário para fazer a conexão com o MySQL"
      ]
    },
    {
      "cell_type": "markdown",
      "metadata": {
        "id": "YMCJVSYr_Lxi"
      },
      "source": [
        "##1.2.Importação de Bibliotecas "
      ]
    },
    {
      "cell_type": "code",
      "execution_count": null,
      "metadata": {
        "id": "q83vqNhv_DgJ"
      },
      "outputs": [],
      "source": [
        "from google.cloud import storage\n",
        "from pymongo import MongoClient\n",
        "import pymongo\n",
        "import pandas as pd\n",
        "import numpy as np\n",
        "import os\n",
        "from pyspark import SparkConf\n",
        "from pyspark.sql import functions as F\n",
        "from pyspark.sql.functions import when, col\n",
        "from pyspark.sql.types import DateType\n",
        "from pyspark.sql.functions import datediff\n",
        "from pyspark.sql.window import Window\n",
        "from pyspark.sql.types import *\n",
        "from pyspark.sql.functions import *\n",
        "from pyspark.sql.functions import col,when\n",
        "from pyspark.sql import SparkSession # Cria uma sessão no sql\n",
        "import mysql.connector\n",
        "from mysql.connector import Error\n",
        "from pyspark.sql.types import StructField \n",
        "from pyspark.sql.types import StructType\n",
        "from sqlalchemy import create_engine # é responsável por realizar a conexão entre o python/pandas com o MySQL\n"
      ]
    },
    {
      "cell_type": "markdown",
      "metadata": {
        "id": "swLUx3EC_Sn3"
      },
      "source": [
        "##1.3.Conectar com Bibliotecas"
      ]
    },
    {
      "cell_type": "markdown",
      "metadata": {
        "id": "Vs1k8FPfEQlq"
      },
      "source": [
        "###1.3.1.GCP"
      ]
    },
    {
      "cell_type": "code",
      "execution_count": null,
      "metadata": {
        "id": "eMDNtMpzETN_"
      },
      "outputs": [],
      "source": [
        "#Conecção com a GCP\n",
        "serviceAccount = '/content/key-store-via-colab.json'\n",
        "os.environ['GOOGLE_APPLICATION_CREDENTIALS'] = serviceAccount"
      ]
    },
    {
      "cell_type": "markdown",
      "metadata": {
        "id": "15LCQEwjEJCp"
      },
      "source": [
        "###1.3.2.Mongo"
      ]
    },
    {
      "cell_type": "code",
      "execution_count": null,
      "metadata": {
        "id": "U5-1mgUIAWTM"
      },
      "outputs": [],
      "source": [
        "#conector do Mongo Atlas\n",
        "uri = \"mongodb+srv://tatiana-soulcode.b3axd6p.mongodb.net/myFirstDatabase?authSource=%24external&authMechanism=MONGODB-X509\"\n",
        "client = MongoClient(uri, \n",
        "                     tls=True, \n",
        "                     tlsCertificateKeyFile='/content/X509-cert-6687991169241832104.pem')\n"
      ]
    },
    {
      "cell_type": "markdown",
      "metadata": {
        "id": "kyV0ZiBSEMoa"
      },
      "source": [
        "###1.3.3.Spark"
      ]
    },
    {
      "cell_type": "code",
      "execution_count": null,
      "metadata": {
        "id": "Xqq5NRSfEOMQ"
      },
      "outputs": [],
      "source": [
        "#CONFIGURAR A SPARK SESSION\n",
        "spark = (\n",
        "   SparkSession.builder\n",
        "               .master('local')\n",
        "               .appName('gcsfs') \n",
        "               .config('spark.ui.port', '4050')\n",
        "               .config(\"spark.jars\", 'https://storage.googleapis.com/hadoop-lib/gcs/gcs-connector-hadoop2-latest.jar') #config acesso conector gcp\n",
        "               .getOrCreate()                \n",
        ")\n",
        "   "
      ]
    },
    {
      "cell_type": "markdown",
      "metadata": {
        "id": "IIwiR3LsF-0g"
      },
      "source": [
        "#2.Load - Carregamento de dados originais - GCP e MongoDB"
      ]
    },
    {
      "cell_type": "markdown",
      "metadata": {
        "id": "sggN_ifOs_hl"
      },
      "source": [
        "##2.1.Carregando os arquivos Brutos para o Bucket"
      ]
    },
    {
      "cell_type": "code",
      "execution_count": null,
      "metadata": {
        "id": "b9ZwTXLpgj8V"
      },
      "outputs": [],
      "source": [
        "#Criar DF com arquivos\n",
        "df_01 = pd.read_csv('/content/D.SDA.PDA.005.CAT.202201.csv', sep=';',encoding = 'ISO-8859-1')\n",
        "#Enviar arquivo para Bucket\n",
        "df_01.to_csv('gs://projeto_cat/ORIGINAL/D.SDA.PDA.005.CAT.202201-ORIGINAL.csv', index=False)"
      ]
    },
    {
      "cell_type": "code",
      "execution_count": null,
      "metadata": {
        "id": "xDE6hvlrkf6X"
      },
      "outputs": [],
      "source": [
        "df_02 = pd.read_csv('/content/D.SDA.PDA.005.CAT.202204.csv', sep=';',encoding = 'ISO-8859-1')\n",
        "df_02.to_csv('gs://projeto_cat/ORIGINAL/D.SDA.PDA.005.CAT.202204-ORIGINAL.csv', index=False)"
      ]
    },
    {
      "cell_type": "code",
      "execution_count": null,
      "metadata": {
        "id": "6QkRU3gHkvuM"
      },
      "outputs": [],
      "source": [
        "df_03 = pd.read_csv('/content/D.SDA.PDA.005.CAT.202210.csv', sep=';',encoding = 'ISO-8859-1')\n",
        "df_03.to_csv('gs://projeto_cat/ORIGINAL/D.SDA.PDA.005.CAT.202210-ORIGINAL.csv', index=False)"
      ]
    },
    {
      "cell_type": "markdown",
      "metadata": {
        "id": "itK2OydHLroB"
      },
      "source": [
        "#3.Extract - Extração de dados do data lake"
      ]
    },
    {
      "cell_type": "code",
      "execution_count": null,
      "metadata": {
        "id": "WolTmmI_QB9o"
      },
      "outputs": [],
      "source": [
        "# DOWLOAND ARQUIVO 1 \n",
        "df_1 = pd.read_csv('gs://projeto_cat/ORIGINAL/D.SDA.PDA.005.CAT.202201-ORIGINAL.csv')\n",
        "# DOWLOAND ARQUIVO 2 \n",
        "df_2 = pd.read_csv('gs://projeto_cat/ORIGINAL/D.SDA.PDA.005.CAT.202204-ORIGINAL.csv')\n",
        "# DOWLOAND ARQUIVO 3 \n",
        "df_3 = pd.read_csv('gs://projeto_cat/ORIGINAL/D.SDA.PDA.005.CAT.202210-ORIGINAL.csv')"
      ]
    },
    {
      "cell_type": "code",
      "execution_count": null,
      "metadata": {
        "id": "O3iKb2qD5-nC"
      },
      "outputs": [],
      "source": [
        "#Para mostrar todas as colunas no display\n",
        "pd.set_option('display.max_columns',25)"
      ]
    },
    {
      "cell_type": "markdown",
      "metadata": {
        "id": "Jqm-Jl6mtGdz"
      },
      "source": [
        "##3.1Carregando os arquivos Brutos para o MongoDB"
      ]
    },
    {
      "cell_type": "markdown",
      "metadata": {
        "id": "0J4VfGmUvghG"
      },
      "source": [
        "###3.1.1.Tratamento de inconsistências para envio ao MongoDB"
      ]
    },
    {
      "cell_type": "markdown",
      "metadata": {
        "id": "5kLcqZYIDxLs"
      },
      "source": [
        "####3.1.1.1.Pre Analise para envio"
      ]
    },
    {
      "cell_type": "code",
      "execution_count": null,
      "metadata": {
        "id": "3Dozq2kJtT1Z"
      },
      "outputs": [],
      "source": [
        "#Replece de virgulas, espaços, barras e parênteses\n",
        "df_1.replace(['{', '}','\\('],'',regex=True,inplace=True)\n",
        "df_2.replace(['{', '}','\\('],'',regex=True,inplace=True)\n",
        "df_3.replace(['{', '}','\\('],'',regex=True,inplace=True)"
      ]
    },
    {
      "cell_type": "code",
      "execution_count": null,
      "metadata": {
        "id": "T_j9X0E5wGvg"
      },
      "outputs": [],
      "source": [
        "#Dividir o df_2 em dois DF para poder fazer ulpload para Mongo\n",
        "df_02_parte1 = df_02[0:40001]\n",
        "df_02_parte2 = df_02[40001:80001]\n",
        "df_02_parte3 = df_02[80001:89603]"
      ]
    },
    {
      "cell_type": "markdown",
      "metadata": {
        "id": "lXFfuI9GQhGl"
      },
      "source": [
        "###3.1.2.Carregamento do arquivo o MongoDB"
      ]
    },
    {
      "cell_type": "code",
      "execution_count": null,
      "metadata": {
        "id": "I5WhSB8DCYv_"
      },
      "outputs": [],
      "source": [
        "#Criar conexão\n",
        "db = client['CAT-PROJETO']"
      ]
    },
    {
      "cell_type": "code",
      "execution_count": null,
      "metadata": {
        "id": "A0FMFk9NyZc6"
      },
      "outputs": [],
      "source": [
        "#Criar e enviar coleção ORIGINAL  \n",
        "colecao_1 = db['D.SDA.PDA.005.CAT.202201-ORIGINAL']\n",
        "df1_dict = df_1.to_dict('records')\n",
        "# Inserindo os dados no mongodb\n",
        "colecao_1.insert_many(df1_dict)"
      ]
    },
    {
      "cell_type": "code",
      "execution_count": null,
      "metadata": {
        "id": "4brkk9LU1e-V"
      },
      "outputs": [],
      "source": [
        "colecao_2_parte1 = db['D.SDA.PDA.005.CAT.202204-PARTE1-ORIGINAL']\n",
        "df2_dict_parte1 = df_02_parte1.to_dict('records')\n",
        "colecao_2_parte1.insert_many(df2_dict_parte1)"
      ]
    },
    {
      "cell_type": "code",
      "execution_count": null,
      "metadata": {
        "id": "v3bWwMgm07Pu"
      },
      "outputs": [],
      "source": [
        "colecao_2_parte2 = db['D.SDA.PDA.005.CAT.202204-PARTE2-ORIGINAL']\n",
        "df2_dict_parte2 = df_02_parte2.to_dict('records')\n",
        "colecao_2_parte2.insert_many(df2_dict_parte2)"
      ]
    },
    {
      "cell_type": "code",
      "execution_count": null,
      "metadata": {
        "id": "qHn9UvQ---7T"
      },
      "outputs": [],
      "source": [
        "colecao_2_parte3 = db['D.SDA.PDA.005.CAT.202204-PARTE3-ORIGINAL']\n",
        "df2_dict_parte3 = df_02_parte3.to_dict('records')\n",
        "colecao_2_parte3.insert_many(df2_dict_parte3)"
      ]
    },
    {
      "cell_type": "code",
      "execution_count": null,
      "metadata": {
        "id": "63iwvmvd2eaE"
      },
      "outputs": [],
      "source": [
        "colecao_3 = db['D.SDA.PDA.005.CAT.202210-ORIGINAL']\n",
        "df3_dict = df_3.to_dict('records')\n",
        "colecao_3.insert_many(df3_dict)"
      ]
    },
    {
      "cell_type": "markdown",
      "metadata": {
        "id": "6evNU0MSiphz"
      },
      "source": [
        "#4.Transform - Tratamento utilizando Pandas e PySpark"
      ]
    },
    {
      "cell_type": "markdown",
      "metadata": {
        "id": "NQxoyqgDVYjx"
      },
      "source": [
        "##4.1.PANDAS "
      ]
    },
    {
      "cell_type": "markdown",
      "metadata": {
        "id": "ITHyWhh6RYPr"
      },
      "source": [
        "###4.1.1.Pre-Analise "
      ]
    },
    {
      "cell_type": "code",
      "execution_count": null,
      "metadata": {
        "id": "uBtrVh_3o5SM",
        "colab": {
          "base_uri": "https://localhost:8080/"
        },
        "outputId": "54425389-07a2-4805-c7ce-48a04055a035"
      },
      "outputs": [
        {
          "output_type": "execute_result",
          "data": {
            "text/plain": [
              "(152140, 24)"
            ]
          },
          "metadata": {},
          "execution_count": 19
        }
      ],
      "source": [
        "#Verificar quantidade de linhas e colunas\n",
        "df_1.shape"
      ]
    },
    {
      "cell_type": "code",
      "execution_count": null,
      "metadata": {
        "id": "yHiy6F6o1dhf",
        "colab": {
          "base_uri": "https://localhost:8080/"
        },
        "outputId": "faa6ae9d-ffdb-4223-9610-2680f98e8e03"
      },
      "outputs": [
        {
          "output_type": "stream",
          "name": "stdout",
          "text": [
            "<class 'pandas.core.frame.DataFrame'>\n",
            "RangeIndex: 152140 entries, 0 to 152139\n",
            "Data columns (total 24 columns):\n",
            " #   Column                       Non-Null Count   Dtype \n",
            "---  ------                       --------------   ----- \n",
            " 0   Agente  Causador  Acidente   152140 non-null  object\n",
            " 1   Data Acidente                152140 non-null  object\n",
            " 2   CBO                          152140 non-null  object\n",
            " 3   CID-10                       152140 non-null  object\n",
            " 4   CNAE2.0 Empregador           152140 non-null  int64 \n",
            " 5   CNAE2.0 Empregador.1         152140 non-null  object\n",
            " 6   Emitente CAT                 152140 non-null  object\n",
            " 7   Espécie do benefício         152140 non-null  object\n",
            " 8   Filiação Segurado            152140 non-null  object\n",
            " 9   Indica Óbito Acidente        152140 non-null  object\n",
            " 10  Munic Empr                   152140 non-null  object\n",
            " 11  Natureza da Lesão            152140 non-null  object\n",
            " 12  Origem de Cadastramento CAT  152140 non-null  object\n",
            " 13  Parte Corpo Atingida         152140 non-null  object\n",
            " 14  Sexo                         152140 non-null  object\n",
            " 15  Tipo do Acidente             152140 non-null  object\n",
            " 16  UF  Munic.  Acidente         152140 non-null  object\n",
            " 17  UF Munic. Empregador         152140 non-null  object\n",
            " 18  Data Acidente.1              152140 non-null  object\n",
            " 19  Data Despacho Benefício      152140 non-null  object\n",
            " 20  Data Acidente.2              152140 non-null  object\n",
            " 21  Data Nascimento              152140 non-null  object\n",
            " 22  Data Emissão CAT             152140 non-null  object\n",
            " 23  CNPJ/CEI Empregador          152140 non-null  object\n",
            "dtypes: int64(1), object(23)\n",
            "memory usage: 27.9+ MB\n"
          ]
        }
      ],
      "source": [
        "#Informações sobre as colunas\n",
        "df_1.info()"
      ]
    },
    {
      "cell_type": "code",
      "execution_count": null,
      "metadata": {
        "id": "4PANa_MfQ6gA",
        "colab": {
          "base_uri": "https://localhost:8080/"
        },
        "outputId": "4fe9c859-fa87-491b-9b0c-f1f03a26cfd2"
      },
      "outputs": [
        {
          "output_type": "execute_result",
          "data": {
            "text/plain": [
              "Agente  Causador  Acidente     object\n",
              "Data Acidente                  object\n",
              "CBO                            object\n",
              "CID-10                         object\n",
              "CNAE2.0 Empregador              int64\n",
              "CNAE2.0 Empregador.1           object\n",
              "Emitente CAT                   object\n",
              "Espécie do benefício           object\n",
              "Filiação Segurado              object\n",
              "Indica Óbito Acidente          object\n",
              "Munic Empr                     object\n",
              "Natureza da Lesão              object\n",
              "Origem de Cadastramento CAT    object\n",
              "Parte Corpo Atingida           object\n",
              "Sexo                           object\n",
              "Tipo do Acidente               object\n",
              "UF  Munic.  Acidente           object\n",
              "UF Munic. Empregador           object\n",
              "Data Acidente.1                object\n",
              "Data Despacho Benefício        object\n",
              "Data Acidente.2                object\n",
              "Data Nascimento                object\n",
              "Data Emissão CAT               object\n",
              "CNPJ/CEI Empregador            object\n",
              "dtype: object"
            ]
          },
          "metadata": {},
          "execution_count": 21
        }
      ],
      "source": [
        "#Tipos de colunas previmente\n",
        "df_1.dtypes"
      ]
    },
    {
      "cell_type": "code",
      "execution_count": null,
      "metadata": {
        "id": "66lnwWSuC2ll",
        "colab": {
          "base_uri": "https://localhost:8080/"
        },
        "outputId": "e223ee75-c590-4f0b-9ceb-19d99df74e0e"
      },
      "outputs": [
        {
          "output_type": "execute_result",
          "data": {
            "text/plain": [
              "Agente  Causador  Acidente     Rua e Estrada - Superficie Utilizada para Sus\n",
              "Data Acidente                                                        2022/05\n",
              "CBO                            371410-Recreador                             \n",
              "CID-10                         M54.5 Dor Lombar Baixa                       \n",
              "CNAE2.0 Empregador                                                      8411\n",
              "CNAE2.0 Empregador.1           Administracao Publica em Geral               \n",
              "Emitente CAT                                             Empregador         \n",
              "Espécie do benefício           Pa                                           \n",
              "Filiação Segurado              Empregado                                    \n",
              "Indica Óbito Acidente                                                    Não\n",
              "Munic Empr                         500270-Campo Grande-Ms                   \n",
              "Natureza da Lesão              Lesao Imediata                               \n",
              "Origem de Cadastramento CAT                                         Internet\n",
              "Parte Corpo Atingida            Quadris Inclusive Pelvis, Orgaos Pelvicos E \n",
              "Sexo                                                           Feminino     \n",
              "Tipo do Acidente                                                    Típico  \n",
              "UF  Munic.  Acidente                                          ñ class       \n",
              "UF Munic. Empregador                                     Mato Grosso do Sul \n",
              "Data Acidente.1                                                      2022/05\n",
              "Data Despacho Benefício                                              0000/00\n",
              "Data Acidente.2                                                   30/05/2022\n",
              "Data Nascimento                                                   05/11/1969\n",
              "Data Emissão CAT                                                  17/06/2022\n",
              "CNPJ/CEI Empregador                                       03.501.509.000.106\n",
              "Name: 26604, dtype: object"
            ]
          },
          "metadata": {},
          "execution_count": 22
        }
      ],
      "source": [
        "#Localiza uma coluna em especifico\n",
        "df_2.iloc[26604] "
      ]
    },
    {
      "cell_type": "code",
      "execution_count": null,
      "metadata": {
        "id": "T1eGs68T5tu_",
        "colab": {
          "base_uri": "https://localhost:8080/",
          "height": 367
        },
        "outputId": "f1450627-9a66-4e53-ec05-55b2437479ec"
      },
      "outputs": [
        {
          "output_type": "execute_result",
          "data": {
            "text/plain": [
              "                      Agente  Causador  Acidente Data Acidente  \\\n",
              "0    ñ class                                           2022/01   \n",
              "1  Motocicleta, Motoneta                               2022/02   \n",
              "\n",
              "                                             CBO  \\\n",
              "0  515105-Agente Comunitário de Saúde              \n",
              "1  519110-Motociclista no Transporte de Document   \n",
              "\n",
              "                                          CID-10  CNAE2.0 Empregador  \\\n",
              "0  B34.2 Infecc p/Coronavirus Ne                                8630   \n",
              "1  S52.5 Frat da Extremidade Distal do Radio                    4930   \n",
              "\n",
              "                            CNAE2.0 Empregador.1         Emitente CAT  \\\n",
              "0  Atividades de Atencao Ambulatorial Executadas  Empregador            \n",
              "1  Transporte Rodoviario de Carga                 Segurado/Dependente   \n",
              "\n",
              "                            Espécie do benefício  \\\n",
              "0  Pa                                              \n",
              "1  Pa                                              \n",
              "\n",
              "                               Filiação Segurado Indica Óbito Acidente  \\\n",
              "0  Empregado                                                       Não   \n",
              "1  Empregado                                                       Não   \n",
              "\n",
              "                                  Munic Empr  \\\n",
              "0  354780-Santo André-Sp                       \n",
              "1  355030-São Paulo                            \n",
              "\n",
              "                               Natureza da Lesão Origem de Cadastramento CAT  \\\n",
              "0   Doenca Contagiosa ou Infecciosa Tuberculos                      Internet   \n",
              "1  Fratura                                                          Internet   \n",
              "\n",
              "                            Parte Corpo Atingida           Sexo  \\\n",
              "0  Aparelho Respiratorio                          Feminino        \n",
              "1   Braco Entre O Punho a O Ombro)                Masculino       \n",
              "\n",
              "  Tipo do Acidente UF  Munic.  Acidente UF Munic. Empregador Data Acidente.1  \\\n",
              "0         Doença       Maranhão          São Paulo                   2022/01   \n",
              "1         Trajeto      Maranhão          São Paulo                   2022/02   \n",
              "\n",
              "  Data Despacho Benefício Data Acidente.2 Data Nascimento Data Emissão CAT  \\\n",
              "0                 0000/00      20/01/2022      02/08/1970       01/03/2022   \n",
              "1                 0000/00      25/02/2022      16/12/1990       01/03/2022   \n",
              "\n",
              "  CNPJ/CEI Empregador  \n",
              "0  57.571.275.002.570  \n",
              "1  19.578.086.000.162  "
            ],
            "text/html": [
              "\n",
              "  <div id=\"df-ebee2b9d-3661-491b-8d89-48562b9aad77\">\n",
              "    <div class=\"colab-df-container\">\n",
              "      <div>\n",
              "<style scoped>\n",
              "    .dataframe tbody tr th:only-of-type {\n",
              "        vertical-align: middle;\n",
              "    }\n",
              "\n",
              "    .dataframe tbody tr th {\n",
              "        vertical-align: top;\n",
              "    }\n",
              "\n",
              "    .dataframe thead th {\n",
              "        text-align: right;\n",
              "    }\n",
              "</style>\n",
              "<table border=\"1\" class=\"dataframe\">\n",
              "  <thead>\n",
              "    <tr style=\"text-align: right;\">\n",
              "      <th></th>\n",
              "      <th>Agente  Causador  Acidente</th>\n",
              "      <th>Data Acidente</th>\n",
              "      <th>CBO</th>\n",
              "      <th>CID-10</th>\n",
              "      <th>CNAE2.0 Empregador</th>\n",
              "      <th>CNAE2.0 Empregador.1</th>\n",
              "      <th>Emitente CAT</th>\n",
              "      <th>Espécie do benefício</th>\n",
              "      <th>Filiação Segurado</th>\n",
              "      <th>Indica Óbito Acidente</th>\n",
              "      <th>Munic Empr</th>\n",
              "      <th>Natureza da Lesão</th>\n",
              "      <th>Origem de Cadastramento CAT</th>\n",
              "      <th>Parte Corpo Atingida</th>\n",
              "      <th>Sexo</th>\n",
              "      <th>Tipo do Acidente</th>\n",
              "      <th>UF  Munic.  Acidente</th>\n",
              "      <th>UF Munic. Empregador</th>\n",
              "      <th>Data Acidente.1</th>\n",
              "      <th>Data Despacho Benefício</th>\n",
              "      <th>Data Acidente.2</th>\n",
              "      <th>Data Nascimento</th>\n",
              "      <th>Data Emissão CAT</th>\n",
              "      <th>CNPJ/CEI Empregador</th>\n",
              "    </tr>\n",
              "  </thead>\n",
              "  <tbody>\n",
              "    <tr>\n",
              "      <th>0</th>\n",
              "      <td>ñ class</td>\n",
              "      <td>2022/01</td>\n",
              "      <td>515105-Agente Comunitário de Saúde</td>\n",
              "      <td>B34.2 Infecc p/Coronavirus Ne</td>\n",
              "      <td>8630</td>\n",
              "      <td>Atividades de Atencao Ambulatorial Executadas</td>\n",
              "      <td>Empregador</td>\n",
              "      <td>Pa</td>\n",
              "      <td>Empregado</td>\n",
              "      <td>Não</td>\n",
              "      <td>354780-Santo André-Sp</td>\n",
              "      <td>Doenca Contagiosa ou Infecciosa Tuberculos</td>\n",
              "      <td>Internet</td>\n",
              "      <td>Aparelho Respiratorio</td>\n",
              "      <td>Feminino</td>\n",
              "      <td>Doença</td>\n",
              "      <td>Maranhão</td>\n",
              "      <td>São Paulo</td>\n",
              "      <td>2022/01</td>\n",
              "      <td>0000/00</td>\n",
              "      <td>20/01/2022</td>\n",
              "      <td>02/08/1970</td>\n",
              "      <td>01/03/2022</td>\n",
              "      <td>57.571.275.002.570</td>\n",
              "    </tr>\n",
              "    <tr>\n",
              "      <th>1</th>\n",
              "      <td>Motocicleta, Motoneta</td>\n",
              "      <td>2022/02</td>\n",
              "      <td>519110-Motociclista no Transporte de Document</td>\n",
              "      <td>S52.5 Frat da Extremidade Distal do Radio</td>\n",
              "      <td>4930</td>\n",
              "      <td>Transporte Rodoviario de Carga</td>\n",
              "      <td>Segurado/Dependente</td>\n",
              "      <td>Pa</td>\n",
              "      <td>Empregado</td>\n",
              "      <td>Não</td>\n",
              "      <td>355030-São Paulo</td>\n",
              "      <td>Fratura</td>\n",
              "      <td>Internet</td>\n",
              "      <td>Braco Entre O Punho a O Ombro)</td>\n",
              "      <td>Masculino</td>\n",
              "      <td>Trajeto</td>\n",
              "      <td>Maranhão</td>\n",
              "      <td>São Paulo</td>\n",
              "      <td>2022/02</td>\n",
              "      <td>0000/00</td>\n",
              "      <td>25/02/2022</td>\n",
              "      <td>16/12/1990</td>\n",
              "      <td>01/03/2022</td>\n",
              "      <td>19.578.086.000.162</td>\n",
              "    </tr>\n",
              "  </tbody>\n",
              "</table>\n",
              "</div>\n",
              "      <button class=\"colab-df-convert\" onclick=\"convertToInteractive('df-ebee2b9d-3661-491b-8d89-48562b9aad77')\"\n",
              "              title=\"Convert this dataframe to an interactive table.\"\n",
              "              style=\"display:none;\">\n",
              "        \n",
              "  <svg xmlns=\"http://www.w3.org/2000/svg\" height=\"24px\"viewBox=\"0 0 24 24\"\n",
              "       width=\"24px\">\n",
              "    <path d=\"M0 0h24v24H0V0z\" fill=\"none\"/>\n",
              "    <path d=\"M18.56 5.44l.94 2.06.94-2.06 2.06-.94-2.06-.94-.94-2.06-.94 2.06-2.06.94zm-11 1L8.5 8.5l.94-2.06 2.06-.94-2.06-.94L8.5 2.5l-.94 2.06-2.06.94zm10 10l.94 2.06.94-2.06 2.06-.94-2.06-.94-.94-2.06-.94 2.06-2.06.94z\"/><path d=\"M17.41 7.96l-1.37-1.37c-.4-.4-.92-.59-1.43-.59-.52 0-1.04.2-1.43.59L10.3 9.45l-7.72 7.72c-.78.78-.78 2.05 0 2.83L4 21.41c.39.39.9.59 1.41.59.51 0 1.02-.2 1.41-.59l7.78-7.78 2.81-2.81c.8-.78.8-2.07 0-2.86zM5.41 20L4 18.59l7.72-7.72 1.47 1.35L5.41 20z\"/>\n",
              "  </svg>\n",
              "      </button>\n",
              "      \n",
              "  <style>\n",
              "    .colab-df-container {\n",
              "      display:flex;\n",
              "      flex-wrap:wrap;\n",
              "      gap: 12px;\n",
              "    }\n",
              "\n",
              "    .colab-df-convert {\n",
              "      background-color: #E8F0FE;\n",
              "      border: none;\n",
              "      border-radius: 50%;\n",
              "      cursor: pointer;\n",
              "      display: none;\n",
              "      fill: #1967D2;\n",
              "      height: 32px;\n",
              "      padding: 0 0 0 0;\n",
              "      width: 32px;\n",
              "    }\n",
              "\n",
              "    .colab-df-convert:hover {\n",
              "      background-color: #E2EBFA;\n",
              "      box-shadow: 0px 1px 2px rgba(60, 64, 67, 0.3), 0px 1px 3px 1px rgba(60, 64, 67, 0.15);\n",
              "      fill: #174EA6;\n",
              "    }\n",
              "\n",
              "    [theme=dark] .colab-df-convert {\n",
              "      background-color: #3B4455;\n",
              "      fill: #D2E3FC;\n",
              "    }\n",
              "\n",
              "    [theme=dark] .colab-df-convert:hover {\n",
              "      background-color: #434B5C;\n",
              "      box-shadow: 0px 1px 3px 1px rgba(0, 0, 0, 0.15);\n",
              "      filter: drop-shadow(0px 1px 2px rgba(0, 0, 0, 0.3));\n",
              "      fill: #FFFFFF;\n",
              "    }\n",
              "  </style>\n",
              "\n",
              "      <script>\n",
              "        const buttonEl =\n",
              "          document.querySelector('#df-ebee2b9d-3661-491b-8d89-48562b9aad77 button.colab-df-convert');\n",
              "        buttonEl.style.display =\n",
              "          google.colab.kernel.accessAllowed ? 'block' : 'none';\n",
              "\n",
              "        async function convertToInteractive(key) {\n",
              "          const element = document.querySelector('#df-ebee2b9d-3661-491b-8d89-48562b9aad77');\n",
              "          const dataTable =\n",
              "            await google.colab.kernel.invokeFunction('convertToInteractive',\n",
              "                                                     [key], {});\n",
              "          if (!dataTable) return;\n",
              "\n",
              "          const docLinkHtml = 'Like what you see? Visit the ' +\n",
              "            '<a target=\"_blank\" href=https://colab.research.google.com/notebooks/data_table.ipynb>data table notebook</a>'\n",
              "            + ' to learn more about interactive tables.';\n",
              "          element.innerHTML = '';\n",
              "          dataTable['output_type'] = 'display_data';\n",
              "          await google.colab.output.renderOutput(dataTable, element);\n",
              "          const docLink = document.createElement('div');\n",
              "          docLink.innerHTML = docLinkHtml;\n",
              "          element.appendChild(docLink);\n",
              "        }\n",
              "      </script>\n",
              "    </div>\n",
              "  </div>\n",
              "  "
            ]
          },
          "metadata": {},
          "execution_count": 23
        }
      ],
      "source": [
        "#Verificação do DF\n",
        "df_1.head(2)"
      ]
    },
    {
      "cell_type": "code",
      "execution_count": null,
      "metadata": {
        "id": "1FZjnCee6O2u",
        "colab": {
          "base_uri": "https://localhost:8080/"
        },
        "outputId": "1941dcb5-4212-4ff9-c842-f079405f7b52"
      },
      "outputs": [
        {
          "output_type": "execute_result",
          "data": {
            "text/plain": [
              "Agente  Causador  Acidente     0\n",
              "Data Acidente                  0\n",
              "CBO                            0\n",
              "CID-10                         0\n",
              "CNAE2.0 Empregador             0\n",
              "CNAE2.0 Empregador.1           0\n",
              "Emitente CAT                   0\n",
              "Espécie do benefício           0\n",
              "Filiação Segurado              0\n",
              "Indica Óbito Acidente          0\n",
              "Munic Empr                     0\n",
              "Natureza da Lesão              0\n",
              "Origem de Cadastramento CAT    0\n",
              "Parte Corpo Atingida           0\n",
              "Sexo                           0\n",
              "Tipo do Acidente               0\n",
              "UF  Munic.  Acidente           0\n",
              "UF Munic. Empregador           0\n",
              "Data Acidente.1                0\n",
              "Data Despacho Benefício        0\n",
              "Data Acidente.2                0\n",
              "Data Nascimento                0\n",
              "Data Emissão CAT               0\n",
              "CNPJ/CEI Empregador            0\n",
              "dtype: int64"
            ]
          },
          "metadata": {},
          "execution_count": 24
        }
      ],
      "source": [
        "#Colunas nulas\n",
        "df_3.isnull().sum()"
      ]
    },
    {
      "cell_type": "code",
      "execution_count": null,
      "metadata": {
        "id": "7Qg9h9xf6aYE",
        "colab": {
          "base_uri": "https://localhost:8080/"
        },
        "outputId": "78755412-db20-40da-de57-0415ba49733e"
      },
      "outputs": [
        {
          "output_type": "execute_result",
          "data": {
            "text/plain": [
              "Agente  Causador  Acidente       294\n",
              "Data Acidente                      6\n",
              "CBO                             1523\n",
              "CID-10                          2932\n",
              "CNAE2.0 Empregador               809\n",
              "CNAE2.0 Empregador.1             607\n",
              "Emitente CAT                       6\n",
              "Espécie do benefício               5\n",
              "Filiação Segurado                  4\n",
              "Indica Óbito Acidente              3\n",
              "Munic Empr                      2889\n",
              "Natureza da Lesão                 30\n",
              "Origem de Cadastramento CAT        2\n",
              "Parte Corpo Atingida              46\n",
              "Sexo                               4\n",
              "Tipo do Acidente                   4\n",
              "UF  Munic.  Acidente              17\n",
              "UF Munic. Empregador              28\n",
              "Data Acidente.1                    6\n",
              "Data Despacho Benefício            8\n",
              "Data Acidente.2                  181\n",
              "Data Nascimento                17628\n",
              "Data Emissão CAT                  62\n",
              "CNPJ/CEI Empregador            14662\n",
              "dtype: int64"
            ]
          },
          "metadata": {},
          "execution_count": 25
        }
      ],
      "source": [
        "#Quantidade de itens unicos nas colunas\n",
        "df_1.nunique()"
      ]
    },
    {
      "cell_type": "code",
      "execution_count": null,
      "metadata": {
        "id": "CvcgjVTGqAKX",
        "colab": {
          "base_uri": "https://localhost:8080/",
          "height": 81
        },
        "outputId": "d10984d0-648b-49f1-b2b8-7c380b0ca4c4"
      },
      "outputs": [
        {
          "output_type": "execute_result",
          "data": {
            "text/plain": [
              "                       count        mean          std  min  25%     50%  \\\n",
              "CNAE2.0 Empregador  152140.0  3307.76728  3265.341558  0.0  0.0  2599.0   \n",
              "\n",
              "                       75%     max  \n",
              "CNAE2.0 Empregador  5320.0  9999.0  "
            ],
            "text/html": [
              "\n",
              "  <div id=\"df-168bb4c2-96ce-4312-9376-40b707b48f3f\">\n",
              "    <div class=\"colab-df-container\">\n",
              "      <div>\n",
              "<style scoped>\n",
              "    .dataframe tbody tr th:only-of-type {\n",
              "        vertical-align: middle;\n",
              "    }\n",
              "\n",
              "    .dataframe tbody tr th {\n",
              "        vertical-align: top;\n",
              "    }\n",
              "\n",
              "    .dataframe thead th {\n",
              "        text-align: right;\n",
              "    }\n",
              "</style>\n",
              "<table border=\"1\" class=\"dataframe\">\n",
              "  <thead>\n",
              "    <tr style=\"text-align: right;\">\n",
              "      <th></th>\n",
              "      <th>count</th>\n",
              "      <th>mean</th>\n",
              "      <th>std</th>\n",
              "      <th>min</th>\n",
              "      <th>25%</th>\n",
              "      <th>50%</th>\n",
              "      <th>75%</th>\n",
              "      <th>max</th>\n",
              "    </tr>\n",
              "  </thead>\n",
              "  <tbody>\n",
              "    <tr>\n",
              "      <th>CNAE2.0 Empregador</th>\n",
              "      <td>152140.0</td>\n",
              "      <td>3307.76728</td>\n",
              "      <td>3265.341558</td>\n",
              "      <td>0.0</td>\n",
              "      <td>0.0</td>\n",
              "      <td>2599.0</td>\n",
              "      <td>5320.0</td>\n",
              "      <td>9999.0</td>\n",
              "    </tr>\n",
              "  </tbody>\n",
              "</table>\n",
              "</div>\n",
              "      <button class=\"colab-df-convert\" onclick=\"convertToInteractive('df-168bb4c2-96ce-4312-9376-40b707b48f3f')\"\n",
              "              title=\"Convert this dataframe to an interactive table.\"\n",
              "              style=\"display:none;\">\n",
              "        \n",
              "  <svg xmlns=\"http://www.w3.org/2000/svg\" height=\"24px\"viewBox=\"0 0 24 24\"\n",
              "       width=\"24px\">\n",
              "    <path d=\"M0 0h24v24H0V0z\" fill=\"none\"/>\n",
              "    <path d=\"M18.56 5.44l.94 2.06.94-2.06 2.06-.94-2.06-.94-.94-2.06-.94 2.06-2.06.94zm-11 1L8.5 8.5l.94-2.06 2.06-.94-2.06-.94L8.5 2.5l-.94 2.06-2.06.94zm10 10l.94 2.06.94-2.06 2.06-.94-2.06-.94-.94-2.06-.94 2.06-2.06.94z\"/><path d=\"M17.41 7.96l-1.37-1.37c-.4-.4-.92-.59-1.43-.59-.52 0-1.04.2-1.43.59L10.3 9.45l-7.72 7.72c-.78.78-.78 2.05 0 2.83L4 21.41c.39.39.9.59 1.41.59.51 0 1.02-.2 1.41-.59l7.78-7.78 2.81-2.81c.8-.78.8-2.07 0-2.86zM5.41 20L4 18.59l7.72-7.72 1.47 1.35L5.41 20z\"/>\n",
              "  </svg>\n",
              "      </button>\n",
              "      \n",
              "  <style>\n",
              "    .colab-df-container {\n",
              "      display:flex;\n",
              "      flex-wrap:wrap;\n",
              "      gap: 12px;\n",
              "    }\n",
              "\n",
              "    .colab-df-convert {\n",
              "      background-color: #E8F0FE;\n",
              "      border: none;\n",
              "      border-radius: 50%;\n",
              "      cursor: pointer;\n",
              "      display: none;\n",
              "      fill: #1967D2;\n",
              "      height: 32px;\n",
              "      padding: 0 0 0 0;\n",
              "      width: 32px;\n",
              "    }\n",
              "\n",
              "    .colab-df-convert:hover {\n",
              "      background-color: #E2EBFA;\n",
              "      box-shadow: 0px 1px 2px rgba(60, 64, 67, 0.3), 0px 1px 3px 1px rgba(60, 64, 67, 0.15);\n",
              "      fill: #174EA6;\n",
              "    }\n",
              "\n",
              "    [theme=dark] .colab-df-convert {\n",
              "      background-color: #3B4455;\n",
              "      fill: #D2E3FC;\n",
              "    }\n",
              "\n",
              "    [theme=dark] .colab-df-convert:hover {\n",
              "      background-color: #434B5C;\n",
              "      box-shadow: 0px 1px 3px 1px rgba(0, 0, 0, 0.15);\n",
              "      filter: drop-shadow(0px 1px 2px rgba(0, 0, 0, 0.3));\n",
              "      fill: #FFFFFF;\n",
              "    }\n",
              "  </style>\n",
              "\n",
              "      <script>\n",
              "        const buttonEl =\n",
              "          document.querySelector('#df-168bb4c2-96ce-4312-9376-40b707b48f3f button.colab-df-convert');\n",
              "        buttonEl.style.display =\n",
              "          google.colab.kernel.accessAllowed ? 'block' : 'none';\n",
              "\n",
              "        async function convertToInteractive(key) {\n",
              "          const element = document.querySelector('#df-168bb4c2-96ce-4312-9376-40b707b48f3f');\n",
              "          const dataTable =\n",
              "            await google.colab.kernel.invokeFunction('convertToInteractive',\n",
              "                                                     [key], {});\n",
              "          if (!dataTable) return;\n",
              "\n",
              "          const docLinkHtml = 'Like what you see? Visit the ' +\n",
              "            '<a target=\"_blank\" href=https://colab.research.google.com/notebooks/data_table.ipynb>data table notebook</a>'\n",
              "            + ' to learn more about interactive tables.';\n",
              "          element.innerHTML = '';\n",
              "          dataTable['output_type'] = 'display_data';\n",
              "          await google.colab.output.renderOutput(dataTable, element);\n",
              "          const docLink = document.createElement('div');\n",
              "          docLink.innerHTML = docLinkHtml;\n",
              "          element.appendChild(docLink);\n",
              "        }\n",
              "      </script>\n",
              "    </div>\n",
              "  </div>\n",
              "  "
            ]
          },
          "metadata": {},
          "execution_count": 26
        }
      ],
      "source": [
        "#oreve porcentagem\n",
        "df_1.describe().T"
      ]
    },
    {
      "cell_type": "code",
      "execution_count": null,
      "metadata": {
        "id": "i7t7PNlQNtRk"
      },
      "outputs": [],
      "source": [
        "#pARA ACHAR O 0000 DO data\n",
        "sorted(pd.unique(df_3['Data Acidente.2']))"
      ]
    },
    {
      "cell_type": "markdown",
      "metadata": {
        "id": "fi97c3xwqT5T"
      },
      "source": [
        "Concluões iniciais:\n",
        "\n",
        "\n",
        "--- MODIFICAR USAR ESSA COMO EXPLO\n",
        "- ENCONTRADA DATA DE NADSCIMENTO 00/00\n",
        "- CNPJ 000 MUDAR\n",
        "- COLUNAS DATA ACIDENTE E DATA ACIENDEN 02 REPETINDO \n",
        "- MODIFICAR OS TYPOS DAS COLUNAS COM DATAS\n",
        "- \n"
      ]
    },
    {
      "cell_type": "markdown",
      "metadata": {
        "id": "o4x1SrdQT-XZ"
      },
      "source": [
        "###4.1.2.Tratamento"
      ]
    },
    {
      "cell_type": "code",
      "execution_count": null,
      "metadata": {
        "id": "qd9VlL0YCjCV"
      },
      "outputs": [],
      "source": [
        "#Junção dos DataFrames\n",
        "geral = [df_1,df_2,df_3]\n",
        "df_geral = pd.concat(geral)"
      ]
    },
    {
      "cell_type": "code",
      "execution_count": null,
      "metadata": {
        "id": "FItA2z84Ird1",
        "colab": {
          "base_uri": "https://localhost:8080/"
        },
        "outputId": "93d740f1-756f-4b55-a59b-b8cf78f3bb0a"
      },
      "outputs": [
        {
          "output_type": "execute_result",
          "data": {
            "text/plain": [
              "(257401, 24)"
            ]
          },
          "metadata": {},
          "execution_count": 29
        }
      ],
      "source": [
        "df_geral.shape"
      ]
    },
    {
      "cell_type": "code",
      "source": [
        "df_geral"
      ],
      "metadata": {
        "id": "hk-yjy_FpwL-",
        "colab": {
          "base_uri": "https://localhost:8080/",
          "height": 1000
        },
        "outputId": "08b71e38-99c0-4ba5-ba3c-d0cfd0071a11"
      },
      "execution_count": null,
      "outputs": [
        {
          "output_type": "execute_result",
          "data": {
            "text/plain": [
              "                          Agente  Causador  Acidente Data Acidente  \\\n",
              "0        ñ class                                           2022/01   \n",
              "1      Motocicleta, Motoneta                               2022/02   \n",
              "2      Motocicleta, Motoneta                               2022/02   \n",
              "3      Aprision. Em, Sobre ou Entre Dois ou Mai            2022/02   \n",
              "4      Impacto de Pes. Contra Objeto em Movimento          2022/01   \n",
              "...                                              ...           ...   \n",
              "15654  Piso de Edificio - Superficie Utilizada Para        2022/09   \n",
              "15655  Escada Permanente Cujos Degraus Permitem Apoi       2022/10   \n",
              "15656  Andaime, Plataforma - Edificio ou Estrutura         2022/09   \n",
              "15657  Martelo, Malho, Marreta- Ferramenta Manual Se       2022/10   \n",
              "15658  Impacto de Pes. Contra Objeto Parado                2022/10   \n",
              "\n",
              "                                                 CBO  \\\n",
              "0      515105-Agente Comunitário de Saúde              \n",
              "1      519110-Motociclista no Transporte de Document   \n",
              "2      519110-Motociclista no Transporte de Document   \n",
              "3      514205-Coletor Lixo                             \n",
              "4        ñ class                                       \n",
              "...                                              ...   \n",
              "15654    ñ class                                       \n",
              "15655  232130-Prof. Física no Ensino Médio             \n",
              "15656  517330-Vigilante                                \n",
              "15657  724315-Soldador                                 \n",
              "15658  721215-Oper. Máquinas-Ferramenta Convencionai   \n",
              "\n",
              "                                              CID-10  CNAE2.0 Empregador  \\\n",
              "0      B34.2 Infecc p/Coronavirus Ne                                8630   \n",
              "1      S52.5 Frat da Extremidade Distal do Radio                    4930   \n",
              "2      S52.5 Frat da Extremidade Distal do Radio                    4930   \n",
              "3      S60.0 Contusao de Dedos s/Lesao da Unha                      3811   \n",
              "4      S90.0 Contusao do Tornozelo                                  4639   \n",
              "...                                              ...                 ...   \n",
              "15654  S62   Frat ao Nivel do Punho e da Mao                        2330   \n",
              "15655  S82   Frat da Perna Incl Tornozelo                           8520   \n",
              "15656  S82.7 Frat Mult da Perna                                     8112   \n",
              "15657  S62.6 Frat de Outr Dedos                                     7112   \n",
              "15658  S62.3 Frat de Outr Ossos do Metacarpo                        2815   \n",
              "\n",
              "                                CNAE2.0 Empregador.1         Emitente CAT  \\\n",
              "0      Atividades de Atencao Ambulatorial Executadas  Empregador            \n",
              "1      Transporte Rodoviario de Carga                 Segurado/Dependente   \n",
              "2      Transporte Rodoviario de Carga                 Segurado/Dependente   \n",
              "3      Coleta de Residuos Nao-Perigosos               Empregador            \n",
              "4      Comercio Atacadista de Produtos Alimenticios   Empregador            \n",
              "...                                              ...                  ...   \n",
              "15654  Fabricacao de Artefatos de Concreto, Cimento,    ñ class             \n",
              "15655  Ensino Medio                                   Autoridade Pública    \n",
              "15656  Condominios Prediais                           Segurado/Dependente   \n",
              "15657  Servicos de Engenharia                         Empregador            \n",
              "15658  Fabricacao de Equipamentos de Transmissao par  Segurado/Dependente   \n",
              "\n",
              "                                Espécie do benefício  \\\n",
              "0      Pa                                              \n",
              "1      Pa                                              \n",
              "2      Pa                                              \n",
              "3      Pa                                              \n",
              "4      Pa                                              \n",
              "...                                              ...   \n",
              "15654  Auxílio Doenca por Acidente do Trabalho         \n",
              "15655  Auxílio Doenca por Acidente do Trabalho         \n",
              "15656  Auxílio Doenca por Acidente do Trabalho         \n",
              "15657  Auxílio Doenca por Acidente do Trabalho         \n",
              "15658  Auxílio Doenca por Acidente do Trabalho         \n",
              "\n",
              "                                   Filiação Segurado Indica Óbito Acidente  \\\n",
              "0      Empregado                                                       Não   \n",
              "1      Empregado                                                       Não   \n",
              "2      Empregado                                                       Não   \n",
              "3      Empregado                                                       Não   \n",
              "4      Empregado                                                       Não   \n",
              "...                                              ...                   ...   \n",
              "15654  Empregado                                                       Não   \n",
              "15655  Empregado                                                       Não   \n",
              "15656  Empregado                                                       Não   \n",
              "15657  Empregado                                                       Não   \n",
              "15658  Empregado                                                       Não   \n",
              "\n",
              "                                      Munic Empr  \\\n",
              "0      354780-Santo André-Sp                       \n",
              "1      355030-São Paulo                            \n",
              "2      355030-São Paulo                            \n",
              "3      520110-Anápolis                             \n",
              "4      330100-Campos dos Goytacazes                \n",
              "...                                          ...   \n",
              "15654  410960-Guaratuba                            \n",
              "15655  410690-Curitiba                             \n",
              "15656  420460-Criciúma                             \n",
              "15657  411000-Iguaraçu                             \n",
              "15658  353130-Monte Alto                           \n",
              "\n",
              "                                   Natureza da Lesão  \\\n",
              "0       Doenca Contagiosa ou Infecciosa Tuberculos     \n",
              "1      Fratura                                         \n",
              "2      Fratura                                         \n",
              "3      Luxacao                                         \n",
              "4      Luxacao                                         \n",
              "...                                              ...   \n",
              "15654  Lesao Imediata                                  \n",
              "15655  Fratura                                         \n",
              "15656  Fratura                                         \n",
              "15657  Fratura                                         \n",
              "15658  Fratura                                         \n",
              "\n",
              "      Origem de Cadastramento CAT  \\\n",
              "0                        Internet   \n",
              "1                        Internet   \n",
              "2                        Internet   \n",
              "3                        Internet   \n",
              "4                        Internet   \n",
              "...                           ...   \n",
              "15654                    Internet   \n",
              "15655                    Internet   \n",
              "15656                    Internet   \n",
              "15657                    Internet   \n",
              "15658                    Internet   \n",
              "\n",
              "                                Parte Corpo Atingida           Sexo  \\\n",
              "0      Aparelho Respiratorio                          Feminino        \n",
              "1       Braco Entre O Punho a O Ombro)                Masculino       \n",
              "2       Braco Entre O Punho a O Ombro)                Masculino       \n",
              "3      Punho                                          Masculino       \n",
              "4       Perna Entre O Tornozelo e a Pelvis)           Masculino       \n",
              "...                                              ...            ...   \n",
              "15654   Mao Exceto Punho ou Dedos)                    Masculino       \n",
              "15655   Perna Do Tornozelo, Exclusive, ao Joelho, Ex  Feminino        \n",
              "15656   Membros Inferiores, Partes Multiplas Qualque  Masculino       \n",
              "15657  Dedo                                           Masculino       \n",
              "15658  Dedo                                           Masculino       \n",
              "\n",
              "      Tipo do Acidente UF  Munic.  Acidente UF Munic. Empregador  \\\n",
              "0             Doença       Maranhão          São Paulo             \n",
              "1             Trajeto      Maranhão          São Paulo             \n",
              "2             Trajeto      Maranhão          São Paulo             \n",
              "3             Típico         ñ class         Goiás                 \n",
              "4             Típico       Maranhão          São Paulo             \n",
              "...                ...                  ...                  ...   \n",
              "15654         Típico       Roraima           Paraná                \n",
              "15655         Típico       Roraima           Paraná                \n",
              "15656         Típico         ñ class         Santa Catarina        \n",
              "15657         Típico       Roraima           Paraná                \n",
              "15658         Típico       Maranhão          São Paulo             \n",
              "\n",
              "      Data Acidente.1 Data Despacho Benefício Data Acidente.2 Data Nascimento  \\\n",
              "0             2022/01                 0000/00      20/01/2022      02/08/1970   \n",
              "1             2022/02                 0000/00      25/02/2022      16/12/1990   \n",
              "2             2022/02                 0000/00      25/02/2022      16/12/1990   \n",
              "3             2022/02                 0000/00      24/02/2022      19/09/1986   \n",
              "4             2022/01                 0000/00      28/01/2022      25/07/1995   \n",
              "...               ...                     ...             ...             ...   \n",
              "15654         2022/09                 2022/10      29/09/2022      18/09/1993   \n",
              "15655         2022/10                 2022/11      06/10/2022      24/11/1986   \n",
              "15656         2022/09                 2022/10      20/09/2022      02/03/1986   \n",
              "15657         2022/10                 2022/10      05/10/2022      08/04/1984   \n",
              "15658         2022/10                 2022/10      03/10/2022      15/07/1993   \n",
              "\n",
              "      Data Emissão CAT CNPJ/CEI Empregador  \n",
              "0           01/03/2022  57.571.275.002.570  \n",
              "1           01/03/2022  19.578.086.000.162  \n",
              "2           01/03/2022  19.578.086.000.162  \n",
              "3           01/03/2022  00.000.000.000.000  \n",
              "4           01/03/2022  00.000.000.000.000  \n",
              "...                ...                 ...  \n",
              "15654       10/10/2022  21.161.901.000.135  \n",
              "15655       07/10/2022  76.416.965.000.121  \n",
              "15656       10/10/2022  32.994.401.000.109  \n",
              "15657       06/10/2022  34.197.591.000.150  \n",
              "15658       18/10/2022  54.614.813.000.109  \n",
              "\n",
              "[257401 rows x 24 columns]"
            ],
            "text/html": [
              "\n",
              "  <div id=\"df-ce428168-f1e5-4ffc-ac45-9b7ebdbe6c25\">\n",
              "    <div class=\"colab-df-container\">\n",
              "      <div>\n",
              "<style scoped>\n",
              "    .dataframe tbody tr th:only-of-type {\n",
              "        vertical-align: middle;\n",
              "    }\n",
              "\n",
              "    .dataframe tbody tr th {\n",
              "        vertical-align: top;\n",
              "    }\n",
              "\n",
              "    .dataframe thead th {\n",
              "        text-align: right;\n",
              "    }\n",
              "</style>\n",
              "<table border=\"1\" class=\"dataframe\">\n",
              "  <thead>\n",
              "    <tr style=\"text-align: right;\">\n",
              "      <th></th>\n",
              "      <th>Agente  Causador  Acidente</th>\n",
              "      <th>Data Acidente</th>\n",
              "      <th>CBO</th>\n",
              "      <th>CID-10</th>\n",
              "      <th>CNAE2.0 Empregador</th>\n",
              "      <th>CNAE2.0 Empregador.1</th>\n",
              "      <th>Emitente CAT</th>\n",
              "      <th>Espécie do benefício</th>\n",
              "      <th>Filiação Segurado</th>\n",
              "      <th>Indica Óbito Acidente</th>\n",
              "      <th>Munic Empr</th>\n",
              "      <th>Natureza da Lesão</th>\n",
              "      <th>Origem de Cadastramento CAT</th>\n",
              "      <th>Parte Corpo Atingida</th>\n",
              "      <th>Sexo</th>\n",
              "      <th>Tipo do Acidente</th>\n",
              "      <th>UF  Munic.  Acidente</th>\n",
              "      <th>UF Munic. Empregador</th>\n",
              "      <th>Data Acidente.1</th>\n",
              "      <th>Data Despacho Benefício</th>\n",
              "      <th>Data Acidente.2</th>\n",
              "      <th>Data Nascimento</th>\n",
              "      <th>Data Emissão CAT</th>\n",
              "      <th>CNPJ/CEI Empregador</th>\n",
              "    </tr>\n",
              "  </thead>\n",
              "  <tbody>\n",
              "    <tr>\n",
              "      <th>0</th>\n",
              "      <td>ñ class</td>\n",
              "      <td>2022/01</td>\n",
              "      <td>515105-Agente Comunitário de Saúde</td>\n",
              "      <td>B34.2 Infecc p/Coronavirus Ne</td>\n",
              "      <td>8630</td>\n",
              "      <td>Atividades de Atencao Ambulatorial Executadas</td>\n",
              "      <td>Empregador</td>\n",
              "      <td>Pa</td>\n",
              "      <td>Empregado</td>\n",
              "      <td>Não</td>\n",
              "      <td>354780-Santo André-Sp</td>\n",
              "      <td>Doenca Contagiosa ou Infecciosa Tuberculos</td>\n",
              "      <td>Internet</td>\n",
              "      <td>Aparelho Respiratorio</td>\n",
              "      <td>Feminino</td>\n",
              "      <td>Doença</td>\n",
              "      <td>Maranhão</td>\n",
              "      <td>São Paulo</td>\n",
              "      <td>2022/01</td>\n",
              "      <td>0000/00</td>\n",
              "      <td>20/01/2022</td>\n",
              "      <td>02/08/1970</td>\n",
              "      <td>01/03/2022</td>\n",
              "      <td>57.571.275.002.570</td>\n",
              "    </tr>\n",
              "    <tr>\n",
              "      <th>1</th>\n",
              "      <td>Motocicleta, Motoneta</td>\n",
              "      <td>2022/02</td>\n",
              "      <td>519110-Motociclista no Transporte de Document</td>\n",
              "      <td>S52.5 Frat da Extremidade Distal do Radio</td>\n",
              "      <td>4930</td>\n",
              "      <td>Transporte Rodoviario de Carga</td>\n",
              "      <td>Segurado/Dependente</td>\n",
              "      <td>Pa</td>\n",
              "      <td>Empregado</td>\n",
              "      <td>Não</td>\n",
              "      <td>355030-São Paulo</td>\n",
              "      <td>Fratura</td>\n",
              "      <td>Internet</td>\n",
              "      <td>Braco Entre O Punho a O Ombro)</td>\n",
              "      <td>Masculino</td>\n",
              "      <td>Trajeto</td>\n",
              "      <td>Maranhão</td>\n",
              "      <td>São Paulo</td>\n",
              "      <td>2022/02</td>\n",
              "      <td>0000/00</td>\n",
              "      <td>25/02/2022</td>\n",
              "      <td>16/12/1990</td>\n",
              "      <td>01/03/2022</td>\n",
              "      <td>19.578.086.000.162</td>\n",
              "    </tr>\n",
              "    <tr>\n",
              "      <th>2</th>\n",
              "      <td>Motocicleta, Motoneta</td>\n",
              "      <td>2022/02</td>\n",
              "      <td>519110-Motociclista no Transporte de Document</td>\n",
              "      <td>S52.5 Frat da Extremidade Distal do Radio</td>\n",
              "      <td>4930</td>\n",
              "      <td>Transporte Rodoviario de Carga</td>\n",
              "      <td>Segurado/Dependente</td>\n",
              "      <td>Pa</td>\n",
              "      <td>Empregado</td>\n",
              "      <td>Não</td>\n",
              "      <td>355030-São Paulo</td>\n",
              "      <td>Fratura</td>\n",
              "      <td>Internet</td>\n",
              "      <td>Braco Entre O Punho a O Ombro)</td>\n",
              "      <td>Masculino</td>\n",
              "      <td>Trajeto</td>\n",
              "      <td>Maranhão</td>\n",
              "      <td>São Paulo</td>\n",
              "      <td>2022/02</td>\n",
              "      <td>0000/00</td>\n",
              "      <td>25/02/2022</td>\n",
              "      <td>16/12/1990</td>\n",
              "      <td>01/03/2022</td>\n",
              "      <td>19.578.086.000.162</td>\n",
              "    </tr>\n",
              "    <tr>\n",
              "      <th>3</th>\n",
              "      <td>Aprision. Em, Sobre ou Entre Dois ou Mai</td>\n",
              "      <td>2022/02</td>\n",
              "      <td>514205-Coletor Lixo</td>\n",
              "      <td>S60.0 Contusao de Dedos s/Lesao da Unha</td>\n",
              "      <td>3811</td>\n",
              "      <td>Coleta de Residuos Nao-Perigosos</td>\n",
              "      <td>Empregador</td>\n",
              "      <td>Pa</td>\n",
              "      <td>Empregado</td>\n",
              "      <td>Não</td>\n",
              "      <td>520110-Anápolis</td>\n",
              "      <td>Luxacao</td>\n",
              "      <td>Internet</td>\n",
              "      <td>Punho</td>\n",
              "      <td>Masculino</td>\n",
              "      <td>Típico</td>\n",
              "      <td>ñ class</td>\n",
              "      <td>Goiás</td>\n",
              "      <td>2022/02</td>\n",
              "      <td>0000/00</td>\n",
              "      <td>24/02/2022</td>\n",
              "      <td>19/09/1986</td>\n",
              "      <td>01/03/2022</td>\n",
              "      <td>00.000.000.000.000</td>\n",
              "    </tr>\n",
              "    <tr>\n",
              "      <th>4</th>\n",
              "      <td>Impacto de Pes. Contra Objeto em Movimento</td>\n",
              "      <td>2022/01</td>\n",
              "      <td>ñ class</td>\n",
              "      <td>S90.0 Contusao do Tornozelo</td>\n",
              "      <td>4639</td>\n",
              "      <td>Comercio Atacadista de Produtos Alimenticios</td>\n",
              "      <td>Empregador</td>\n",
              "      <td>Pa</td>\n",
              "      <td>Empregado</td>\n",
              "      <td>Não</td>\n",
              "      <td>330100-Campos dos Goytacazes</td>\n",
              "      <td>Luxacao</td>\n",
              "      <td>Internet</td>\n",
              "      <td>Perna Entre O Tornozelo e a Pelvis)</td>\n",
              "      <td>Masculino</td>\n",
              "      <td>Típico</td>\n",
              "      <td>Maranhão</td>\n",
              "      <td>São Paulo</td>\n",
              "      <td>2022/01</td>\n",
              "      <td>0000/00</td>\n",
              "      <td>28/01/2022</td>\n",
              "      <td>25/07/1995</td>\n",
              "      <td>01/03/2022</td>\n",
              "      <td>00.000.000.000.000</td>\n",
              "    </tr>\n",
              "    <tr>\n",
              "      <th>...</th>\n",
              "      <td>...</td>\n",
              "      <td>...</td>\n",
              "      <td>...</td>\n",
              "      <td>...</td>\n",
              "      <td>...</td>\n",
              "      <td>...</td>\n",
              "      <td>...</td>\n",
              "      <td>...</td>\n",
              "      <td>...</td>\n",
              "      <td>...</td>\n",
              "      <td>...</td>\n",
              "      <td>...</td>\n",
              "      <td>...</td>\n",
              "      <td>...</td>\n",
              "      <td>...</td>\n",
              "      <td>...</td>\n",
              "      <td>...</td>\n",
              "      <td>...</td>\n",
              "      <td>...</td>\n",
              "      <td>...</td>\n",
              "      <td>...</td>\n",
              "      <td>...</td>\n",
              "      <td>...</td>\n",
              "      <td>...</td>\n",
              "    </tr>\n",
              "    <tr>\n",
              "      <th>15654</th>\n",
              "      <td>Piso de Edificio - Superficie Utilizada Para</td>\n",
              "      <td>2022/09</td>\n",
              "      <td>ñ class</td>\n",
              "      <td>S62   Frat ao Nivel do Punho e da Mao</td>\n",
              "      <td>2330</td>\n",
              "      <td>Fabricacao de Artefatos de Concreto, Cimento,</td>\n",
              "      <td>ñ class</td>\n",
              "      <td>Auxílio Doenca por Acidente do Trabalho</td>\n",
              "      <td>Empregado</td>\n",
              "      <td>Não</td>\n",
              "      <td>410960-Guaratuba</td>\n",
              "      <td>Lesao Imediata</td>\n",
              "      <td>Internet</td>\n",
              "      <td>Mao Exceto Punho ou Dedos)</td>\n",
              "      <td>Masculino</td>\n",
              "      <td>Típico</td>\n",
              "      <td>Roraima</td>\n",
              "      <td>Paraná</td>\n",
              "      <td>2022/09</td>\n",
              "      <td>2022/10</td>\n",
              "      <td>29/09/2022</td>\n",
              "      <td>18/09/1993</td>\n",
              "      <td>10/10/2022</td>\n",
              "      <td>21.161.901.000.135</td>\n",
              "    </tr>\n",
              "    <tr>\n",
              "      <th>15655</th>\n",
              "      <td>Escada Permanente Cujos Degraus Permitem Apoi</td>\n",
              "      <td>2022/10</td>\n",
              "      <td>232130-Prof. Física no Ensino Médio</td>\n",
              "      <td>S82   Frat da Perna Incl Tornozelo</td>\n",
              "      <td>8520</td>\n",
              "      <td>Ensino Medio</td>\n",
              "      <td>Autoridade Pública</td>\n",
              "      <td>Auxílio Doenca por Acidente do Trabalho</td>\n",
              "      <td>Empregado</td>\n",
              "      <td>Não</td>\n",
              "      <td>410690-Curitiba</td>\n",
              "      <td>Fratura</td>\n",
              "      <td>Internet</td>\n",
              "      <td>Perna Do Tornozelo, Exclusive, ao Joelho, Ex</td>\n",
              "      <td>Feminino</td>\n",
              "      <td>Típico</td>\n",
              "      <td>Roraima</td>\n",
              "      <td>Paraná</td>\n",
              "      <td>2022/10</td>\n",
              "      <td>2022/11</td>\n",
              "      <td>06/10/2022</td>\n",
              "      <td>24/11/1986</td>\n",
              "      <td>07/10/2022</td>\n",
              "      <td>76.416.965.000.121</td>\n",
              "    </tr>\n",
              "    <tr>\n",
              "      <th>15656</th>\n",
              "      <td>Andaime, Plataforma - Edificio ou Estrutura</td>\n",
              "      <td>2022/09</td>\n",
              "      <td>517330-Vigilante</td>\n",
              "      <td>S82.7 Frat Mult da Perna</td>\n",
              "      <td>8112</td>\n",
              "      <td>Condominios Prediais</td>\n",
              "      <td>Segurado/Dependente</td>\n",
              "      <td>Auxílio Doenca por Acidente do Trabalho</td>\n",
              "      <td>Empregado</td>\n",
              "      <td>Não</td>\n",
              "      <td>420460-Criciúma</td>\n",
              "      <td>Fratura</td>\n",
              "      <td>Internet</td>\n",
              "      <td>Membros Inferiores, Partes Multiplas Qualque</td>\n",
              "      <td>Masculino</td>\n",
              "      <td>Típico</td>\n",
              "      <td>ñ class</td>\n",
              "      <td>Santa Catarina</td>\n",
              "      <td>2022/09</td>\n",
              "      <td>2022/10</td>\n",
              "      <td>20/09/2022</td>\n",
              "      <td>02/03/1986</td>\n",
              "      <td>10/10/2022</td>\n",
              "      <td>32.994.401.000.109</td>\n",
              "    </tr>\n",
              "    <tr>\n",
              "      <th>15657</th>\n",
              "      <td>Martelo, Malho, Marreta- Ferramenta Manual Se</td>\n",
              "      <td>2022/10</td>\n",
              "      <td>724315-Soldador</td>\n",
              "      <td>S62.6 Frat de Outr Dedos</td>\n",
              "      <td>7112</td>\n",
              "      <td>Servicos de Engenharia</td>\n",
              "      <td>Empregador</td>\n",
              "      <td>Auxílio Doenca por Acidente do Trabalho</td>\n",
              "      <td>Empregado</td>\n",
              "      <td>Não</td>\n",
              "      <td>411000-Iguaraçu</td>\n",
              "      <td>Fratura</td>\n",
              "      <td>Internet</td>\n",
              "      <td>Dedo</td>\n",
              "      <td>Masculino</td>\n",
              "      <td>Típico</td>\n",
              "      <td>Roraima</td>\n",
              "      <td>Paraná</td>\n",
              "      <td>2022/10</td>\n",
              "      <td>2022/10</td>\n",
              "      <td>05/10/2022</td>\n",
              "      <td>08/04/1984</td>\n",
              "      <td>06/10/2022</td>\n",
              "      <td>34.197.591.000.150</td>\n",
              "    </tr>\n",
              "    <tr>\n",
              "      <th>15658</th>\n",
              "      <td>Impacto de Pes. Contra Objeto Parado</td>\n",
              "      <td>2022/10</td>\n",
              "      <td>721215-Oper. Máquinas-Ferramenta Convencionai</td>\n",
              "      <td>S62.3 Frat de Outr Ossos do Metacarpo</td>\n",
              "      <td>2815</td>\n",
              "      <td>Fabricacao de Equipamentos de Transmissao par</td>\n",
              "      <td>Segurado/Dependente</td>\n",
              "      <td>Auxílio Doenca por Acidente do Trabalho</td>\n",
              "      <td>Empregado</td>\n",
              "      <td>Não</td>\n",
              "      <td>353130-Monte Alto</td>\n",
              "      <td>Fratura</td>\n",
              "      <td>Internet</td>\n",
              "      <td>Dedo</td>\n",
              "      <td>Masculino</td>\n",
              "      <td>Típico</td>\n",
              "      <td>Maranhão</td>\n",
              "      <td>São Paulo</td>\n",
              "      <td>2022/10</td>\n",
              "      <td>2022/10</td>\n",
              "      <td>03/10/2022</td>\n",
              "      <td>15/07/1993</td>\n",
              "      <td>18/10/2022</td>\n",
              "      <td>54.614.813.000.109</td>\n",
              "    </tr>\n",
              "  </tbody>\n",
              "</table>\n",
              "<p>257401 rows × 24 columns</p>\n",
              "</div>\n",
              "      <button class=\"colab-df-convert\" onclick=\"convertToInteractive('df-ce428168-f1e5-4ffc-ac45-9b7ebdbe6c25')\"\n",
              "              title=\"Convert this dataframe to an interactive table.\"\n",
              "              style=\"display:none;\">\n",
              "        \n",
              "  <svg xmlns=\"http://www.w3.org/2000/svg\" height=\"24px\"viewBox=\"0 0 24 24\"\n",
              "       width=\"24px\">\n",
              "    <path d=\"M0 0h24v24H0V0z\" fill=\"none\"/>\n",
              "    <path d=\"M18.56 5.44l.94 2.06.94-2.06 2.06-.94-2.06-.94-.94-2.06-.94 2.06-2.06.94zm-11 1L8.5 8.5l.94-2.06 2.06-.94-2.06-.94L8.5 2.5l-.94 2.06-2.06.94zm10 10l.94 2.06.94-2.06 2.06-.94-2.06-.94-.94-2.06-.94 2.06-2.06.94z\"/><path d=\"M17.41 7.96l-1.37-1.37c-.4-.4-.92-.59-1.43-.59-.52 0-1.04.2-1.43.59L10.3 9.45l-7.72 7.72c-.78.78-.78 2.05 0 2.83L4 21.41c.39.39.9.59 1.41.59.51 0 1.02-.2 1.41-.59l7.78-7.78 2.81-2.81c.8-.78.8-2.07 0-2.86zM5.41 20L4 18.59l7.72-7.72 1.47 1.35L5.41 20z\"/>\n",
              "  </svg>\n",
              "      </button>\n",
              "      \n",
              "  <style>\n",
              "    .colab-df-container {\n",
              "      display:flex;\n",
              "      flex-wrap:wrap;\n",
              "      gap: 12px;\n",
              "    }\n",
              "\n",
              "    .colab-df-convert {\n",
              "      background-color: #E8F0FE;\n",
              "      border: none;\n",
              "      border-radius: 50%;\n",
              "      cursor: pointer;\n",
              "      display: none;\n",
              "      fill: #1967D2;\n",
              "      height: 32px;\n",
              "      padding: 0 0 0 0;\n",
              "      width: 32px;\n",
              "    }\n",
              "\n",
              "    .colab-df-convert:hover {\n",
              "      background-color: #E2EBFA;\n",
              "      box-shadow: 0px 1px 2px rgba(60, 64, 67, 0.3), 0px 1px 3px 1px rgba(60, 64, 67, 0.15);\n",
              "      fill: #174EA6;\n",
              "    }\n",
              "\n",
              "    [theme=dark] .colab-df-convert {\n",
              "      background-color: #3B4455;\n",
              "      fill: #D2E3FC;\n",
              "    }\n",
              "\n",
              "    [theme=dark] .colab-df-convert:hover {\n",
              "      background-color: #434B5C;\n",
              "      box-shadow: 0px 1px 3px 1px rgba(0, 0, 0, 0.15);\n",
              "      filter: drop-shadow(0px 1px 2px rgba(0, 0, 0, 0.3));\n",
              "      fill: #FFFFFF;\n",
              "    }\n",
              "  </style>\n",
              "\n",
              "      <script>\n",
              "        const buttonEl =\n",
              "          document.querySelector('#df-ce428168-f1e5-4ffc-ac45-9b7ebdbe6c25 button.colab-df-convert');\n",
              "        buttonEl.style.display =\n",
              "          google.colab.kernel.accessAllowed ? 'block' : 'none';\n",
              "\n",
              "        async function convertToInteractive(key) {\n",
              "          const element = document.querySelector('#df-ce428168-f1e5-4ffc-ac45-9b7ebdbe6c25');\n",
              "          const dataTable =\n",
              "            await google.colab.kernel.invokeFunction('convertToInteractive',\n",
              "                                                     [key], {});\n",
              "          if (!dataTable) return;\n",
              "\n",
              "          const docLinkHtml = 'Like what you see? Visit the ' +\n",
              "            '<a target=\"_blank\" href=https://colab.research.google.com/notebooks/data_table.ipynb>data table notebook</a>'\n",
              "            + ' to learn more about interactive tables.';\n",
              "          element.innerHTML = '';\n",
              "          dataTable['output_type'] = 'display_data';\n",
              "          await google.colab.output.renderOutput(dataTable, element);\n",
              "          const docLink = document.createElement('div');\n",
              "          docLink.innerHTML = docLinkHtml;\n",
              "          element.appendChild(docLink);\n",
              "        }\n",
              "      </script>\n",
              "    </div>\n",
              "  </div>\n",
              "  "
            ]
          },
          "metadata": {},
          "execution_count": 30
        }
      ]
    },
    {
      "cell_type": "code",
      "execution_count": null,
      "metadata": {
        "id": "5S5_6ERjJDIB"
      },
      "outputs": [],
      "source": [
        "#Backap do DF GERAL geral\n",
        "dfbackgeral_3 = df_geral.copy()"
      ]
    },
    {
      "cell_type": "code",
      "execution_count": null,
      "metadata": {
        "id": "sQpV3vteaX-C"
      },
      "outputs": [],
      "source": [
        "##DROP de colunas desnecessarias pois é repetitiva em relação a coluna Data nascimento ja existente \n",
        "\n",
        "df_geral.drop(['Data Acidente', 'Data Acidente.1'], axis=1, inplace = True)"
      ]
    },
    {
      "cell_type": "code",
      "execution_count": null,
      "metadata": {
        "id": "XGuWy0DeHzGF"
      },
      "outputs": [],
      "source": [
        "#Renomeando as colunas - \n",
        "\n",
        "df_geral.rename(columns={'Agente  Causador  Acidente':'Agente_Causador_Acidente',\n",
        "                         'CBO':'Codigo_Ocupacao',\n",
        "                         'CID-10':'Identificação_da_doenca',\n",
        "                         'CNAE2.0 Empregador':'CNAE_COD_Atividade_Economica',\n",
        "                         'CNAE2.0 Empregador.1':'CNAE_Atividade_Economica',\n",
        "                         'Emitente CAT':'Emitente_CAT',\n",
        "                         'Espécie do benefício':'Especie_do_beneficio',\n",
        "                         'Filiação Segurado':'Filiação_Segurado',\n",
        "                         'Indica Óbito Acidente':'Indica_Obito_Acidente',\n",
        "                         'Munic Empr':'Municipio_Empregador',\n",
        "                         'Origem de Cadastramento CAT':'Origem_Cadastramento_CAT',\n",
        "                         'Parte Corpo Atingida': 'Parte_Corpo_Atingida',\n",
        "                         'UF  Munic.  Acidente':'UF_Municipio_Acidente',\n",
        "                         'UF Munic. Empregador':'UF_Municipio_Empregador',\n",
        "                         'Data Despacho Benefício':'Data_Despacho_Beneficio',\n",
        "                         'Data Acidente.2':'Data_Acidente',\n",
        "                         'Data Nascimento':'Data_Nascimento',\n",
        "                         'Data Emissão CAT':'Data_Emissao_CAT',                         \n",
        "                         'CNPJ/CEI Empregador':'CNPJ_Empregador'}, inplace=True)"
      ]
    },
    {
      "cell_type": "code",
      "source": [
        "#removendo os espaços antes e depois da str\n",
        "cols = ['Agente_Causador_Acidente',\n",
        "        'Codigo_Ocupacao',\n",
        "        'Identificação_da_doenca',\n",
        "        'CNAE_Atividade_Economica',\n",
        "        'Emitente_CAT',\n",
        "        'Especie_do_beneficio',\n",
        "        'Filiação_Segurado',\n",
        "        'Indica_Obito_Acidente',\n",
        "        'Municipio_Empregador',\n",
        "        'Natureza da Lesão',\n",
        "        'Origem_Cadastramento_CAT',\n",
        "        'Parte_Corpo_Atingida',\n",
        "        'Sexo',\n",
        "        'Tipo do Acidente',\n",
        "        'UF_Municipio_Acidente',\n",
        "        'UF_Municipio_Empregador',\n",
        "        'CNPJ_Empregador']\n",
        "\n",
        "for i in cols:\n",
        "  df_geral[i] = df_geral[i].str.strip()\n"
      ],
      "metadata": {
        "id": "PeNriUphVRGj"
      },
      "execution_count": null,
      "outputs": []
    },
    {
      "cell_type": "code",
      "source": [
        "#Removendo inconsistência\n",
        "def to_NaN(DataFrame, name):\n",
        "    for n in DataFrame:\n",
        "      DataFrame.replace([name], np.nan,inplace=True)\n",
        "\n",
        "to_NaN(df_geral,'00.000.000.000.000')\n",
        "to_NaN(df_geral,'0000/00')\n",
        "to_NaN(df_geral,'00/00/0000')\n",
        "to_NaN(df_geral,'ñ class')"
      ],
      "metadata": {
        "id": "2G1-I9xwiU0Y"
      },
      "execution_count": null,
      "outputs": []
    },
    {
      "cell_type": "code",
      "source": [
        "df_geral.dtypes"
      ],
      "metadata": {
        "id": "YS5HiZH6HPRs"
      },
      "execution_count": null,
      "outputs": []
    },
    {
      "cell_type": "code",
      "source": [
        "#Mudança de tipo das colunas\n",
        "df_geral['Data_Despacho_Beneficio'] = pd.to_datetime(df_geral['Data_Despacho_Beneficio'], format='%Y/%m')\n",
        "df_geral['Data_Acidente']= pd.to_datetime(df_geral['Data_Acidente'], dayfirst=True)\n",
        "df_geral['Data_Nascimento']= pd.to_datetime(df_geral['Data_Nascimento'], dayfirst=True)\n",
        "df_geral['Data_Emissao_CAT']= pd.to_datetime(df_geral['Data_Emissao_CAT'], dayfirst=True)"
      ],
      "metadata": {
        "id": "wXHLv_nkvHEP"
      },
      "execution_count": null,
      "outputs": []
    },
    {
      "cell_type": "markdown",
      "metadata": {
        "id": "zjE7A6h6Y5EZ"
      },
      "source": [
        "##4.2.PYSPARK"
      ]
    },
    {
      "cell_type": "code",
      "execution_count": null,
      "metadata": {
        "id": "xoSdA311yaA3"
      },
      "outputs": [],
      "source": [
        "#Enviar arquivo Bruto Geral  para Bucket\n",
        "df_geral.to_csv('gs://projeto_cat/ORIGINAL/D.SDA.PDA.005.CAT.GERAL.csv', index=False)"
      ]
    },
    {
      "cell_type": "markdown",
      "metadata": {
        "id": "oMeb-baGbkPL"
      },
      "source": [
        "Montando a estrutura do DataFrame utilizando o StructType\n",
        "- O objeto StructType é a coleção de objetos StructFields. É um tipo de dados interno que contém a lista de StructField."
      ]
    },
    {
      "cell_type": "code",
      "execution_count": null,
      "metadata": {
        "id": "3DqwhXLIcC3O"
      },
      "outputs": [],
      "source": [
        "schema = StructType([StructField('Agente_Causador_Acidente',StringType(), True),\n",
        "                     StructField('Codigo_Ocupacao', StringType(), True),\n",
        "                     StructField('Identificação_da_doenca',StringType(), True),\n",
        "                     StructField('CNAE_COD_Atividade_Economica',IntegerType(), True),\n",
        "                     StructField('CNAE_Atividade_Economica',StringType(), True),\n",
        "                     StructField('Emitente_CAT',StringType(), True),\n",
        "                     StructField('Especie_do_beneficio',StringType(), True),\n",
        "                     StructField('Filiação_Segurado',StringType(), True),\n",
        "                     StructField('Indica_Obito_Acidente',StringType(), True),\n",
        "                     StructField('Municipio_Empregador',StringType(), True),\n",
        "                     StructField('Natureza_da_Lesao',StringType(), True),\n",
        "                     StructField('Origem_Cadastramento_CAT',StringType(), True),\n",
        "                     StructField('Parte_Corpo_Atingida',StringType(), True),\n",
        "                     StructField('Sexo',StringType(), True),\n",
        "                     StructField('Tipo_do_Acidente',StringType(), True),\n",
        "                     StructField('UF_Municipio_Acidente',StringType(), True),\n",
        "                     StructField('UF_Municipio_Empregador',StringType(), True),\n",
        "                     StructField('Data_Despacho_Beneficio',DateType(),True),\n",
        "                     StructField('Data_Acidente',DateType(),True),\n",
        "                     StructField('Data Nascimento',DateType(),True),\n",
        "                     StructField('Data Emissão CAT',DateType(),True),\n",
        "                     StructField('CNPJ_Empregador',StringType(), True)                   \n",
        "                   ])"
      ]
    },
    {
      "cell_type": "code",
      "execution_count": null,
      "metadata": {
        "id": "udJYEMgxdC8L"
      },
      "outputs": [],
      "source": [
        "#AQUI IREMOS LER O DATAFRAME COLOCANDO INFERSCHEMA COMO FALSE PARA QUE O SPARK NÃO INFIRA O ESQUEMA\n",
        "# E ADICIONAMOS schema=esquema, PARA UTILIZARMOS O ESQUEMA QUE CRIAMOS ANTERIORMENTE\n",
        "df = (\n",
        "    spark.read.format('csv')\n",
        "              .option('header', 'true')\n",
        "              .option('inferschema', 'false')\n",
        "              .option('delimiter', ',')\n",
        "              .load('gs://projeto_cat/ORIGINAL/D.SDA.PDA.005.CAT.GERAL.csv', schema = schema)\n",
        ")"
      ]
    },
    {
      "cell_type": "markdown",
      "metadata": {
        "id": "MVABHap-x3qw"
      },
      "source": [
        "###4.2.1.Pre analise Spark"
      ]
    },
    {
      "cell_type": "code",
      "execution_count": null,
      "metadata": {
        "id": "P03bGMJ-x6Fh",
        "colab": {
          "base_uri": "https://localhost:8080/"
        },
        "outputId": "4f6055a1-f8d0-453e-a310-afb5b4aec336"
      },
      "outputs": [
        {
          "output_type": "stream",
          "name": "stdout",
          "text": [
            "root\n",
            " |-- Agente_Causador_Acidente: string (nullable = true)\n",
            " |-- Codigo_Ocupacao: string (nullable = true)\n",
            " |-- Identificação_da_doenca: string (nullable = true)\n",
            " |-- CNAE_COD_Atividade_Economica: integer (nullable = true)\n",
            " |-- CNAE_Atividade_Economica: string (nullable = true)\n",
            " |-- Emitente_CAT: string (nullable = true)\n",
            " |-- Especie_do_beneficio: string (nullable = true)\n",
            " |-- Filiação_Segurado: string (nullable = true)\n",
            " |-- Indica_Obito_Acidente: string (nullable = true)\n",
            " |-- Municipio_Empregador: string (nullable = true)\n",
            " |-- Natureza_da_Lesao: string (nullable = true)\n",
            " |-- Origem_Cadastramento_CAT: string (nullable = true)\n",
            " |-- Parte_Corpo_Atingida: string (nullable = true)\n",
            " |-- Sexo: string (nullable = true)\n",
            " |-- Tipo_do_Acidente: string (nullable = true)\n",
            " |-- UF_Municipio_Acidente: string (nullable = true)\n",
            " |-- UF_Municipio_Empregador: string (nullable = true)\n",
            " |-- Data_Despacho_Beneficio: date (nullable = true)\n",
            " |-- Data_Acidente: date (nullable = true)\n",
            " |-- Data Nascimento: date (nullable = true)\n",
            " |-- Data Emissão CAT: date (nullable = true)\n",
            " |-- CNPJ_Empregador: string (nullable = true)\n",
            "\n"
          ]
        }
      ],
      "source": [
        "df.printSchema()"
      ]
    },
    {
      "cell_type": "code",
      "execution_count": null,
      "metadata": {
        "id": "OJ6fmlOaGbMb",
        "colab": {
          "base_uri": "https://localhost:8080/"
        },
        "outputId": "e8516125-396c-45a1-d2d3-74b8a0e777b0"
      },
      "outputs": [
        {
          "output_type": "execute_result",
          "data": {
            "text/plain": [
              "156630"
            ]
          },
          "metadata": {},
          "execution_count": 57
        }
      ],
      "source": [
        "#Verificar se há duplicatas\n",
        "df.distinct().count()"
      ]
    },
    {
      "cell_type": "code",
      "source": [
        "df.count()"
      ],
      "metadata": {
        "id": "WtHiKvwNZKRN",
        "colab": {
          "base_uri": "https://localhost:8080/"
        },
        "outputId": "92feb306-82c7-4e9c-d7cc-66292c600465"
      },
      "execution_count": null,
      "outputs": [
        {
          "output_type": "execute_result",
          "data": {
            "text/plain": [
              "257401"
            ]
          },
          "metadata": {},
          "execution_count": 58
        }
      ]
    },
    {
      "cell_type": "code",
      "execution_count": null,
      "metadata": {
        "id": "x4wIV7raGIg8",
        "colab": {
          "base_uri": "https://localhost:8080/"
        },
        "outputId": "e87f2324-57f8-4291-f1b8-733fb98d8009"
      },
      "outputs": [
        {
          "output_type": "stream",
          "name": "stdout",
          "text": [
            "+------------------------+--------------------+-----------------------+----------------------------+------------------------+-------------------+--------------------+-----------------+---------------------+--------------------+--------------------+------------------------+--------------------+---------+----------------+---------------------+-----------------------+-----------------------+-------------+---------------+----------------+------------------+\n",
            "|Agente_Causador_Acidente|     Codigo_Ocupacao|Identificação_da_doenca|CNAE_COD_Atividade_Economica|CNAE_Atividade_Economica|       Emitente_CAT|Especie_do_beneficio|Filiação_Segurado|Indica_Obito_Acidente|Municipio_Empregador|   Natureza_da_Lesao|Origem_Cadastramento_CAT|Parte_Corpo_Atingida|     Sexo|Tipo_do_Acidente|UF_Municipio_Acidente|UF_Municipio_Empregador|Data_Despacho_Beneficio|Data_Acidente|Data Nascimento|Data Emissão CAT|   CNPJ_Empregador|\n",
            "+------------------------+--------------------+-----------------------+----------------------------+------------------------+-------------------+--------------------+-----------------+---------------------+--------------------+--------------------+------------------------+--------------------+---------+----------------+---------------------+-----------------------+-----------------------+-------------+---------------+----------------+------------------+\n",
            "|    Substancia Quimic...|   223505-Enfermeiro|   Y28.8 Outr Locais...|                        8610|    Atividades de Ate...|         Empregador|                  Pa|        Empregado|                  Não|     432290-Viadutos|Corte, Laceracao,...|                Internet|                Dedo| Feminino|          Típico|                 null|      Rio Grande do Sul|                   null|   2022-03-21|     1996-04-28|            null|98.714.876.000.102|\n",
            "|    Agente Infeccioso...|322205-Tec. de En...|   Z20.8 Contato Exp...|                        8610|    Atividades de Ate...|         Empregador|                  Pa|        Empregado|                  Não|   432240-Uruguaiana|Doenca Contagiosa...|                Internet|Mao Exceto Punho ...| Feminino|          Típico|                 null|      Rio Grande do Sul|                   null|   2022-06-07|     1993-12-07|            null|98.416.225.000.128|\n",
            "|                    null|                null|   Z20.8 Contato Exp...|                        8610|    Atividades de Ate...|         Empregador|                  Pa|        Empregado|                  Não|   432240-Uruguaiana|Doenca Contagiosa...|                Internet|Mao Exceto Punho ...|Masculino|          Típico|                 null|      Rio Grande do Sul|                   null|   2022-03-18|     1963-02-23|            null|98.416.225.000.128|\n",
            "|    Agente Infeccioso...|322205-Tec. de En...|   Z20.8 Contato Exp...|                        8610|    Atividades de Ate...|         Empregador|                  Pa|        Empregado|                  Não|   432240-Uruguaiana|Doenca Contagiosa...|                Internet|Mao Exceto Punho ...| Feminino|          Típico|                 null|      Rio Grande do Sul|                   null|   2022-06-07|     1993-12-07|            null|98.416.225.000.128|\n",
            "|                    null|322205-Tec. de En...|   Z20.9 Contato Exp...|                        8610|    Atividades de Ate...|         Empregador|                  Pa|        Empregado|                  Não|   432240-Uruguaiana|  Outras Lesoes, Nic|                Internet|                Dedo| Feminino|          Típico|                 null|      Rio Grande do Sul|                   null|   2022-02-25|     1977-01-05|            null|98.416.225.000.128|\n",
            "|                    null|   223505-Enfermeiro|   Z20.8 Contato Exp...|                        8610|    Atividades de Ate...|         Empregador|                  Pa|        Empregado|                  Não|   432240-Uruguaiana|Doenca Contagiosa...|                Internet|               Punho| Feminino|          Típico|                 null|      Rio Grande do Sul|                   null|   2022-03-21|     1987-02-28|            null|98.416.225.000.128|\n",
            "|                    null|322205-Tec. de En...|   Z20.8 Contato Exp...|                        8610|    Atividades de Ate...|         Empregador|                  Pa|        Empregado|                  Não|   432240-Uruguaiana|Doenca Contagiosa...|                Internet|Olho Inclusive Ne...| Feminino|          Típico|                 null|      Rio Grande do Sul|                   null|   2022-03-19|     1998-07-09|            null|98.416.225.000.128|\n",
            "|                    null|322205-Tec. de En...|   C44.8 Lesao Invas...|                        8610|    Atividades de Ate...|         Empregador|                  Pa|        Empregado|                  Não|  432190-Três Passos|Corte, Laceracao,...|                Internet|                Dedo| Feminino|          Típico|                 null|      Rio Grande do Sul|                   null|   2022-03-09|     1997-01-14|            null|98.110.000.000.149|\n",
            "|    Chao - Superficie...|784205-Alimentado...|   S93.3 Luxacao de ...|                        2349|    Fabricacao de Pro...|Segurado/Dependente|                  Pa|        Empregado|                  Não|    330414-Queimados|             Fratura|                Internet|Articulacao do To...|Masculino|          Típico|            Tocantins|         Rio de Janeiro|                   null|   2022-05-05|     1986-01-25|            null|97.837.181.003.243|\n",
            "|    Chao - Superficie...|784205-Alimentado...|   S93.3 Luxacao de ...|                        2349|    Fabricacao de Pro...|Segurado/Dependente|                  Pa|        Empregado|                  Não|    330414-Queimados|             Fratura|                Internet|Articulacao do To...|Masculino|          Típico|            Tocantins|         Rio de Janeiro|                   null|   2022-05-05|     1986-01-25|            null|97.837.181.003.243|\n",
            "|    Esforco Excessivo...|784205-Alimentado...|   S83.2 Ruptura do ...|                        1621|    Fabricacao de Mad...|Segurado/Dependente|                  Pa|        Empregado|                  Não|    355030-São Paulo|      Lesao Imediata|                Internet|              Joelho|Masculino|          Típico|             Maranhão|              São Paulo|                   null|   2022-04-11|     1992-07-22|            null|97.837.181.000.147|\n",
            "|    Esforco Excessivo...|784205-Alimentado...|   S83.2 Ruptura do ...|                        1621|    Fabricacao de Mad...|Segurado/Dependente|                  Pa|        Empregado|                  Não|    355030-São Paulo|      Lesao Imediata|                Internet|              Joelho|Masculino|          Típico|             Maranhão|              São Paulo|                   null|   2022-04-11|     1992-07-22|            null|97.837.181.000.147|\n",
            "|    Queda de Pes. com...|410105-Superv. Ad...|   S52.5 Frat da Ext...|                        8411|    Administracao Pub...|         Empregador|                  Pa|        Empregado|                  Não|      432120-Taquara|             Fratura|                Internet|Braco Entre O Pun...|Masculino|          Típico|                 null|      Rio Grande do Sul|                   null|   2022-03-09|     1969-09-12|            null|97.761.407.000.173|\n",
            "|            Maquina, Nic|833120-Oper. Máqu...|   S60.2 Contusao de...|                        1731|    Fabricacao de Emb...|         Empregador|                  Pa|        Empregado|                  Não|351240-Cordeirópolis|Contusao, Esmagam...|                Internet|Mao Exceto Punho ...|Masculino|          Típico|             Maranhão|              São Paulo|                   null|   2022-02-26|     2000-12-15|            null|97.547.022.000.108|\n",
            "|     Produto Animal, Nic|992225-Auxiliar G...|       W54.0 Residencia|                        8121|    Limpeza em Predio...|         Empregador|                  Pa|        Empregado|                  Não|     411370-Londrina|  Outras Lesoes, Nic|                Internet|Membros Inferiore...| Feminino|          Típico|              Roraima|                 Paraná|                   null|   2022-06-21|     1994-05-18|            null|97.541.618.000.109|\n",
            "|     Produto Animal, Nic|992225-Auxiliar G...|       W54.0 Residencia|                        8121|    Limpeza em Predio...|         Empregador|                  Pa|        Empregado|                  Não|     411370-Londrina|  Outras Lesoes, Nic|                Internet|Membros Inferiore...| Feminino|          Típico|              Roraima|                 Paraná|                   null|   2022-06-21|     1994-05-18|            null|97.541.618.000.109|\n",
            "|    Rua e Estrada - S...|717020-Servente d...|   N32.2 Fistula Ves...|                        4120|    Construcao de Edi...|         Empregador|                  Pa|        Empregado|                  Não|       261160-Recife|             Fratura|                Internet|Abdome Inclusive ...|Masculino|         Trajeto|                 Pará|             Pernambuco|                   null|   2022-02-23|     1992-05-18|            null|97.535.869.000.172|\n",
            "|            Maquina, Nic|823320-Trab. Elab...|   S90.0 Contusao do...|                        4930|    Transporte Rodovi...|         Empregador|                  Pa|        Empregado|                  Não|431890-São Luiz G...|Contusao, Esmagam...|                Internet| Pe Exceto Artelhos)|Masculino|          Típico|                 null|      Rio Grande do Sul|                   null|   2022-06-17|     1986-04-27|            null|97.534.342.000.123|\n",
            "|            Maquina, Nic|823320-Trab. Elab...|   S90.0 Contusao do...|                        4930|    Transporte Rodovi...|         Empregador|                  Pa|        Empregado|                  Não|431890-São Luiz G...|Contusao, Esmagam...|                Internet| Pe Exceto Artelhos)|Masculino|          Típico|                 null|      Rio Grande do Sul|                   null|   2022-06-17|     1986-04-27|            null|97.534.342.000.123|\n",
            "|    Politriz, Lixador...|784205-Alimentado...|    S71.1 Ferim da Coxa|                        2511|    Fabricacao de Est...|         Empregador|                  Pa|        Empregado|                  Não|        351300-Cotia|Corte, Laceracao,...|                Internet|                Coxa|Masculino|          Típico|             Maranhão|              São Paulo|                   null|   2022-02-25|     1978-04-11|            null|97.528.102.000.116|\n",
            "+------------------------+--------------------+-----------------------+----------------------------+------------------------+-------------------+--------------------+-----------------+---------------------+--------------------+--------------------+------------------------+--------------------+---------+----------------+---------------------+-----------------------+-----------------------+-------------+---------------+----------------+------------------+\n",
            "only showing top 20 rows\n",
            "\n"
          ]
        }
      ],
      "source": [
        "#Um OrderBy para mais visualizações\n",
        "df.orderBy(F.col('CNPJ_Empregador').desc()).show()"
      ]
    },
    {
      "cell_type": "code",
      "execution_count": null,
      "metadata": {
        "id": "rlxC8D74Gk-w",
        "colab": {
          "base_uri": "https://localhost:8080/"
        },
        "outputId": "19b281a8-8ab1-413f-dbf0-13926637d635"
      },
      "outputs": [
        {
          "output_type": "stream",
          "name": "stdout",
          "text": [
            "+------------------------+--------------------+-----------------------+----------------------------+------------------------+------------+--------------------+-----------------+---------------------+--------------------+--------------------+------------------------+--------------------+-------------+----------------+---------------------+-----------------------+-----------------------+-------------+---------------+----------------+---------------+\n",
            "|Agente_Causador_Acidente|     Codigo_Ocupacao|Identificação_da_doenca|CNAE_COD_Atividade_Economica|CNAE_Atividade_Economica|Emitente_CAT|Especie_do_beneficio|Filiação_Segurado|Indica_Obito_Acidente|Municipio_Empregador|   Natureza_da_Lesao|Origem_Cadastramento_CAT|Parte_Corpo_Atingida|         Sexo|Tipo_do_Acidente|UF_Municipio_Acidente|UF_Municipio_Empregador|Data_Despacho_Beneficio|Data_Acidente|Data Nascimento|Data Emissão CAT|CNPJ_Empregador|\n",
            "+------------------------+--------------------+-----------------------+----------------------------+------------------------+------------+--------------------+-----------------+---------------------+--------------------+--------------------+------------------------+--------------------+-------------+----------------+---------------------+-----------------------+-----------------------+-------------+---------------+----------------+---------------+\n",
            "|    Piso de Edificio ...|253215-Gerente Co...|    S92.4 Frat do Halux|                        6422|    Bancos Multiplos,...|  Empregador|                  Pa|        Empregado|                  Não|330455-Rio de Jan...|             Fratura|                Internet|             Artelho|Não Informado|          Típico|            Tocantins|         Rio de Janeiro|                   null|   2022-06-27|           null|            null|           null|\n",
            "|    Madeira Toro, Mad...|783225-Ajudante d...|   S61.0 Ferim de De...|                        4930|    Transporte Rodovi...|  Empregador|                  Pa|        Empregado|                  Não|314330-Montes Claros|Corte, Laceracao,...|                Internet|                Dedo|Não Informado|          Típico|             Rondônia|           Minas Gerais|                   null|   2022-06-28|           null|            null|           null|\n",
            "|    Tanque, Cilindro ...|   771105-Marceneiro|                   null|                        3299|    Fabricacao de Pro...|  Empregador|                  Pa|        Empregado|                  Não| 431490-Porto Alegre|      Lesao Imediata|                Internet| Pe Exceto Artelhos)|Não Informado|          Típico|                 null|      Rio Grande do Sul|                   null|   2022-06-29|           null|            null|           null|\n",
            "|            Maquina, Nic|783225-Ajudante d...|   Z48.0 Cuidados a ...|                        2599|    Fabricacao de Pro...|  Empregador|                  Pa|        Empregado|                  Não|311420-Carmo do C...|      Lesao Imediata|                Internet|Antebraco Entre O...|Não Informado|          Típico|                 null|                  Goiás|                   null|   2022-06-18|           null|            null|           null|\n",
            "|    Reacao do Corpo a...|832125-Oper. Máqu...|   S80.0 Contusao do...|                        2862|    Fabricacao de Maq...|  Empregador|                  Pa|        Empregado|                  Não|     411370-Londrina|   Distensao, Torcao|                Internet|              Joelho|Não Informado|          Típico|              Roraima|                 Paraná|                   null|   2022-06-28|           null|            null|           null|\n",
            "|    Ferramenta Manual...|322205-Tec. de En...|   M70.0 Sinovite Cr...|                        8610|    Atividades de Ate...|  Empregador|                  Pa|        Empregado|                  Não|310620-Belo Horiz...|Contusao, Esmagam...|                Internet|Perna Entre O Tor...|Não Informado|          Típico|             Rondônia|           Minas Gerais|                   null|   2022-06-27|           null|            null|           null|\n",
            "|    Impacto de Pes. C...|  414110-Armazenista|   V29.8 Motociclist...|                        4645|    Comercio Atacadis...|  Empregador|                  Pa|        Empregado|                  Não|      411520-Maringá|  Outras Lesoes, Nic|                Internet|Membros Inferiore...|Não Informado|         Trajeto|              Roraima|                 Paraná|                   null|   2022-06-28|           null|            null|           null|\n",
            "|    Queda de Pes. com...|313205-Tec. de Ma...|         W19.9 Local Ne|                        4751|    Comercio Varejist...|  Empregador|                  Pa|        Empregado|                  Não| 330045-Belford Roxo|Escoriacao, Abras...|                Internet|Tronco, Parte Mul...|Não Informado|          Típico|            Tocantins|         Rio de Janeiro|                   null|   2022-06-21|           null|            null|           null|\n",
            "|    Queda de Pes. com...|512105-Empregado ...|   S63.0 Luxacao do ...|                           0|                    null|        null|                  Pa|             null|                  Não|     000000-Ignorado|             Luxacao|                Internet|Membros Superiore...|Não Informado|          Típico|               Zerado|                 Zerado|                   null|   2022-06-29|           null|            null|           null|\n",
            "|    Escada Permanente...|763215-Costureiro...|   S93.4 Entorse e D...|                        1412|    Confeccao de Peca...|  Empregador|                  Pa|        Empregado|                  Não|   510350-Diamantino|   Distensao, Torcao|                Internet|Articulacao do To...|Não Informado|         Trajeto|             Maranhão|              São Paulo|                   null|   2022-06-29|           null|            null|           null|\n",
            "|    Impacto de Pes. C...|411005-Auxiliar d...|   S52.2 Frat da Dia...|                        4729|    Comercio Varejist...|  Empregador|                  Pa|        Empregado|                  Não|    355030-São Paulo|             Fratura|                Internet|Braco Entre O Pun...|Não Informado|          Típico|             Maranhão|              São Paulo|                   null|   2022-01-26|           null|            null|           null|\n",
            "|    Vidraria, Fibra d...|514225-Trab. de S...|   Z00.0 Exame Medic...|                        4930|    Transporte Rodovi...|  Empregador|                  Pa|        Empregado|                  Não|      411915-Pinhais|Corte, Laceracao,...|                Internet|              Joelho|Não Informado|          Típico|              Roraima|                 Paraná|                   null|   2022-06-29|           null|            null|           null|\n",
            "|    Metal - Inclui Li...|784205-Alimentado...|   S22.3 Frat de Cos...|                        2833|    Fabricacao de Maq...|  Empregador|                  Pa|        Empregado|                  Não| 431265-Não-Me-Toque|             Fratura|                Internet|Tronco, Parte Mul...|Não Informado|          Típico|                 null|      Rio Grande do Sul|                   null|   2022-06-22|           null|            null|           null|\n",
            "|    Metal - Inclui Li...|717020-Servente d...|   T13.1 Ferim de Me...|                        4120|    Construcao de Edi...|  Empregador|                  Pa|        Empregado|                  Não|  421700-São Ludgero|Corte, Laceracao,...|                Internet|Membros Inferiore...|Não Informado|          Típico|                 null|      Rio Grande do Sul|                   null|   2022-06-29|           null|            null|           null|\n",
            "|    Chao - Superficie...|783225-Ajudante d...|   M19.0 Artrose Pri...|                        4672|    Comercio Atacadis...|  Empregador|                  Pa|        Empregado|                  Não|     530010-Brasília|             Luxacao|                Internet| Pe Exceto Artelhos)|Não Informado|          Típico|                Ceará|       Distrito Federal|                   null|   2022-06-28|           null|            null|           null|\n",
            "|    Impacto Sofrido p...|782510-Motorista ...|        R52.0 Dor Aguda|                        4930|    Transporte Rodovi...|  Empregador|                  Pa|        Empregado|                  Não|          352390-Itu|Contusao, Esmagam...|                Internet| Pe Exceto Artelhos)|Não Informado|          Típico|             Maranhão|              São Paulo|                   null|   2022-06-27|           null|            null|           null|\n",
            "|    Queda de Pes. com...|411005-Auxiliar d...|   S93.4 Entorse e D...|                        8610|    Atividades de Ate...|  Empregador|                  Pa|        Empregado|                  Não|     350750-Botucatu|      Lesao Imediata|                Internet|Perna Do Tornozel...|Não Informado|          Típico|             Maranhão|              São Paulo|                   null|   2022-06-27|           null|            null|           null|\n",
            "|    Motocicleta, Moto...|517410-Porteiro d...|                   null|                        8121|    Limpeza em Predio...|  Empregador|                  Pa|        Empregado|                  Não|       270430-Maceió|  Outras Lesoes, Nic|                Internet|              Joelho|Não Informado|         Trajeto|             Maranhão|              São Paulo|                   null|   2022-06-15|           null|            null|           null|\n",
            "|    Rua e Estrada - S...|521125-Repositor ...|   S51.9 Ferim do An...|                        4711|    Comercio Varejist...|  Empregador|                  Pa|        Empregado|                  Não|330170-Duque de C...|Escoriacao, Abras...|                Internet|Antebraco Entre O...|Não Informado|         Trajeto|            Tocantins|         Rio de Janeiro|                   null|   2022-06-21|           null|            null|           null|\n",
            "|    Agente do Acident...|322205-Tec. de En...|   Z09.9 Exame Segui...|                        8610|    Atividades de Ate...|  Empregador|                  Pa|        Empregado|                  Não|     150442-Marituba|  Outras Lesoes, Nic|                Internet|Mao Exceto Punho ...|Não Informado|          Típico|                 Acre|                   Pará|                   null|   2022-06-11|           null|            null|           null|\n",
            "+------------------------+--------------------+-----------------------+----------------------------+------------------------+------------+--------------------+-----------------+---------------------+--------------------+--------------------+------------------------+--------------------+-------------+----------------+---------------------+-----------------------+-----------------------+-------------+---------------+----------------+---------------+\n",
            "only showing top 20 rows\n",
            "\n"
          ]
        }
      ],
      "source": [
        "# primeira análise de colunas por ordem crescente e decrescente\n",
        "df.orderBy(F.col('Data Nascimento').asc()).show()"
      ]
    },
    {
      "cell_type": "markdown",
      "metadata": {
        "id": "dH4HC_RUGEB1"
      },
      "source": [
        "###4.2.2.Tratamento"
      ]
    },
    {
      "cell_type": "code",
      "execution_count": null,
      "metadata": {
        "id": "NdvDUsA_gmRe"
      },
      "outputs": [],
      "source": [
        "# Backup\n",
        "df_backup = df"
      ]
    },
    {
      "cell_type": "code",
      "execution_count": null,
      "metadata": {
        "id": "FdDVCG7LvN6A"
      },
      "outputs": [],
      "source": [
        "#Renomear uma coluna no Pyspark\n",
        "df = (df.withColumnRenamed('Natureza da Lesão', 'Naturezada_Lesao')\n",
        "        .withColumnRenamed('Tipo do Acidente', 'Tipo_do_Acidente'))"
      ]
    },
    {
      "cell_type": "code",
      "source": [
        "#Remover espeços ainda existentes \n",
        "df = df.select([F.trim(F.col(c)).alias(c) for c in df.columns])"
      ],
      "metadata": {
        "id": "Bidk0_oNfOqr"
      },
      "execution_count": null,
      "outputs": []
    },
    {
      "cell_type": "code",
      "source": [
        "#Retirado do nome Zerado \n",
        "df=df.select([when(col(c)=='Zerado',None).otherwise(col(c)).alias(c) for c in df.columns])"
      ],
      "metadata": {
        "id": "Mo9MT7a7ocOa"
      },
      "execution_count": null,
      "outputs": []
    },
    {
      "cell_type": "code",
      "source": [],
      "metadata": {
        "id": "o-jk8I8iYMzf"
      },
      "execution_count": null,
      "outputs": []
    },
    {
      "cell_type": "code",
      "source": [
        "df.show(2)"
      ],
      "metadata": {
        "colab": {
          "base_uri": "https://localhost:8080/"
        },
        "id": "ckzGXCfdI7tv",
        "outputId": "8b6b8854-dc21-4b21-d32b-82492d0bbe1b"
      },
      "execution_count": null,
      "outputs": [
        {
          "output_type": "stream",
          "name": "stdout",
          "text": [
            "+------------------------+--------------------+-----------------------+----------------------------+------------------------+-------------------+--------------------+-----------------+---------------------+--------------------+--------------------+------------------------+--------------------+---------+----------------+---------------------+-----------------------+-----------------------+-------------+---------------+----------------+------------------+\n",
            "|Agente_Causador_Acidente|     Codigo_Ocupacao|Identificação_da_doenca|CNAE_COD_Atividade_Economica|CNAE_Atividade_Economica|       Emitente_CAT|Especie_do_beneficio|Filiação_Segurado|Indica_Obito_Acidente|Municipio_Empregador|   Natureza_da_Lesao|Origem_Cadastramento_CAT|Parte_Corpo_Atingida|     Sexo|Tipo_do_Acidente|UF_Municipio_Acidente|UF_Municipio_Empregador|Data_Despacho_Beneficio|Data_Acidente|Data Nascimento|Data Emissão CAT|   CNPJ_Empregador|\n",
            "+------------------------+--------------------+-----------------------+----------------------------+------------------------+-------------------+--------------------+-----------------+---------------------+--------------------+--------------------+------------------------+--------------------+---------+----------------+---------------------+-----------------------+-----------------------+-------------+---------------+----------------+------------------+\n",
            "|                    null|515105-Agente Com...|   B34.2 Infecc p/Co...|                        8630|    Atividades de Ate...|         Empregador|                  Pa|        Empregado|                  Não|354780-Santo Andr...|Doenca Contagiosa...|                Internet|Aparelho Respirat...| Feminino|          Doença|             Maranhão|              São Paulo|                   null|   2022-01-20|     1970-08-02|      2022-03-01|57.571.275.002.570|\n",
            "|    Motocicleta, Moto...|519110-Motociclis...|   S52.5 Frat da Ext...|                        4930|    Transporte Rodovi...|Segurado/Dependente|                  Pa|        Empregado|                  Não|    355030-São Paulo|             Fratura|                Internet|Braco Entre O Pun...|Masculino|         Trajeto|             Maranhão|              São Paulo|                   null|   2022-02-25|     1990-12-16|      2022-03-01|19.578.086.000.162|\n",
            "+------------------------+--------------------+-----------------------+----------------------------+------------------------+-------------------+--------------------+-----------------+---------------------+--------------------+--------------------+------------------------+--------------------+---------+----------------+---------------------+-----------------------+-----------------------+-------------+---------------+----------------+------------------+\n",
            "only showing top 2 rows\n",
            "\n"
          ]
        }
      ]
    },
    {
      "cell_type": "code",
      "source": [
        "# Criando colunas\n",
        "df2 = (df.withColumn('CNAE', F.concat(F.col('CNAE_COD_Atividade_Economica'), F.lit('-'), F.col('CNAE_Atividade_Economica'))) \\\n",
        "          .withColumn('Quant_dias_Emisao_CAT', F.datediff('Data_Acidente','Data Emissão CAT'))   \n",
        "       )"
      ],
      "metadata": {
        "id": "NtF24G2h89wz"
      },
      "execution_count": null,
      "outputs": []
    },
    {
      "cell_type": "code",
      "source": [
        "df3 = df \\\n",
        "  .withColumn('CNAE_COD_Atividade_Economica' ,\n",
        "              df['CNAE_COD_Atividade_Economica']\n",
        "              .cast(IntegerType()))   "
      ],
      "metadata": {
        "id": "qr0tx_M8u8ne"
      },
      "execution_count": null,
      "outputs": []
    },
    {
      "cell_type": "markdown",
      "metadata": {
        "id": "EV9WhyCvh4QL"
      },
      "source": [
        "#5.Load - Carregamento de dados Tratados para GCP, MONGODB e MySQL"
      ]
    },
    {
      "cell_type": "markdown",
      "source": [
        "##5.1.Load - Dataset final Para bucket do CloudStorage"
      ],
      "metadata": {
        "id": "k2XEHEYFnluf"
      }
    },
    {
      "cell_type": "code",
      "source": [
        "#transformar de Pypark para PANDAS\n",
        "df_geral2 = df3.toPandas()"
      ],
      "metadata": {
        "id": "Ra7_uV-Nmk1f"
      },
      "execution_count": null,
      "outputs": []
    },
    {
      "cell_type": "code",
      "source": [
        "df_geral2['Data_Despacho_Beneficio']= pd.to_datetime(df_geral2['Data_Despacho_Beneficio'])\n",
        "df_geral2['Data_Acidente']= pd.to_datetime(df_geral2['Data_Acidente'])\n",
        "df_geral2['Data Nascimento']= pd.to_datetime(df_geral2['Data Nascimento'])\n",
        "df_geral2['Data Emissão CAT']= pd.to_datetime(df_geral2['Data Emissão CAT'])"
      ],
      "metadata": {
        "id": "d9j7xfR5NWq-"
      },
      "execution_count": null,
      "outputs": []
    },
    {
      "cell_type": "code",
      "source": [
        "df_geral2['Data_Despacho_Beneficio']= df_geral2['Data_Despacho_Beneficio'].dt.strftime('%Y-%m-%d %H:%M:%s')\n",
        "df_geral2['Data_Acidente']= df_geral2['Data_Acidente'].dt.strftime('%Y-%m-%d %H:%M:%s')\n",
        "df_geral2['Data Nascimento']= df_geral2['Data Nascimento'].dt.strftime('%Y-%m-%d %H:%M:%s')\n",
        "df_geral2['Data Emissão CAT']= df_geral2['Data Emissão CAT'].dt.strftime('%Y-%m-%d %H:%M:%s')"
      ],
      "metadata": {
        "id": "oOccT0NrLCQg"
      },
      "execution_count": null,
      "outputs": []
    },
    {
      "cell_type": "code",
      "source": [
        "df_geral2.to_csv('gs://projeto_cat/TRATADOS/D.SDA.PDA.005.CAT.2022-TRATADOS.csv', index=False)"
      ],
      "metadata": {
        "id": "wFr8v8zlg1UC"
      },
      "execution_count": null,
      "outputs": []
    },
    {
      "cell_type": "markdown",
      "source": [
        "##5.2.Load - Dataset final Para o MongoDB"
      ],
      "metadata": {
        "id": "xNySXO69Cqc9"
      }
    },
    {
      "cell_type": "code",
      "source": [
        "df_geral2_parte1 = df_geral2[0:64350]\n",
        "df_geral2_parte2 = df_geral2[64350:128700]\n",
        "df_geral2_parte3 = df_geral2[128700:193050]\n",
        "df_geral2_parte4 = df_geral2[193050:257401]"
      ],
      "metadata": {
        "id": "yPi4BejreGND"
      },
      "execution_count": null,
      "outputs": []
    },
    {
      "cell_type": "code",
      "source": [
        "colecao_5_parte1 = db['D.SDA.PDA.005.CAT.20_222-TRATADO-1']\n",
        "dfmongo1_dict = df_geral2_parte1.to_dict('records')\n",
        "colecao_5_parte1.insert_many(dfmongo1_dict)"
      ],
      "metadata": {
        "colab": {
          "base_uri": "https://localhost:8080/"
        },
        "id": "mLwq1K1TeobX",
        "outputId": "e9dd41f2-c397-49c9-b1c0-d99b56872e86"
      },
      "execution_count": null,
      "outputs": [
        {
          "output_type": "execute_result",
          "data": {
            "text/plain": [
              "<pymongo.results.InsertManyResult at 0x7eff9232cac0>"
            ]
          },
          "metadata": {},
          "execution_count": 141
        }
      ]
    },
    {
      "cell_type": "code",
      "source": [
        "colecao_6_parte2 = db['D.SDA.PDA.005.CAT.20_222-TRATADO-2']\n",
        "dfmongo2_dict = df_geral2_parte2.to_dict('records')\n",
        "colecao_6_parte2.insert_many(dfmongo2_dict)"
      ],
      "metadata": {
        "id": "OqGTLfGGe79n"
      },
      "execution_count": null,
      "outputs": []
    },
    {
      "cell_type": "code",
      "source": [
        "colecao_7_parte3 = db['D.SDA.PDA.005.CAT.20_222-TRATADO-3']\n",
        "dfmongo3_dict = df_geral2_parte3.to_dict('records')\n",
        "colecao_7_parte3.insert_many(dfmongo3_dict)"
      ],
      "metadata": {
        "colab": {
          "base_uri": "https://localhost:8080/"
        },
        "id": "xYz3jhmIfIOQ",
        "outputId": "93706d03-d4c9-4814-acd1-92a0b015e923"
      },
      "execution_count": null,
      "outputs": [
        {
          "output_type": "execute_result",
          "data": {
            "text/plain": [
              "<pymongo.results.InsertManyResult at 0x7eff939dbc70>"
            ]
          },
          "metadata": {},
          "execution_count": 143
        }
      ]
    },
    {
      "cell_type": "code",
      "source": [
        "colecao_8_parte4 = db['D.SDA.PDA.005.CAT.20_222-TRATADO-4']\n",
        "dfmongo4_dict = df_geral2_parte4.to_dict('records')\n",
        "colecao_8_parte4.insert_many(dfmongo4_dict)"
      ],
      "metadata": {
        "id": "-pQG2DyOfREd"
      },
      "execution_count": null,
      "outputs": []
    },
    {
      "cell_type": "markdown",
      "source": [
        "------------------------------------------------"
      ],
      "metadata": {
        "id": "tqt4E8NJfigz"
      }
    },
    {
      "cell_type": "code",
      "source": [
        "#Dividir o df_geral2 em dois DF para poder fazer Upload para Mongo\n",
        "df_geral2_parte1 = df_geral2[0:128701]\n",
        "df_geral2_parte2 = df_geral2[128701:257401]"
      ],
      "metadata": {
        "id": "Pdx5AXwTU4uu"
      },
      "execution_count": null,
      "outputs": []
    },
    {
      "cell_type": "code",
      "source": [
        "df_geral2_parte1_1 = df_geral2_parte1[0:64350]\n",
        "df_geral2_parte1_2 = df_geral2_parte1[64350:128701]"
      ],
      "metadata": {
        "id": "d61XoRt9bS86"
      },
      "execution_count": null,
      "outputs": []
    },
    {
      "cell_type": "code",
      "source": [
        "colecao_4_parte1_1 = db['D.SDA.PDA.005.CAT.2022-TRATADO-parte1']\n",
        "df4_1_1dict = df_geral2_parte1_1.to_dict('records')\n",
        "colecao_4_parte1_1.insert_many(df4_1_1dict)"
      ],
      "metadata": {
        "colab": {
          "base_uri": "https://localhost:8080/"
        },
        "id": "HN2XUWMsb7Ax",
        "outputId": "985cd115-2aed-42f0-9070-3ce979dc403d"
      },
      "execution_count": null,
      "outputs": [
        {
          "output_type": "execute_result",
          "data": {
            "text/plain": [
              "<pymongo.results.InsertManyResult at 0x7eff8fb72370>"
            ]
          },
          "metadata": {},
          "execution_count": 135
        }
      ]
    },
    {
      "cell_type": "code",
      "source": [
        "colecao_4_parte1_2 = db['D.SDA.PDA.005.CAT.20_222-TRATADO-parte1_2']\n",
        "df4_1_2dict = df_geral2_parte1_2.to_dict('records')\n",
        "colecao_4_parte1_2.insert_many(df4_1_2dict)"
      ],
      "metadata": {
        "id": "kTZ-LRe-b6pF"
      },
      "execution_count": null,
      "outputs": []
    },
    {
      "cell_type": "code",
      "source": [
        "colecao_4_parte2 = db['D.SDA.PDA.005.CAT.2022-TRATADO-parte2']\n",
        "df4_2_dict = df_geral2_parte2.to_dict('records')\n",
        "colecao_4_parte2.insert_many(df4_2_dict)"
      ],
      "metadata": {
        "colab": {
          "base_uri": "https://localhost:8080/"
        },
        "id": "WYc58CRWVFuV",
        "outputId": "53e0c749-b7dd-4bd3-d20e-38437889774c"
      },
      "execution_count": null,
      "outputs": [
        {
          "output_type": "execute_result",
          "data": {
            "text/plain": [
              "<pymongo.results.InsertManyResult at 0x7eff8da0b700>"
            ]
          },
          "metadata": {},
          "execution_count": 133
        }
      ]
    },
    {
      "cell_type": "markdown",
      "source": [
        "##5.3.Load - Dataset final Para Banco de Dados MySQL."
      ],
      "metadata": {
        "id": "bVhyMRs5mwun"
      }
    },
    {
      "cell_type": "markdown",
      "source": [
        "###5.3.1.Conectar com o Banco de dados"
      ],
      "metadata": {
        "id": "PUP3No5KrsCn"
      }
    },
    {
      "cell_type": "code",
      "source": [
        "# dados de para realizar conexão com o servidor\n",
        "servidor = '34.134.239.6'\n",
        "nome_do_banco = 'cat2022'\n",
        "usuario = 'root'\n",
        "senha = '123456'\n",
        "\n",
        "# ciar uma SQLAlchemy engine para conectar com o MySQL \n",
        "engine = create_engine(\"mysql+pymysql://{user}:{pw}@{host}/{db}\"\n",
        "\t\t\t\t.format(host=servidor, db=nome_do_banco, user=usuario, pw=senha))\n",
        "\n",
        "# convertendo dataframe em uma table do sql                                   \n",
        "df_geral2.to_sql('cat_tratado', engine, index=True, index_label=\"id\")"
      ],
      "metadata": {
        "id": "-o-jASUFhaO9"
      },
      "execution_count": null,
      "outputs": []
    },
    {
      "cell_type": "markdown",
      "source": [
        "#6.Insights"
      ],
      "metadata": {
        "id": "JJ_nvLcZ-M7s"
      }
    },
    {
      "cell_type": "markdown",
      "source": [
        "##6.1.Pandas"
      ],
      "metadata": {
        "id": "SjJ8iqiVEbqa"
      }
    },
    {
      "cell_type": "markdown",
      "source": [
        "####1 - Quais as profissões que ocorrem mais acidente de trabalho - "
      ],
      "metadata": {
        "id": "uke25tau-gFn"
      }
    },
    {
      "cell_type": "code",
      "source": [
        "#Groupby Para descobrir as mais informadas\n",
        "df_geral.groupby(['Codigo_Ocupacao']).size().sort_values(ascending=False)"
      ],
      "metadata": {
        "id": "KtflWL2MLua2",
        "colab": {
          "base_uri": "https://localhost:8080/"
        },
        "outputId": "c77c3f8f-0f62-47a8-ac18-e5aca215dc29"
      },
      "execution_count": null,
      "outputs": [
        {
          "output_type": "execute_result",
          "data": {
            "text/plain": [
              "Codigo_Ocupacao\n",
              "000000-Não Informado                            90862\n",
              "322205-Tec. de Enfermagem                       11824\n",
              "784205-Alimentador de Linha de Prod.            10582\n",
              "782510-Motorista de Caminhão Rotas Regionais     4109\n",
              "717020-Servente de Obras                         3788\n",
              "                                                ...  \n",
              "841630-Misturador de Chá ou Mate                    1\n",
              "841705-Alambiqueiro                                 1\n",
              "234425-Prof. Fisioterapia                           1\n",
              "123305-Dir. Comercial                               1\n",
              "632515-Trab. Exploração de Madeiras Tanantes        1\n",
              "Length: 1556, dtype: int64"
            ]
          },
          "metadata": {},
          "execution_count": 102
        }
      ]
    },
    {
      "cell_type": "code",
      "source": [
        "#Quero que apenas apareça as profissões com mais acidentes\n",
        "df_geral_sem_nan = df_geral[~df_geral['Codigo_Ocupacao'].isin([\"000000-Não Informado\"])]"
      ],
      "metadata": {
        "id": "s9usYymGMzZb"
      },
      "execution_count": null,
      "outputs": []
    },
    {
      "cell_type": "code",
      "source": [
        "df_geral_sem_nan.groupby(['Codigo_Ocupacao'],dropna=True).size().sort_values(ascending=False).head(10).plot.bar(figsize=(12,8),xlabel='PROFISSÃO',ylabel='Qtd. Acidentes')"
      ],
      "metadata": {
        "id": "mxAL_4yz_O2t",
        "colab": {
          "base_uri": "https://localhost:8080/",
          "height": 744
        },
        "outputId": "761a25c9-9e00-4dc9-9bb7-247f867c137e"
      },
      "execution_count": null,
      "outputs": [
        {
          "output_type": "execute_result",
          "data": {
            "text/plain": [
              "<matplotlib.axes._subplots.AxesSubplot at 0x7eff955f20d0>"
            ]
          },
          "metadata": {},
          "execution_count": 104
        },
        {
          "output_type": "display_data",
          "data": {
            "text/plain": [
              "<Figure size 864x576 with 1 Axes>"
            ],
            "image/png": "[encoded data removed]"
          },
          "metadata": {
            "needs_background": "light"
          }
        }
      ]
    },
    {
      "cell_type": "markdown",
      "source": [
        "####2 - Em que região ocorre mais acidentes de trabalho? "
      ],
      "metadata": {
        "id": "jE6pJB0y-ixQ"
      }
    },
    {
      "cell_type": "code",
      "source": [
        "df_geral.groupby(['UF_Municipio_Acidente'],dropna=True).size().sort_values(ascending=False).head(4).plot.bar(figsize=(12,8),xlabel='ESTADO',ylabel='Qtd. Ocorrencias')"
      ],
      "metadata": {
        "id": "m0MwT9WeOFt6",
        "colab": {
          "base_uri": "https://localhost:8080/",
          "height": 554
        },
        "outputId": "03d6a28f-7507-4edd-d71e-ce40eab3bc66"
      },
      "execution_count": null,
      "outputs": [
        {
          "output_type": "execute_result",
          "data": {
            "text/plain": [
              "<matplotlib.axes._subplots.AxesSubplot at 0x7eff863add60>"
            ]
          },
          "metadata": {},
          "execution_count": 105
        },
        {
          "output_type": "display_data",
          "data": {
            "text/plain": [
              "<Figure size 864x576 with 1 Axes>"
            ],
            "image/png": "[encoded data removed]"
          },
          "metadata": {
            "needs_background": "light"
          }
        }
      ]
    },
    {
      "cell_type": "markdown",
      "source": [
        "####3 - Quando ocorre mais acidentes. Em que época."
      ],
      "metadata": {
        "id": "7ITKSHXt-u3W"
      }
    },
    {
      "cell_type": "code",
      "source": [
        "df_geral.groupby(['Data_Acidente'],dropna=False).size().sort_values(ascending=False).plot.line(figsize=(20,5))"
      ],
      "metadata": {
        "id": "ycSASMqHPnX-",
        "colab": {
          "base_uri": "https://localhost:8080/",
          "height": 293
        },
        "outputId": "8c2f3100-c425-433c-f012-12e0491d7eac"
      },
      "execution_count": null,
      "outputs": [
        {
          "output_type": "execute_result",
          "data": {
            "text/plain": [
              "<matplotlib.axes._subplots.AxesSubplot at 0x7eff8e672730>"
            ]
          },
          "metadata": {},
          "execution_count": 106
        },
        {
          "output_type": "display_data",
          "data": {
            "text/plain": [
              "<Figure size 1440x360 with 1 Axes>"
            ],
            "image/png": "[encoded data removed]"
          },
          "metadata": {
            "needs_background": "light"
          }
        }
      ]
    },
    {
      "cell_type": "markdown",
      "source": [
        "##6.2.PySpark"
      ],
      "metadata": {
        "id": "c4AbxZbvE4Kq"
      }
    },
    {
      "cell_type": "markdown",
      "source": [
        "###6.2.1.Filtros"
      ],
      "metadata": {
        "id": "8lHSuyInE8ew"
      }
    },
    {
      "cell_type": "code",
      "source": [
        "#O sexo que mais solicita com o pedido de Auxilio Doença\n",
        "df.groupBy('Sexo').count().show()"
      ],
      "metadata": {
        "id": "LFt8fG8lUuiF",
        "colab": {
          "base_uri": "https://localhost:8080/"
        },
        "outputId": "703974f8-92e3-4f08-a73c-1076d819ea61"
      },
      "execution_count": null,
      "outputs": [
        {
          "output_type": "stream",
          "name": "stdout",
          "text": [
            "+-------------+------+\n",
            "|         Sexo| count|\n",
            "+-------------+------+\n",
            "|Indeterminado|     3|\n",
            "|Não Informado|   819|\n",
            "|     Feminino| 87095|\n",
            "|    Masculino|169484|\n",
            "+-------------+------+\n",
            "\n"
          ]
        }
      ]
    },
    {
      "cell_type": "code",
      "source": [
        "df.filter(F.col('UF_Municipio_Acidente').contains('Alagoas')).show(truncate=False)"
      ],
      "metadata": {
        "id": "7zaH3jQVWV-U"
      },
      "execution_count": null,
      "outputs": []
    },
    {
      "cell_type": "code",
      "source": [
        "df_geral.dtypes"
      ],
      "metadata": {
        "colab": {
          "base_uri": "https://localhost:8080/"
        },
        "id": "ZpXyW_98Qew5",
        "outputId": "8ae7fb19-3232-4746-8701-cf4535bb5425"
      },
      "execution_count": null,
      "outputs": [
        {
          "output_type": "execute_result",
          "data": {
            "text/plain": [
              "Agente_Causador_Acidente                object\n",
              "Codigo_Ocupacao                         object\n",
              "Identificação_da_doenca                 object\n",
              "CNAE_COD_Atividade_Economica             int64\n",
              "CNAE_Atividade_Economica                object\n",
              "Emitente_CAT                            object\n",
              "Especie_do_beneficio                    object\n",
              "Filiação_Segurado                       object\n",
              "Indica_Obito_Acidente                   object\n",
              "Municipio_Empregador                    object\n",
              "Natureza da Lesão                       object\n",
              "Origem_Cadastramento_CAT                object\n",
              "Parte_Corpo_Atingida                    object\n",
              "Sexo                                    object\n",
              "Tipo do Acidente                        object\n",
              "UF_Municipio_Acidente                   object\n",
              "UF_Municipio_Empregador                 object\n",
              "Data_Despacho_Beneficio         datetime64[ns]\n",
              "Data_Acidente                   datetime64[ns]\n",
              "Data_Nascimento                 datetime64[ns]\n",
              "Data_Emissao_CAT                        object\n",
              "CNPJ_Empregador                         object\n",
              "dtype: object"
            ]
          },
          "metadata": {},
          "execution_count": 109
        }
      ]
    },
    {
      "cell_type": "markdown",
      "source": [
        "###6.2.2.SparkSQL"
      ],
      "metadata": {
        "id": "MPikfix7Egff"
      }
    },
    {
      "cell_type": "code",
      "source": [
        "#Criar tabela em tempo de execução para realização de consulta\n",
        "df3.createOrReplaceTempView(\"dfsql\")"
      ],
      "metadata": {
        "id": "pmHNZI-WfNa4"
      },
      "execution_count": null,
      "outputs": []
    },
    {
      "cell_type": "code",
      "source": [
        "spark.sql(\n",
        "    'SELECT * FROM dfsql limit 10;'\n",
        ").show()"
      ],
      "metadata": {
        "id": "c6EHVcv-fp1Y",
        "colab": {
          "base_uri": "https://localhost:8080/"
        },
        "outputId": "143a7f56-88d5-4f95-f847-d181714909fb"
      },
      "execution_count": null,
      "outputs": [
        {
          "output_type": "stream",
          "name": "stdout",
          "text": [
            "+------------------------+--------------------+-----------------------+----------------------------+------------------------+-------------------+--------------------+-----------------+---------------------+--------------------+--------------------+------------------------+--------------------+---------+----------------+---------------------+-----------------------+-----------------------+-------------+---------------+----------------+------------------+\n",
            "|Agente_Causador_Acidente|     Codigo_Ocupacao|Identificação_da_doenca|CNAE_COD_Atividade_Economica|CNAE_Atividade_Economica|       Emitente_CAT|Especie_do_beneficio|Filiação_Segurado|Indica_Obito_Acidente|Municipio_Empregador|   Natureza_da_Lesao|Origem_Cadastramento_CAT|Parte_Corpo_Atingida|     Sexo|Tipo_do_Acidente|UF_Municipio_Acidente|UF_Municipio_Empregador|Data_Despacho_Beneficio|Data_Acidente|Data Nascimento|Data Emissão CAT|   CNPJ_Empregador|\n",
            "+------------------------+--------------------+-----------------------+----------------------------+------------------------+-------------------+--------------------+-----------------+---------------------+--------------------+--------------------+------------------------+--------------------+---------+----------------+---------------------+-----------------------+-----------------------+-------------+---------------+----------------+------------------+\n",
            "|                    null|515105-Agente Com...|   B34.2 Infecc p/Co...|                        8630|    Atividades de Ate...|         Empregador|                  Pa|        Empregado|                  Não|354780-Santo Andr...|Doenca Contagiosa...|                Internet|Aparelho Respirat...| Feminino|          Doença|             Maranhão|              São Paulo|                   null|   2022-01-20|     1970-08-02|            null|57.571.275.002.570|\n",
            "|    Motocicleta, Moto...|519110-Motociclis...|   S52.5 Frat da Ext...|                        4930|    Transporte Rodovi...|Segurado/Dependente|                  Pa|        Empregado|                  Não|    355030-São Paulo|             Fratura|                Internet|Braco Entre O Pun...|Masculino|         Trajeto|             Maranhão|              São Paulo|                   null|   2022-02-25|     1990-12-16|            null|19.578.086.000.162|\n",
            "|    Motocicleta, Moto...|519110-Motociclis...|   S52.5 Frat da Ext...|                        4930|    Transporte Rodovi...|Segurado/Dependente|                  Pa|        Empregado|                  Não|    355030-São Paulo|             Fratura|                Internet|Braco Entre O Pun...|Masculino|         Trajeto|             Maranhão|              São Paulo|                   null|   2022-02-25|     1990-12-16|            null|19.578.086.000.162|\n",
            "|    Aprision. Em, Sob...| 514205-Coletor Lixo|   S60.0 Contusao de...|                        3811|    Coleta de Residuo...|         Empregador|                  Pa|        Empregado|                  Não|     520110-Anápolis|             Luxacao|                Internet|               Punho|Masculino|          Típico|                 null|                  Goiás|                   null|   2022-02-24|     1986-09-19|            null|              null|\n",
            "|    Impacto de Pes. C...|                null|   S90.0 Contusao do...|                        4639|    Comercio Atacadis...|         Empregador|                  Pa|        Empregado|                  Não|330100-Campos dos...|             Luxacao|                Internet|Perna Entre O Tor...|Masculino|          Típico|             Maranhão|              São Paulo|                   null|   2022-01-28|     1995-07-25|            null|              null|\n",
            "|    Temperatura Muito...|784205-Alimentado...|   T24.4 Corros Quad...|                        1011|    Abate de Reses, E...|         Empregador|                  Pa|        Empregado|                  Não|293330-Vitória da...|Queimadura ou Esc...|                Internet|Perna Entre O Tor...|Masculino|          Típico|                 null|                  Bahia|                   null|   2022-02-25|     1989-10-06|            null|              null|\n",
            "|    Piso de Veiculo -...|    521135-Frentista|   S82.3 Frat da Ext...|                        4731|    Comercio Varejist...|         Empregador|                  Pa|        Empregado|                  Não|    261110-Petrolina|             Fratura|                Internet|Perna Do Tornozel...|Masculino|         Trajeto|                 Pará|             Pernambuco|                   null|   2022-02-28|     1993-05-22|            null|24.574.403.000.102|\n",
            "|                    null|   223505-Enfermeiro|   B34.2 Infecc p/Co...|                        8630|    Atividades de Ate...|         Empregador|                  Pa|        Empregado|                  Não|354780-Santo Andr...|Doenca Contagiosa...|                Internet|Aparelho Respirat...| Feminino|          Doença|             Maranhão|              São Paulo|                   null|   2022-01-18|     1982-05-13|            null|57.571.275.002.570|\n",
            "|    Frasco, Garrafa -...|322205-Tec. de En...|   S90.8 Outr Traum ...|                        8411|    Administracao Pub...|             Médico|                  Pa|        Empregado|                  Não|     410690-Curitiba|Contusao, Esmagam...|                Internet|Membros Inferiore...| Feminino|          Típico|              Roraima|                 Paraná|                   null|   2022-03-01|     1977-11-09|            null|76.417.005.000.429|\n",
            "|    Piso de Andaime e...|    752305-Ceramista|   S90.3 Contusao de...|                        2342|    Fabricacao de Pro...|         Empregador|                  Pa|        Empregado|                  Não|    230765-Maracanaú|   Distensao, Torcao|                Internet|Articulacao do To...|Masculino|          Típico|                 null|                  Ceará|                   null|   2022-02-23|     1998-12-06|            null|              null|\n",
            "+------------------------+--------------------+-----------------------+----------------------------+------------------------+-------------------+--------------------+-----------------+---------------------+--------------------+--------------------+------------------------+--------------------+---------+----------------+---------------------+-----------------------+-----------------------+-------------+---------------+----------------+------------------+\n",
            "\n"
          ]
        }
      ]
    },
    {
      "cell_type": "code",
      "source": [
        "spark.sql('SELECT Natureza_da_Lesao, Sexo \\\n",
        "           FROM dfsql \\\n",
        "           WHERE Sexo = \"Feminino\"').show() "
      ],
      "metadata": {
        "colab": {
          "base_uri": "https://localhost:8080/"
        },
        "id": "LapyvIuQr-Hj",
        "outputId": "09cc4789-421a-4939-fe46-0dccd4f55501"
      },
      "execution_count": null,
      "outputs": [
        {
          "output_type": "stream",
          "name": "stdout",
          "text": [
            "+--------------------+--------+\n",
            "|   Natureza_da_Lesao|    Sexo|\n",
            "+--------------------+--------+\n",
            "|Doenca Contagiosa...|Feminino|\n",
            "|Doenca Contagiosa...|Feminino|\n",
            "|Contusao, Esmagam...|Feminino|\n",
            "|  Outras Lesoes, Nic|Feminino|\n",
            "|Doenca Contagiosa...|Feminino|\n",
            "|   Distensao, Torcao|Feminino|\n",
            "|  Outras Lesoes, Nic|Feminino|\n",
            "|Escoriacao, Abras...|Feminino|\n",
            "|Corte, Laceracao,...|Feminino|\n",
            "|             Fratura|Feminino|\n",
            "|  Outras Lesoes, Nic|Feminino|\n",
            "|             Fratura|Feminino|\n",
            "|Corte, Laceracao,...|Feminino|\n",
            "|Choque Eletrico e...|Feminino|\n",
            "|Corte, Laceracao,...|Feminino|\n",
            "|Contusao, Esmagam...|Feminino|\n",
            "|   Distensao, Torcao|Feminino|\n",
            "|Doenca Contagiosa...|Feminino|\n",
            "|Doenca Contagiosa...|Feminino|\n",
            "|Doenca Contagiosa...|Feminino|\n",
            "+--------------------+--------+\n",
            "only showing top 20 rows\n",
            "\n"
          ]
        }
      ]
    },
    {
      "cell_type": "code",
      "source": [
        "#qual tipo de acidente é mais comum para cada agente causador?\n",
        "spark.sql('SELECT Agente_Causador_Acidente, Tipo_do_Acidente, COUNT(Tipo_do_Acidente) \\\n",
        "          FROM dfsql \\\n",
        "          GROUP BY Agente_Causador_Acidente, Tipo_do_Acidente \\\n",
        "          ORDER BY COUNT(Tipo_do_Acidente) DESC').show(10)"
      ],
      "metadata": {
        "colab": {
          "base_uri": "https://localhost:8080/"
        },
        "id": "YIRpED2ccHeX",
        "outputId": "e9498745-b788-4d6d-ba55-496102f1b6d4"
      },
      "execution_count": null,
      "outputs": [
        {
          "output_type": "stream",
          "name": "stdout",
          "text": [
            "+------------------------+----------------+-----------------------+\n",
            "|Agente_Causador_Acidente|Tipo_do_Acidente|count(Tipo_do_Acidente)|\n",
            "+------------------------+----------------+-----------------------+\n",
            "|                    null|        Ignorado|                  90556|\n",
            "|    Motocicleta, Moto...|         Trajeto|                   7058|\n",
            "|                    null|          Típico|                   6822|\n",
            "|    Impacto de Pes. C...|          Típico|                   5024|\n",
            "|    Metal - Inclui Li...|          Típico|                   4847|\n",
            "|    Impacto Sofrido p...|          Típico|                   4833|\n",
            "|    Rua e Estrada - S...|         Trajeto|                   4750|\n",
            "|    Chao - Superficie...|          Típico|                   4497|\n",
            "|    Impacto de Pes. C...|          Típico|                   4412|\n",
            "|    Faca, Facao- Ferr...|          Típico|                   3881|\n",
            "+------------------------+----------------+-----------------------+\n",
            "only showing top 10 rows\n",
            "\n"
          ]
        }
      ]
    },
    {
      "cell_type": "code",
      "source": [
        "#quais ocupações estão mais associadas a determinadas lesões\n",
        "\n",
        "spark.sql('SELECT Codigo_Ocupacao, Natureza_da_Lesao, COUNT(*) \\\n",
        "          FROM dfsql \\\n",
        "          GROUP BY Codigo_Ocupacao, Natureza_da_Lesao \\\n",
        "          ORDER BY COUNT(*) DESC').show(10)"
      ],
      "metadata": {
        "colab": {
          "base_uri": "https://localhost:8080/"
        },
        "id": "bbLJzfrdMIEs",
        "outputId": "fb1f2e81-1a6e-4b69-e332-78a80c311796"
      },
      "execution_count": null,
      "outputs": [
        {
          "output_type": "stream",
          "name": "stdout",
          "text": [
            "+--------------------+--------------------+--------+\n",
            "|     Codigo_Ocupacao|   Natureza_da_Lesao|count(1)|\n",
            "+--------------------+--------------------+--------+\n",
            "|000000-Não Informado|                null|   90844|\n",
            "|                null|             Fratura|    2688|\n",
            "|784205-Alimentado...|Corte, Laceracao,...|    2656|\n",
            "|                null|Corte, Laceracao,...|    2640|\n",
            "|322205-Tec. de En...|      Lesao Imediata|    2182|\n",
            "|                null|      Lesao Imediata|    2110|\n",
            "|322205-Tec. de En...|Corte, Laceracao,...|    2092|\n",
            "|784205-Alimentado...|             Fratura|    1798|\n",
            "|322205-Tec. de En...|Doenca Contagiosa...|    1689|\n",
            "|                null|Contusao, Esmagam...|    1679|\n",
            "+--------------------+--------------------+--------+\n",
            "only showing top 10 rows\n",
            "\n"
          ]
        }
      ]
    },
    {
      "cell_type": "code",
      "source": [
        "\n",
        "#Qual é a atividade econômica mais comum entre os acidentados?\n",
        "\n",
        "spark.sql('SELECT CNAE_Atividade_Economica, \\\n",
        "          COUNT(*) AS Numero_Acidentados\\\n",
        "          FROM dfsql \\\n",
        "          GROUP BY CNAE_Atividade_Economica \\\n",
        "          ORDER BY Numero_Acidentados DESC \\\n",
        "          LIMIT 2').show(10)\n"
      ],
      "metadata": {
        "colab": {
          "base_uri": "https://localhost:8080/"
        },
        "id": "RUyi4wuBMwU3",
        "outputId": "95bbd4cf-e6e3-4052-d095-80a46497e1a9"
      },
      "execution_count": null,
      "outputs": [
        {
          "output_type": "stream",
          "name": "stdout",
          "text": [
            "+------------------------+------------------+\n",
            "|CNAE_Atividade_Economica|Numero_Acidentados|\n",
            "+------------------------+------------------+\n",
            "|                    null|             96355|\n",
            "|    Atividades de Ate...|             18129|\n",
            "+------------------------+------------------+\n",
            "\n"
          ]
        }
      ]
    },
    {
      "cell_type": "code",
      "source": [
        "#Qual é a relação entre a Natureza da Lesão e a Parte do Corpo Atingida?\n",
        "spark.sql('SELECT Natureza_da_Lesao, Parte_Corpo_Atingida \\\n",
        "           FROM dfsql \\\n",
        "           GROUP BY Natureza_da_Lesao, Parte_Corpo_Atingida').show(10)\n"
      ],
      "metadata": {
        "id": "_MrB3_lcM8Lm",
        "colab": {
          "base_uri": "https://localhost:8080/"
        },
        "outputId": "02949984-d1a7-4d8b-a5a3-e33a5f4c784a"
      },
      "execution_count": null,
      "outputs": [
        {
          "output_type": "stream",
          "name": "stdout",
          "text": [
            "+--------------------+--------------------+\n",
            "|   Natureza_da_Lesao|Parte_Corpo_Atingida|\n",
            "+--------------------+--------------------+\n",
            "|Escoriacao, Abras...|Antebraco Entre O...|\n",
            "|         Doenca, Nic|         Tronco, Nic|\n",
            "|Hernia de Qualque...|Abdome Inclusive ...|\n",
            "|Hernia de Qualque...|Sistema Musculo-E...|\n",
            "|Asfixia, Estrangu...|Localizacao da Le...|\n",
            "|    Lesoes Multiplas|Cabeca, Partes Mu...|\n",
            "|             Fratura|                Coxa|\n",
            "|Queimadura Quimic...|Braco Entre O Pun...|\n",
            "|Perda ou Diminuic...|     Sistema Nervoso|\n",
            "|Perda ou Diminuic...|Boca Inclusive La...|\n",
            "+--------------------+--------------------+\n",
            "only showing top 10 rows\n",
            "\n"
          ]
        }
      ]
    },
    {
      "cell_type": "markdown",
      "source": [
        "###6.2.3.Window Functions"
      ],
      "metadata": {
        "id": "EAq0QwHpEsvO"
      }
    },
    {
      "cell_type": "code",
      "source": [
        "#CRIAR UMA PARTIÇÃO SOBRE O DATAFRAME PARA UTILIZAR ALGUM TIPO DE CLASSIFICAÇÃO\n",
        "w00 = Window.partitionBy(F.col('Identificação_da_doenca')).orderBy(F.col('Indica_Obito_Acidente').desc())\n",
        "# 1) ROW_NUMBER - RETORNA O NÚMERO DA LINHA DE ACORDO COM A PARTIÇÃO CRIADA\n",
        "df3.withColumn('rank', F.rank().over(w00)).show()"
      ],
      "metadata": {
        "id": "1OM9YGvobeSf"
      },
      "execution_count": null,
      "outputs": []
    },
    {
      "cell_type": "code",
      "source": [
        "w1 = Window.partitionBy(F.col('Agente_Causador_Acidente')).orderBy('Especie_do_beneficio')\n",
        "df3.withColumn('Taxa_de_Acidentes_por_Agente', F.rank().over(w1)).show()"
      ],
      "metadata": {
        "id": "61kwWQ9m0iqT",
        "colab": {
          "base_uri": "https://localhost:8080/"
        },
        "outputId": "d60a36d2-df88-4a0c-d5c7-f1f895e63ed1"
      },
      "execution_count": null,
      "outputs": [
        {
          "output_type": "stream",
          "name": "stdout",
          "text": [
            "+------------------------+--------------------+-----------------------+----------------------------+------------------------+------------+--------------------+-----------------+---------------------+--------------------+-----------------+------------------------+--------------------+---------+----------------+---------------------+-----------------------+-----------------------+-------------+---------------+----------------+---------------+----------------------------+\n",
            "|Agente_Causador_Acidente|     Codigo_Ocupacao|Identificação_da_doenca|CNAE_COD_Atividade_Economica|CNAE_Atividade_Economica|Emitente_CAT|Especie_do_beneficio|Filiação_Segurado|Indica_Obito_Acidente|Municipio_Empregador|Natureza_da_Lesao|Origem_Cadastramento_CAT|Parte_Corpo_Atingida|     Sexo|Tipo_do_Acidente|UF_Municipio_Acidente|UF_Municipio_Empregador|Data_Despacho_Beneficio|Data_Acidente|Data Nascimento|Data Emissão CAT|CNPJ_Empregador|Taxa_de_Acidentes_por_Agente|\n",
            "+------------------------+--------------------+-----------------------+----------------------------+------------------------+------------+--------------------+-----------------+---------------------+--------------------+-----------------+------------------------+--------------------+---------+----------------+---------------------+-----------------------+-----------------------+-------------+---------------+----------------+---------------+----------------------------+\n",
            "|                    null|000000-Não Informado|   M51.1 Transt Disc...|                           0|                    null|        null|Aposent. Invalide...|             null|                    ñ|     000000-Ignorado|             null|                    null|                null|Masculino|        Ignorado|                 null|                   null|             2022-03-01|   2022-01-28|     1960-10-06|            null|           null|                           1|\n",
            "|                    null|000000-Não Informado|   M54.5 Dor Lombar ...|                           0|                    null|        null|Aposent. Invalide...|             null|                    ñ|     000000-Ignorado|             null|                    null|                null|Masculino|        Ignorado|              Roraima|                   null|             2022-03-01|   2022-01-18|     1967-09-20|            null|           null|                           1|\n",
            "|                    null|000000-Não Informado|   M75   Lesoes do O...|                           0|                    null|        null|Aposent. Invalide...|             null|                    ñ|     000000-Ignorado|             null|                    null|                null|Masculino|        Ignorado|                 Pará|                   null|             2022-03-01|   2022-02-11|     1962-09-19|            null|           null|                           1|\n",
            "|                    null|000000-Não Informado|   M75.1 Sindr do Ma...|                           0|                    null|        null|Aposent. Invalide...|             null|                    ñ|     000000-Ignorado|             null|                    null|                null| Feminino|        Ignorado|            Tocantins|                   null|             2022-03-01|   2022-01-24|     1960-11-10|            null|           null|                           1|\n",
            "|                    null|000000-Não Informado|   S83   Luxacao Ent...|                           0|                    null|        null|Aposent. Invalide...|             null|                    ñ|     000000-Ignorado|             null|                    null|                null| Feminino|        Ignorado|             Maranhão|                   null|             2022-03-01|   2022-01-03|     1964-05-03|            null|           null|                           1|\n",
            "|                    null|000000-Não Informado|   E10.5 c/Compl Cir...|                           0|                    null|        null|Aposent. Invalide...|             null|                    ñ|     000000-Ignorado|             null|                    null|                null|Masculino|        Ignorado|             Maranhão|                   null|             2022-03-01|   2022-01-10|     1964-06-16|            null|           null|                           1|\n",
            "|                    null|000000-Não Informado|   M51   Outr Transt...|                           0|                    null|        null|Aposent. Invalide...|             null|                    ñ|     000000-Ignorado|             null|                    null|                null|Masculino|        Ignorado|                 null|                   null|             2022-06-01|   2022-02-01|     1964-07-31|            null|           null|                           1|\n",
            "|                    null|000000-Não Informado|   M51.1 Transt Disc...|                           0|                    null|        null|Aposent. Invalide...|             null|                    ñ|     000000-Ignorado|             null|                    null|                null|Masculino|        Ignorado|                 null|                   null|             2022-03-01|   2022-01-28|     1960-10-06|            null|           null|                           1|\n",
            "|                    null|000000-Não Informado|   T11.6 Amput Traum...|                           0|                    null|        null|Aposent. Invalide...|             null|                    ñ|     000000-Ignorado|             null|                    null|                null|Masculino|        Ignorado|                 null|                   null|             2022-04-01|   2022-01-08|     1976-03-30|            null|           null|                           1|\n",
            "|                    null|000000-Não Informado|   S88   Amput Traum...|                           0|                    null|        null|Aposent. Invalide...|             null|                    ñ|     000000-Ignorado|             null|                    null|                null|Masculino|        Ignorado|             Rondônia|                   null|             2022-06-01|   2022-02-20|     1993-06-22|            null|           null|                           1|\n",
            "|                    null|000000-Não Informado|   T09.3 Traum de Me...|                           0|                    null|        null|Aposent. Invalide...|             null|                    ñ|     000000-Ignorado|             null|                    null|                null|Masculino|        Ignorado|             Rondônia|                   null|             2022-05-01|   2022-01-18|     1971-02-25|            null|           null|                           1|\n",
            "|                    null|000000-Não Informado|   M75.1 Sindr do Ma...|                           0|                    null|        null|Aposent. Invalide...|             null|                    ñ|     000000-Ignorado|             null|                    null|                null|Masculino|        Ignorado|             Rondônia|                   null|             2022-04-01|   2022-02-26|     1958-02-03|            null|           null|                           1|\n",
            "|                    null|000000-Não Informado|   S06   Traum Intra...|                           0|                    null|        null|Aposent. Invalide...|             null|                    ñ|     000000-Ignorado|             null|                    null|                null|Masculino|        Ignorado|             Rondônia|                   null|             2022-05-01|   2022-02-01|     1973-08-11|            null|           null|                           1|\n",
            "|                    null|000000-Não Informado|   I61   Hemorragia ...|                           0|                    null|        null|Aposent. Invalide...|             null|                    ñ|     000000-Ignorado|             null|                    null|                null|Masculino|        Ignorado|             Rondônia|                   null|             2022-05-01|   2022-01-10|     1966-01-03|            null|           null|                           1|\n",
            "|                    null|000000-Não Informado|   J44.9 Doenc Pulmo...|                           0|                    null|        null|Aposent. Invalide...|             null|                    ñ|     000000-Ignorado|             null|                    null|                null|Masculino|        Ignorado|             Rondônia|                   null|             2022-06-01|   2022-04-28|     1960-04-02|            null|           null|                           1|\n",
            "|                    null|000000-Não Informado|   T04.2 Traum p/Esm...|                           0|                    null|        null|Aposent. Invalide...|             null|                    ñ|     000000-Ignorado|             null|                    null|                null|Masculino|        Ignorado|              Roraima|                   null|             2022-04-01|   2022-03-01|     1977-02-04|            null|           null|                           1|\n",
            "|                    null|000000-Não Informado|   M54.5 Dor Lombar ...|                           0|                    null|        null|Aposent. Invalide...|             null|                    ñ|     000000-Ignorado|             null|                    null|                null|Masculino|        Ignorado|              Roraima|                   null|             2022-03-01|   2022-01-18|     1967-09-20|            null|           null|                           1|\n",
            "|                    null|000000-Não Informado|        M54   Dorsalgia|                           0|                    null|        null|Aposent. Invalide...|             null|                    ñ|     000000-Ignorado|             null|                    null|                null|Masculino|        Ignorado|              Roraima|                   null|             2022-06-01|   2022-01-04|     1966-08-20|            null|           null|                           1|\n",
            "|                    null|000000-Não Informado|   M75   Lesoes do O...|                           0|                    null|        null|Aposent. Invalide...|             null|                    ñ|     000000-Ignorado|             null|                    null|                null|Masculino|        Ignorado|                 Pará|                   null|             2022-03-01|   2022-02-11|     1962-09-19|            null|           null|                           1|\n",
            "|                    null|000000-Não Informado|   B94   Sequelas de...|                           0|                    null|        null|Aposent. Invalide...|             null|                    ñ|     000000-Ignorado|             null|                    null|                null|Masculino|        Ignorado|                 Pará|                   null|             2022-06-01|   2022-02-22|     1964-07-20|            null|           null|                           1|\n",
            "+------------------------+--------------------+-----------------------+----------------------------+------------------------+------------+--------------------+-----------------+---------------------+--------------------+-----------------+------------------------+--------------------+---------+----------------+---------------------+-----------------------+-----------------------+-------------+---------------+----------------+---------------+----------------------------+\n",
            "only showing top 20 rows\n",
            "\n"
          ]
        }
      ]
    },
    {
      "cell_type": "code",
      "source": [],
      "metadata": {
        "id": "B2gqEB3tRNGz"
      },
      "execution_count": null,
      "outputs": []
    }
  ],
  "metadata": {
    "colab": {
      "provenance": [],
      "collapsed_sections": [
        "IIwiR3LsF-0g",
        "SjJ8iqiVEbqa",
        "uke25tau-gFn",
        "jE6pJB0y-ixQ",
        "7ITKSHXt-u3W",
        "8lHSuyInE8ew"
      ],
      "include_colab_link": true
    },
    "kernelspec": {
      "display_name": "Python 3",
      "name": "python3"
    },
    "language_info": {
      "name": "python"
    }
  },
  "nbformat": 4,
  "nbformat_minor": 0
}