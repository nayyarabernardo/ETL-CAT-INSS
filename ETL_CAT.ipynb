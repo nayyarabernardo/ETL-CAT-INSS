{
  "cells": [
    {
      "cell_type": "markdown",
      "metadata": {
        "id": "Yu6hiAP5-gdv"
      },
      "source": [
        "#Projeto Aquecimento"
      ]
    },
    {
      "cell_type": "markdown",
      "source": [
        "##Breve contextualização dos dados"
      ],
      "metadata": {
        "id": "je0M3SOYaIIy"
      }
    },
    {
      "cell_type": "markdown",
      "source": [
        "O projeto foi desenvolvido consolidando as bases disponibilizadas em uma única por meio do processo de ETL, utilizando como ferramentas o Colab bem como o Google Cloud e observando os seguintes parâmetros:\n",
        "1. Da base de dados: \n",
        "* Os dados disponibilizados são da base dos dados de\n",
        "CAT do ano de 2022 contendo os dados cadastrados no sistema informatizado de Comunicação de Acidentes do Trabalho do INSS (CATWEB) ou quando da concessão de benefício por incapacidade acidentário. Por tais dados serem efetuados por sistema, telefone e ou presencial podem existir dados divergentes ou ausentes(faltantes).\n",
        "2. Nível Infra:\n",
        "* O arquivo original e tratado deve ser salvo em MongoDB Atlas em coleções diferentes (enumerar com o final tratado ou original).\n",
        "Os Datasets devem ser obrigatoriamente salvos em uma bucket do\n",
        "CloudStorage(original e tratado).\n",
        "Disponibilizar o dataset final em um mysql.\n",
        "COMENTÁRIOS\n",
        "\n",
        "3. Nível Pandas\n",
        "* Realizar a extração correta para um dataframe.\n",
        "* Verificar a existência de dados inconsistentes e realizar a limpeza para NaN/NA ou algum valor atribuído por você explicando o porque da decisão.\n",
        "* Realizar o drop(se necessário) de colunas do dataframe realizando o\n",
        "comentário do porque da exclusão\n",
        "* Todos os passos devem ser comentados(exclusivos)\n",
        "* Agregar todos os DF&#39;s originais em um unico DF tratado\n",
        "* Criar no mínimo 3 insights dos dados apresentados podendo ser\n",
        "construído com auxilio de plots.\n",
        "4. Nivel PySpark\n",
        "* Deverá ser montada a estrutura do DataFrame utilizando o StructType.\n",
        "* Verificar a existência de dados inconsistentes, nulos e realizar a limpeza.\n",
        "* Verificar a necessidade de drop em colunas ou linhas. Caso seja\n",
        "necessário, fazer comentário do porque.\n",
        "* Realizar a mudança de nome de pelo menos 2 colunas\n",
        "* Deverá criar pelo menos duas novas colunas contendo alguma informação relevante sobre as outras colunas já existentes (Funções de Agrupamento, Agregação ou Joins). (Use a sua capacidade analítica)\n",
        "* Deverá utilizar filtros, ordenação e agrupamento, trazendo dados\n",
        "relevantes para o negócio em questão. (Use a sua capacidade analítica)\n",
        "* Utilizar pelo menos duas Window Functions\n",
        "* 5 insights utilizando SparkSQL"
      ],
      "metadata": {
        "id": "lNCbITk3aacY"
      }
    },
    {
      "cell_type": "markdown",
      "metadata": {
        "id": "46Y-x5TpDVhm"
      },
      "source": [
        "#1.Bibliotecas"
      ]
    },
    {
      "cell_type": "markdown",
      "metadata": {
        "id": "EVqzCXAy-xvN"
      },
      "source": [
        "##1.1.Instalações de Bibliotecas"
      ]
    },
    {
      "cell_type": "code",
      "execution_count": null,
      "metadata": {
        "id": "Hb7khVWf3zQz"
      },
      "outputs": [],
      "source": [
        "!pip install gcsfs # Necessário para fazer a conexão com a GCP\n",
        "!pip install pyspark # Necessário para fazer a conexão com o PySpark\n",
        "!pip install pymongo # Necessário para fazer a conexão com o MongoDB\n",
        "!pip install pymysql # Necessário para fazer a conexão / envio com o MySQL\n",
        "!pip install mysql-connector-python # Necessário para fazer a conexão com o MySQL"
      ]
    },
    {
      "cell_type": "markdown",
      "metadata": {
        "id": "YMCJVSYr_Lxi"
      },
      "source": [
        "##1.2.Importação de Bibliotecas "
      ]
    },
    {
      "cell_type": "code",
      "source": [
        "import pymongo \n",
        "import os\n",
        "import pandas as pd\n",
        "import numpy as np\n",
        "import mysql.connector\n",
        "import datetime\n",
        "import pyspark.sql.functions as F"
      ],
      "metadata": {
        "id": "RIFnOXAZaH4V"
      },
      "execution_count": 2,
      "outputs": []
    },
    {
      "cell_type": "code",
      "source": [
        "from pyspark.sql import SparkSession\n",
        "from pyspark.sql.types import *\n",
        "from pyspark.sql.functions import *\n",
        "from pyspark.sql.window import Window\n",
        "from mysql.connector import Error\n",
        "from pyspark import SparkConf\n",
        "from sqlalchemy import create_engine\n",
        "from google.cloud import storage\n",
        "from pymongo import MongoClient"
      ],
      "metadata": {
        "id": "mzF3oEd7aI8A"
      },
      "execution_count": 3,
      "outputs": []
    },
    {
      "cell_type": "markdown",
      "metadata": {
        "id": "swLUx3EC_Sn3"
      },
      "source": [
        "##1.3.Conectar com Bibliotecas"
      ]
    },
    {
      "cell_type": "markdown",
      "metadata": {
        "id": "Vs1k8FPfEQlq"
      },
      "source": [
        "###1.3.1.GCP"
      ]
    },
    {
      "cell_type": "code",
      "source": [
        "#Conexão com o drive \n",
        "from google.colab import drive\n",
        "drive.mount('/content/drive')"
      ],
      "metadata": {
        "colab": {
          "base_uri": "https://localhost:8080/"
        },
        "id": "L__aT5LmYmoO",
        "outputId": "7b0623f8-c76d-4069-f949-4bb51a9d6ec2"
      },
      "execution_count": 4,
      "outputs": [
        {
          "output_type": "stream",
          "name": "stdout",
          "text": [
            "Mounted at /content/drive\n"
          ]
        }
      ]
    },
    {
      "cell_type": "code",
      "execution_count": 5,
      "metadata": {
        "id": "eMDNtMpzETN_"
      },
      "outputs": [],
      "source": [
        "#Conecção com a GCP\n",
        "serviceAccount = '/content/drive/MyDrive/BC26-ENG DADOS-PYTHON/PROJETOS/key-store-via-colab.json'\n",
        "os.environ['GOOGLE_APPLICATION_CREDENTIALS'] = serviceAccount"
      ]
    },
    {
      "cell_type": "markdown",
      "metadata": {
        "id": "15LCQEwjEJCp"
      },
      "source": [
        "###1.3.2.Mongo"
      ]
    },
    {
      "cell_type": "code",
      "execution_count": 6,
      "metadata": {
        "id": "U5-1mgUIAWTM"
      },
      "outputs": [],
      "source": [
        "#conector do Mongo Atlas\n",
        "uri = \"mongodb+srv://nayyarabernardo-soulcod.mv7bzjn.mongodb.net/?authSource=%24external&authMechanism=MONGODB-X509&retryWrites=true&w=majority\"\n",
        "client = MongoClient(uri, \n",
        "                     tls=True, \n",
        "                     tlsCertificateKeyFile='/content/drive/MyDrive/BC26-ENG DADOS-PYTHON/PROJETOS/X509-cert-3376380089754927980.pem')\n"
      ]
    },
    {
      "cell_type": "markdown",
      "metadata": {
        "id": "kyV0ZiBSEMoa"
      },
      "source": [
        "###1.3.3.Spark"
      ]
    },
    {
      "cell_type": "code",
      "execution_count": 7,
      "metadata": {
        "id": "Xqq5NRSfEOMQ"
      },
      "outputs": [],
      "source": [
        "#CONFIGURAR A SPARK SESSION\n",
        "spark = (\n",
        "   SparkSession.builder\n",
        "               .master('local')\n",
        "               .appName('gcsfs') \n",
        "               .config('spark.ui.port', '4050')\n",
        "               .config(\"spark.jars\", 'https://storage.googleapis.com/hadoop-lib/gcs/gcs-connector-hadoop2-latest.jar') #config acesso conector gcp\n",
        "               .getOrCreate()                \n",
        ")\n",
        "   "
      ]
    },
    {
      "cell_type": "markdown",
      "metadata": {
        "id": "IIwiR3LsF-0g"
      },
      "source": [
        "#2.Load - Carregamento de dados originais - GCP e MongoDB"
      ]
    },
    {
      "cell_type": "markdown",
      "metadata": {
        "id": "sggN_ifOs_hl"
      },
      "source": [
        "##2.1.Carregando os arquivos Originais para o Bucket"
      ]
    },
    {
      "cell_type": "code",
      "execution_count": 8,
      "metadata": {
        "id": "b9ZwTXLpgj8V"
      },
      "outputs": [],
      "source": [
        "#Criar DF com arquivos\n",
        "df_01 = pd.read_csv('/content/drive/MyDrive/BC26-ENG DADOS-PYTHON/PROJETOS/D.SDA.PDA.005.CAT.202201.csv', sep=';',encoding = 'ISO-8859-1')\n",
        "df_02 = pd.read_csv('/content/drive/MyDrive/BC26-ENG DADOS-PYTHON/PROJETOS/D.SDA.PDA.005.CAT.202204.csv', sep=';',encoding = 'ISO-8859-1')\n",
        "df_03 = pd.read_csv('/content/drive/MyDrive/BC26-ENG DADOS-PYTHON/PROJETOS/D.SDA.PDA.005.CAT.202210.csv', sep=';',encoding = 'ISO-8859-1')\n",
        "#Enviar arquivo para Bucket\n",
        "df_01.to_csv('gs://projeto_cat/ORIGINAL/D.SDA.PDA.005.CAT.202201-ORIGINAL.csv', index=False)\n",
        "df_02.to_csv('gs://projeto_cat/ORIGINAL/D.SDA.PDA.005.CAT.202204-ORIGINAL.csv', index=False)\n",
        "df_03.to_csv('gs://projeto_cat/ORIGINAL/D.SDA.PDA.005.CAT.202210-ORIGINAL.csv', index=False)"
      ]
    },
    {
      "cell_type": "markdown",
      "metadata": {
        "id": "itK2OydHLroB"
      },
      "source": [
        "#3.Extract - Extração de dados do data lake"
      ]
    },
    {
      "cell_type": "code",
      "execution_count": 9,
      "metadata": {
        "id": "WolTmmI_QB9o"
      },
      "outputs": [],
      "source": [
        "# DOWLOAND ARQUIVO ORGINAIS DO DATALAKE\n",
        "df_1 = pd.read_csv('gs://projeto_cat/ORIGINAL/D.SDA.PDA.005.CAT.202201-ORIGINAL.csv')\n",
        "df_2 = pd.read_csv('gs://projeto_cat/ORIGINAL/D.SDA.PDA.005.CAT.202204-ORIGINAL.csv')\n",
        "df_3 = pd.read_csv('gs://projeto_cat/ORIGINAL/D.SDA.PDA.005.CAT.202210-ORIGINAL.csv')"
      ]
    },
    {
      "cell_type": "code",
      "execution_count": 10,
      "metadata": {
        "id": "O3iKb2qD5-nC"
      },
      "outputs": [],
      "source": [
        "#Para mostrar todas as colunas no display\n",
        "pd.set_option('display.max_columns',25)"
      ]
    },
    {
      "cell_type": "markdown",
      "metadata": {
        "id": "Jqm-Jl6mtGdz"
      },
      "source": [
        "##3.1Carregando os arquivos Brutos para o MongoDB"
      ]
    },
    {
      "cell_type": "markdown",
      "metadata": {
        "id": "0J4VfGmUvghG"
      },
      "source": [
        "###3.1.1.Tratamento de inconsistências para envio ao MongoDB"
      ]
    },
    {
      "cell_type": "markdown",
      "metadata": {
        "id": "5kLcqZYIDxLs"
      },
      "source": [
        "####3.1.1.1.Pre Analise para envio"
      ]
    },
    {
      "cell_type": "code",
      "execution_count": 11,
      "metadata": {
        "id": "3Dozq2kJtT1Z"
      },
      "outputs": [],
      "source": [
        "#Replece de virgulas, espaços, barras e parênteses\n",
        "df_1.replace(['{', '}','\\('],'',regex=True,inplace=True)\n",
        "df_2.replace(['{', '}','\\('],'',regex=True,inplace=True)\n",
        "df_3.replace(['{', '}','\\('],'',regex=True,inplace=True)"
      ]
    },
    {
      "cell_type": "code",
      "execution_count": 12,
      "metadata": {
        "id": "T_j9X0E5wGvg"
      },
      "outputs": [],
      "source": [
        "#Dividir o df_2 em dois DF para poder fazer ulpload para Mongo\n",
        "df_02_parte1 = df_02[0:40001]\n",
        "df_02_parte2 = df_02[40001:80001]\n",
        "df_02_parte3 = df_02[80001:89603]"
      ]
    },
    {
      "cell_type": "markdown",
      "metadata": {
        "id": "lXFfuI9GQhGl"
      },
      "source": [
        "###3.1.2.Carregamento do arquivo o MongoDB"
      ]
    },
    {
      "cell_type": "code",
      "execution_count": 13,
      "metadata": {
        "id": "I5WhSB8DCYv_"
      },
      "outputs": [],
      "source": [
        "# #Criar conexão\n",
        "# db = client['CAT-PROJETO']"
      ]
    },
    {
      "cell_type": "code",
      "execution_count": 14,
      "metadata": {
        "id": "A0FMFk9NyZc6"
      },
      "outputs": [],
      "source": [
        "# # #Criar e enviar coleção ORIGINAL  \n",
        "# colecao_1 = db['D.SDA.PDA.005.CAT.202201-ORIGINAL']\n",
        "# df1_dict = df_1.to_dict('records')\n",
        "# # Inserindo os dados no mongodb\n",
        "# colecao_1.insert_many(df1_dict)"
      ]
    },
    {
      "cell_type": "code",
      "execution_count": 15,
      "metadata": {
        "id": "4brkk9LU1e-V"
      },
      "outputs": [],
      "source": [
        "# colecao_2_parte1 = db['D.SDA.PDA.005.CAT.202204-PARTE1-ORIGINAL']\n",
        "# df2_dict_parte1 = df_02_parte1.to_dict('records')\n",
        "# colecao_2_parte1.insert_many(df2_dict_parte1)"
      ]
    },
    {
      "cell_type": "code",
      "execution_count": 16,
      "metadata": {
        "id": "v3bWwMgm07Pu"
      },
      "outputs": [],
      "source": [
        "# colecao_2_parte2 = db['D.SDA.PDA.005.CAT.202204-PARTE2-ORIGINAL']\n",
        "# df2_dict_parte2 = df_02_parte2.to_dict('records')\n",
        "# colecao_2_parte2.insert_many(df2_dict_parte2)"
      ]
    },
    {
      "cell_type": "code",
      "execution_count": 17,
      "metadata": {
        "id": "qHn9UvQ---7T"
      },
      "outputs": [],
      "source": [
        "# colecao_2_parte3 = db['D.SDA.PDA.005.CAT.202204-PARTE3-ORIGINAL']\n",
        "# df2_dict_parte3 = df_02_parte3.to_dict('records')\n",
        "# colecao_2_parte3.insert_many(df2_dict_parte3)"
      ]
    },
    {
      "cell_type": "code",
      "execution_count": 18,
      "metadata": {
        "id": "63iwvmvd2eaE"
      },
      "outputs": [],
      "source": [
        "# colecao_3 = db['D.SDA.PDA.005.CAT.202210-ORIGINAL']\n",
        "# df3_dict = df_3.to_dict('records')\n",
        "# colecao_3.insert_many(df3_dict)"
      ]
    },
    {
      "cell_type": "markdown",
      "metadata": {
        "id": "6evNU0MSiphz"
      },
      "source": [
        "#4.Transform - Tratamento utilizando Pandas e PySpark"
      ]
    },
    {
      "cell_type": "markdown",
      "metadata": {
        "id": "NQxoyqgDVYjx"
      },
      "source": [
        "##4.1.PANDAS "
      ]
    },
    {
      "cell_type": "markdown",
      "metadata": {
        "id": "o4x1SrdQT-XZ"
      },
      "source": [
        "###4.1.2.Tratamento"
      ]
    },
    {
      "cell_type": "code",
      "execution_count": 19,
      "metadata": {
        "id": "qd9VlL0YCjCV"
      },
      "outputs": [],
      "source": [
        "#Junção dos DataFrames\n",
        "geral = [df_1,df_2,df_3]\n",
        "df_geral = pd.concat(geral)"
      ]
    },
    {
      "cell_type": "code",
      "execution_count": 20,
      "metadata": {
        "id": "5S5_6ERjJDIB"
      },
      "outputs": [],
      "source": [
        "#Backap do DF GERAL geral\n",
        "dfbackgeral_3 = df_geral.copy()"
      ]
    },
    {
      "cell_type": "code",
      "execution_count": 21,
      "metadata": {
        "id": "sQpV3vteaX-C"
      },
      "outputs": [],
      "source": [
        "##DROP de colunas desnecessarias pois é repetitiva em relação a coluna Data nascimento ja existente \n",
        "\n",
        "df_geral.drop(['Data Acidente', 'Data Acidente.1'], axis=1, inplace = True)"
      ]
    },
    {
      "cell_type": "code",
      "execution_count": 22,
      "metadata": {
        "id": "XGuWy0DeHzGF"
      },
      "outputs": [],
      "source": [
        "#Renomeando as colunas - \n",
        "\n",
        "df_geral.rename(columns={'Agente  Causador  Acidente':'Agente_Causador_Acidente',\n",
        "                         'CBO':'Codigo_Ocupacao',\n",
        "                         'CID-10':'Identificação_da_doenca',\n",
        "                         'CNAE2.0 Empregador':'CNAE_COD_Atividade_Economica',\n",
        "                         'CNAE2.0 Empregador.1':'CNAE_Atividade_Economica',\n",
        "                         'Emitente CAT':'Emitente_CAT',\n",
        "                         'Espécie do benefício':'Especie_do_beneficio',\n",
        "                         'Filiação Segurado':'Filiação_Segurado',\n",
        "                         'Indica Óbito Acidente':'Indica_Obito_Acidente',\n",
        "                         'Munic Empr':'Municipio_Empregador',\n",
        "                         'Origem de Cadastramento CAT':'Origem_Cadastramento_CAT',\n",
        "                         'Parte Corpo Atingida': 'Parte_Corpo_Atingida',\n",
        "                         'UF  Munic.  Acidente':'UF_Municipio_Acidente',\n",
        "                         'UF Munic. Empregador':'UF_Municipio_Empregador',\n",
        "                         'Data Despacho Benefício':'Data_Despacho_Beneficio',\n",
        "                         'Data Acidente.2':'Data_Acidente',\n",
        "                         'Data Nascimento':'Data_Nascimento',\n",
        "                         'Data Emissão CAT':'Data_Emissao_CAT',                         \n",
        "                         'CNPJ/CEI Empregador':'CNPJ_Empregador'}, inplace=True)"
      ]
    },
    {
      "cell_type": "code",
      "source": [
        "#removendo os espaços antes e depois da str\n",
        "cols = ['Agente_Causador_Acidente',\n",
        "        'Codigo_Ocupacao',\n",
        "        'Identificação_da_doenca',\n",
        "        'CNAE_Atividade_Economica',\n",
        "        'Emitente_CAT',\n",
        "        'Especie_do_beneficio',\n",
        "        'Filiação_Segurado',\n",
        "        'Indica_Obito_Acidente',\n",
        "        'Municipio_Empregador',\n",
        "        'Natureza da Lesão',\n",
        "        'Origem_Cadastramento_CAT',\n",
        "        'Parte_Corpo_Atingida',\n",
        "        'Sexo',\n",
        "        'Tipo do Acidente',\n",
        "        'UF_Municipio_Acidente',\n",
        "        'UF_Municipio_Empregador',\n",
        "        'CNPJ_Empregador']\n",
        "\n",
        "for i in cols:\n",
        "  df_geral[i] = df_geral[i].str.strip()\n"
      ],
      "metadata": {
        "id": "PeNriUphVRGj"
      },
      "execution_count": 23,
      "outputs": []
    },
    {
      "cell_type": "code",
      "source": [
        "#Removendo inconsistência de datas\n",
        "def to_NaN(DataFrame, name):\n",
        "    for n in DataFrame:\n",
        "      DataFrame.replace([name], np.nan,inplace=True)\n",
        "\n",
        "to_NaN(df_geral,'0000/00')\n",
        "to_NaN(df_geral,'00/00/0000')"
      ],
      "metadata": {
        "id": "2G1-I9xwiU0Y"
      },
      "execution_count": 24,
      "outputs": []
    },
    {
      "cell_type": "code",
      "source": [
        "#Removendo inconsistência de strings\n",
        "df_geral.replace(['000000-Não Informado', 'Ignorado', '{ñ',\n",
        "                  '{ñ class',\n",
        "                  '{ñ class}',\n",
        "                  'Ignorado-Zerado',\n",
        "                  'ñ class',\n",
        "                  '0',\n",
        "                  '00.000.000.000.000',\n",
        "                  'Zerado'], 'Não Informado', inplace=True)"
      ],
      "metadata": {
        "id": "mER17Lfv0npv"
      },
      "execution_count": 25,
      "outputs": []
    },
    {
      "cell_type": "code",
      "source": [
        "#Remodevndo os NA por NaN\n",
        "df_geral.replace(pd.NA, np.NaN, inplace=True)"
      ],
      "metadata": {
        "id": "vhVWbNA_0pmY"
      },
      "execution_count": 26,
      "outputs": []
    },
    {
      "cell_type": "code",
      "source": [
        "#Mudança de tipo das colunas\n",
        "df_geral['Data_Despacho_Beneficio'] = pd.to_datetime(df_geral['Data_Despacho_Beneficio'], format='%Y/%m')\n",
        "df_geral['Data_Acidente']= pd.to_datetime(df_geral['Data_Acidente'], dayfirst=True)\n",
        "df_geral['Data_Nascimento']= pd.to_datetime(df_geral['Data_Nascimento'], dayfirst=True)\n",
        "df_geral['Data_Emissao_CAT']= pd.to_datetime(df_geral['Data_Emissao_CAT'], dayfirst=True)"
      ],
      "metadata": {
        "id": "wXHLv_nkvHEP"
      },
      "execution_count": 27,
      "outputs": []
    },
    {
      "cell_type": "markdown",
      "metadata": {
        "id": "zjE7A6h6Y5EZ"
      },
      "source": [
        "##4.2.PYSPARK"
      ]
    },
    {
      "cell_type": "code",
      "execution_count": 28,
      "metadata": {
        "id": "xoSdA311yaA3"
      },
      "outputs": [],
      "source": [
        "#Enviar arquivo Bruto Geral  para Bucket\n",
        "df_geral.to_csv('gs://projeto_cat/ORIGINAL/D.SDA.PDA.005.CAT.GERAL.csv', index=False)"
      ]
    },
    {
      "cell_type": "markdown",
      "metadata": {
        "id": "oMeb-baGbkPL"
      },
      "source": [
        "Montando a estrutura do DataFrame utilizando o StructType\n",
        "- O objeto StructType é a coleção de objetos StructFields. É um tipo de dados interno que contém a lista de StructField."
      ]
    },
    {
      "cell_type": "code",
      "execution_count": 29,
      "metadata": {
        "id": "3DqwhXLIcC3O"
      },
      "outputs": [],
      "source": [
        "schema = StructType([StructField('Agente_Causador_Acidente',StringType(), True),\n",
        "                     StructField('Codigo_Ocupacao', StringType(), True),\n",
        "                     StructField('Identificação_da_doenca',StringType(), True),\n",
        "                     StructField('CNAE_COD_Atividade_Economica',IntegerType(), True),\n",
        "                     StructField('CNAE_Atividade_Economica',StringType(), True),\n",
        "                     StructField('Emitente_CAT',StringType(), True),\n",
        "                     StructField('Especie_do_beneficio',StringType(), True),\n",
        "                     StructField('Filiação_Segurado',StringType(), True),\n",
        "                     StructField('Indica_Obito_Acidente',StringType(), True),\n",
        "                     StructField('Municipio_Empregador',StringType(), True),\n",
        "                     StructField('Natureza_da_Lesao',StringType(), True),\n",
        "                     StructField('Origem_Cadastramento_CAT',StringType(), True),\n",
        "                     StructField('Parte_Corpo_Atingida',StringType(), True),\n",
        "                     StructField('Sexo',StringType(), True),\n",
        "                     StructField('Tipo_do_Acidente',StringType(), True),\n",
        "                     StructField('UF_Municipio_Acidente',StringType(), True),\n",
        "                     StructField('UF_Municipio_Empregador',StringType(), True),\n",
        "                     StructField('Data_Despacho_Beneficio',DateType(),True),\n",
        "                     StructField('Data_Acidente',DateType(),True),\n",
        "                     StructField('Data Nascimento',DateType(),True),\n",
        "                     StructField('Data Emissão CAT',DateType(),True),\n",
        "                     StructField('CNPJ_Empregador',StringType(), True)                   \n",
        "                   ])"
      ]
    },
    {
      "cell_type": "code",
      "execution_count": 30,
      "metadata": {
        "id": "udJYEMgxdC8L"
      },
      "outputs": [],
      "source": [
        "#AQUI IREMOS LER O DATAFRAME COLOCANDO INFERSCHEMA COMO FALSE PARA QUE O SPARK NÃO INFIRA O ESQUEMA\n",
        "# E ADICIONAMOS schema=esquema, PARA UTILIZARMOS O ESQUEMA QUE CRIAMOS ANTERIORMENTE\n",
        "df = (\n",
        "    spark.read.format('csv')\n",
        "              .option('header', 'true')\n",
        "              .option('inferschema', 'false')\n",
        "              .option('delimiter', ',')\n",
        "              .load('gs://projeto_cat/ORIGINAL/D.SDA.PDA.005.CAT.GERAL.csv', schema = schema)\n",
        ")"
      ]
    },
    {
      "cell_type": "markdown",
      "metadata": {
        "id": "dH4HC_RUGEB1"
      },
      "source": [
        "###4.2.1.Tratamento"
      ]
    },
    {
      "cell_type": "code",
      "execution_count": 31,
      "metadata": {
        "id": "FdDVCG7LvN6A"
      },
      "outputs": [],
      "source": [
        "#Renomear uma coluna no Pyspark\n",
        "df = (df.withColumnRenamed('Data Nascimento', 'Data_Nascimento')\n",
        "        .withColumnRenamed('Data Emissão CAT', 'Data_Emissão_CAT'))"
      ]
    },
    {
      "cell_type": "code",
      "source": [
        "# Drop linhas duplicadas no dataframe\n",
        "df = df.dropDuplicates()\n",
        "df = df.distinct()"
      ],
      "metadata": {
        "id": "gcGyVTZDBYig"
      },
      "execution_count": 32,
      "outputs": []
    },
    {
      "cell_type": "code",
      "source": [
        "#Criação de novas colunas \n",
        "df = df.withColumn('CNAE_COD_Atividade_Economica', df['CNAE_COD_Atividade_Economica'].cast(StringType()))\n",
        "df = (df.withColumn('CNAE', F.concat(F.col('CNAE_COD_Atividade_Economica'), F.lit('-'), F.col('CNAE_Atividade_Economica'))) \\\n",
        "          .withColumn('Quant_dias_Emisão_CAT', F.datediff('Data_Emissão_CAT','Data_Acidente'))   \n",
        "       )\n",
        "df = df.withColumn('CNAE_COD_Atividade_Economica', df['CNAE_COD_Atividade_Economica'].cast(IntegerType()))"
      ],
      "metadata": {
        "id": "mJ9IYd7l6yt7"
      },
      "execution_count": 33,
      "outputs": []
    },
    {
      "cell_type": "markdown",
      "metadata": {
        "id": "EV9WhyCvh4QL"
      },
      "source": [
        "#5.Load - Carregamento de dados Tratados para GCP, MONGODB e MySQL"
      ]
    },
    {
      "cell_type": "markdown",
      "source": [
        "##5.1.Load - Dataset final Para bucket do CloudStorage"
      ],
      "metadata": {
        "id": "k2XEHEYFnluf"
      }
    },
    {
      "cell_type": "code",
      "source": [
        "#transformar de Pypark para PANDAS\n",
        "df_geral2 = df.toPandas()"
      ],
      "metadata": {
        "id": "Ra7_uV-Nmk1f"
      },
      "execution_count": 34,
      "outputs": []
    },
    {
      "cell_type": "code",
      "source": [
        "df_geral2.to_csv('gs://projeto_cat/TRATADOS/D.SDA.PDA.005.CAT.2022-TRATADOS.csv', index=False)"
      ],
      "metadata": {
        "id": "wFr8v8zlg1UC"
      },
      "execution_count": 35,
      "outputs": []
    },
    {
      "cell_type": "markdown",
      "source": [
        "##5.2.Load - Dataset final Para Banco de Dados MySQL."
      ],
      "metadata": {
        "id": "bVhyMRs5mwun"
      }
    },
    {
      "cell_type": "markdown",
      "source": [
        "###5.2.1.Conectar com o Banco de dados"
      ],
      "metadata": {
        "id": "PUP3No5KrsCn"
      }
    },
    {
      "cell_type": "code",
      "source": [
        "# # dados de para realizar conexão com o servidor\n",
        "# servidor = 'xxxxxxx'\n",
        "# nome_do_banco = 'xxxxx'\n",
        "# usuario = 'xxxxx'\n",
        "# senha = 'xxxxx'\n",
        "\n",
        "# # ciar uma SQLAlchemy engine para conectar com o MySQL \n",
        "# engine = create_engine(\"mysql+pymysql://{user}:{pw}@{host}/{db}\"\n",
        "# \t\t\t\t.format(host=servidor, db=nome_do_banco, user=usuario, pw=senha))\n",
        "\n",
        "# # convertendo dataframe em uma table do sql                                   \n",
        "# df_geral2.to_sql('cat_tratado', engine, index=True, index_label=\"id\")"
      ],
      "metadata": {
        "id": "-o-jASUFhaO9"
      },
      "execution_count": null,
      "outputs": []
    },
    {
      "cell_type": "code",
      "source": [
        "# engine.execute('ALTER TABLE cat_tratado ADD PRIMARY KEY (id);')"
      ],
      "metadata": {
        "id": "vLEFNngkCJfr"
      },
      "execution_count": 37,
      "outputs": []
    },
    {
      "cell_type": "markdown",
      "source": [
        "##5.3.Load - Dataset final Para o MongoDB"
      ],
      "metadata": {
        "id": "xNySXO69Cqc9"
      }
    },
    {
      "cell_type": "code",
      "source": [
        "# #Tranformação do formato das datas para serem aceitos no mongo db\n",
        "# df_geral2['Data_Despacho_Beneficio']= df_geral2['Data_Despacho_Beneficio'].dt.strftime('%Y-%m-%d %H:%M:%s')\n",
        "# df_geral2['Data_Acidente']= df_geral2['Data_Acidente'].dt.strftime('%Y-%m-%d %H:%M:%s')\n",
        "# df_geral2['Data_Nascimento']= df_geral2['Data_Nascimento'].dt.strftime('%Y-%m-%d %H:%M:%s')\n",
        "# df_geral2['Data_Emissão_CAT']= df_geral2['Data_Emissão_CAT'].dt.strftime('%Y-%m-%d %H:%M:%s')"
      ],
      "metadata": {
        "id": "1oDpJriUNZAf"
      },
      "execution_count": 38,
      "outputs": []
    },
    {
      "cell_type": "code",
      "source": [
        "# #Dividir o df_geral2 em dois DF para poder fazer Upload para Mongo\n",
        "# df_geral2_parte1 = df_geral2.loc[0:40000]\n",
        "# df_geral2_parte2 = df_geral2.loc[40001:80000]\n",
        "# df_geral2_parte3 = df_geral2.loc[80001:120000]\n",
        "# df_geral2_parte4 = df_geral2.loc[120001:156749]"
      ],
      "metadata": {
        "id": "Pdx5AXwTU4uu"
      },
      "execution_count": 39,
      "outputs": []
    },
    {
      "cell_type": "code",
      "source": [
        "# # enviar o DF para colecao selecionada no mongo\n",
        "# colecao_4_parte1 = db['D.SDA.PDA.005.CAT.2022-TRATADO-parte1']\n",
        "# df_pd_dict1 = df_geral2_parte1.to_dict(\"records\")\n",
        "# colecao_4_parte1.insert_many(df_pd_dict1)"
      ],
      "metadata": {
        "id": "BzzGEzHvDKCX"
      },
      "execution_count": 40,
      "outputs": []
    },
    {
      "cell_type": "code",
      "source": [
        "# colecao_4_parte2 = db['D.SDA.PDA.005.CAT.2022-TRATADO-parte2']\n",
        "# df_pd_dict2 = df_geral2_parte2.to_dict('records')\n",
        "# colecao_4_parte2.insert_many(df_pd_dict2)"
      ],
      "metadata": {
        "id": "NDtm-IJfDggt"
      },
      "execution_count": 41,
      "outputs": []
    },
    {
      "cell_type": "code",
      "source": [
        "# colecao_4_parte3 = db['D.SDA.PDA.005.CAT.2022-TRATADO-parte3']\n",
        "# df_pd_dict3 = df_geral2_parte3.to_dict('records')\n",
        "# colecao_4_parte3.insert_many(df_pd_dict3)"
      ],
      "metadata": {
        "id": "vVohfwh8Dxi6"
      },
      "execution_count": 42,
      "outputs": []
    },
    {
      "cell_type": "code",
      "source": [
        "# colecao_4_parte4 = db['D.SDA.PDA.005.CAT.2022-TRATADO-parte4']\n",
        "# df_pd_dict4 = df_geral2_parte4.to_dict('records')\n",
        "# colecao_4_parte4.insert_many(df_pd_dict4)"
      ],
      "metadata": {
        "id": "1ha7GXVgDyEL"
      },
      "execution_count": 43,
      "outputs": []
    },
    {
      "cell_type": "markdown",
      "source": [
        "#6.Insights"
      ],
      "metadata": {
        "id": "JJ_nvLcZ-M7s"
      }
    },
    {
      "cell_type": "markdown",
      "source": [
        "##6.1.Pandas"
      ],
      "metadata": {
        "id": "SjJ8iqiVEbqa"
      }
    },
    {
      "cell_type": "markdown",
      "source": [
        "####1 - Quais as profissões que ocorrem mais acidente de trabalho - "
      ],
      "metadata": {
        "id": "uke25tau-gFn"
      }
    },
    {
      "cell_type": "code",
      "source": [
        "#Groupby Para descobrir as mais informadas\n",
        "df_geral.groupby(['Codigo_Ocupacao']).size().sort_values(ascending=False)"
      ],
      "metadata": {
        "id": "KtflWL2MLua2",
        "colab": {
          "base_uri": "https://localhost:8080/"
        },
        "outputId": "3149df7c-464a-4c4a-aa2e-e6e657df8aa9"
      },
      "execution_count": 44,
      "outputs": [
        {
          "output_type": "execute_result",
          "data": {
            "text/plain": [
              "Codigo_Ocupacao\n",
              "Não Informado                                    107813\n",
              "322205-Tec. de Enfermagem                         11824\n",
              "784205-Alimentador de Linha de Prod.              10582\n",
              "782510-Motorista de Caminhão Rotas Regionais       4109\n",
              "717020-Servente de Obras                           3788\n",
              "                                                  ...  \n",
              "821235-Oper. Aciaria Dessulfuração de Gusa)           1\n",
              "821325-Oper. Laminador de Tubos                       1\n",
              "263110-Missionário                                    1\n",
              "311305-Tec. Materiais, Prod. Cerâmicos e Vidr         1\n",
              "010105-Oficial General da Aeronáutica                 1\n",
              "Length: 1556, dtype: int64"
            ]
          },
          "metadata": {},
          "execution_count": 44
        }
      ]
    },
    {
      "cell_type": "code",
      "source": [
        "#Quero que apenas apareça as profissões com mais acidentes\n",
        "df_geral_sem_nan = df_geral[~df_geral['Codigo_Ocupacao'].isin([\"000000-Não Informado\", \"Não Informado\"])]"
      ],
      "metadata": {
        "id": "s9usYymGMzZb"
      },
      "execution_count": 45,
      "outputs": []
    },
    {
      "cell_type": "code",
      "source": [
        "df_geral_sem_nan.groupby(['Codigo_Ocupacao'],dropna=True).size().sort_values(ascending=False).head(10).plot.bar(figsize=(12,8),xlabel='PROFISSÃO',ylabel='Qtd. Acidentes', color='green')"
      ],
      "metadata": {
        "id": "mxAL_4yz_O2t",
        "colab": {
          "base_uri": "https://localhost:8080/",
          "height": 744
        },
        "outputId": "45c51146-a1da-4c61-a8a5-c9b0ae613daa"
      },
      "execution_count": 46,
      "outputs": [
        {
          "output_type": "execute_result",
          "data": {
            "text/plain": [
              "<matplotlib.axes._subplots.AxesSubplot at 0x7f868128c640>"
            ]
          },
          "metadata": {},
          "execution_count": 46
        },
        {
          "output_type": "display_data",
          "data": {
            "text/plain": [
              "<Figure size 864x576 with 1 Axes>"
            ],
            "image/png": "[encoded data removed]"
          },
          "metadata": {
            "needs_background": "light"
          }
        }
      ]
    },
    {
      "cell_type": "markdown",
      "source": [
        "####2 - Em que região ocorre mais acidentes de trabalho? "
      ],
      "metadata": {
        "id": "jE6pJB0y-ixQ"
      }
    },
    {
      "cell_type": "code",
      "source": [
        "#Quero que apenas apareça as profissões com mais acidentes\n",
        "df_geral_sem_nao = df_geral[~df_geral['UF_Municipio_Acidente'].isin([\"Não Informado\"])]"
      ],
      "metadata": {
        "id": "mpy8N7mqM9kI"
      },
      "execution_count": 47,
      "outputs": []
    },
    {
      "cell_type": "code",
      "source": [
        "df_geral_sem_nao.groupby(['UF_Municipio_Acidente'],dropna=True).size().sort_values(ascending=False).head(4).plot.bar(figsize=(12,8),xlabel='ESTADO',ylabel='Qtd. Ocorrencias')"
      ],
      "metadata": {
        "id": "m0MwT9WeOFt6",
        "colab": {
          "base_uri": "https://localhost:8080/",
          "height": 554
        },
        "outputId": "8420f6e4-fe5c-46ca-b7fd-c1c16c34ca08"
      },
      "execution_count": 48,
      "outputs": [
        {
          "output_type": "execute_result",
          "data": {
            "text/plain": [
              "<matplotlib.axes._subplots.AxesSubplot at 0x7f8681d2d880>"
            ]
          },
          "metadata": {},
          "execution_count": 48
        },
        {
          "output_type": "display_data",
          "data": {
            "text/plain": [
              "<Figure size 864x576 with 1 Axes>"
            ],
            "image/png": "[encoded data removed]"
          },
          "metadata": {
            "needs_background": "light"
          }
        }
      ]
    },
    {
      "cell_type": "markdown",
      "source": [
        "####3 - Quando ocorre mais acidentes. Em que época."
      ],
      "metadata": {
        "id": "7ITKSHXt-u3W"
      }
    },
    {
      "cell_type": "code",
      "source": [
        "df_geral.groupby(['Data_Acidente'],dropna=False).size().sort_values(ascending=False).plot.line(figsize=(20,5))"
      ],
      "metadata": {
        "id": "ycSASMqHPnX-",
        "colab": {
          "base_uri": "https://localhost:8080/",
          "height": 344
        },
        "outputId": "94d13daa-385a-482c-f57d-eb3870cc4393"
      },
      "execution_count": 49,
      "outputs": [
        {
          "output_type": "execute_result",
          "data": {
            "text/plain": [
              "<matplotlib.axes._subplots.AxesSubplot at 0x7f867faeb370>"
            ]
          },
          "metadata": {},
          "execution_count": 49
        },
        {
          "output_type": "display_data",
          "data": {
            "text/plain": [
              "<Figure size 1440x360 with 1 Axes>"
            ],
            "image/png": "[encoded data removed]"
          },
          "metadata": {
            "needs_background": "light"
          }
        }
      ]
    },
    {
      "cell_type": "markdown",
      "source": [
        "##6.2.PySpark"
      ],
      "metadata": {
        "id": "c4AbxZbvE4Kq"
      }
    },
    {
      "cell_type": "markdown",
      "source": [
        "###6.2.1.Filtros"
      ],
      "metadata": {
        "id": "8lHSuyInE8ew"
      }
    },
    {
      "cell_type": "code",
      "source": [
        "#O sexo que mais solicita com o pedido de Auxilio Doença\n",
        "df.groupBy('Sexo').count().show()"
      ],
      "metadata": {
        "id": "LFt8fG8lUuiF",
        "colab": {
          "base_uri": "https://localhost:8080/"
        },
        "outputId": "7cd2b594-ce8b-4a00-9807-635794146717"
      },
      "execution_count": 50,
      "outputs": [
        {
          "output_type": "stream",
          "name": "stdout",
          "text": [
            "+-------------+------+\n",
            "|         Sexo| count|\n",
            "+-------------+------+\n",
            "|Indeterminado|     2|\n",
            "|Não Informado|   502|\n",
            "|     Feminino| 53328|\n",
            "|    Masculino|102917|\n",
            "+-------------+------+\n",
            "\n"
          ]
        }
      ]
    },
    {
      "cell_type": "code",
      "source": [
        "df.filter(F.col('UF_Municipio_Acidente').contains('Alagoas')).show(truncate=False)"
      ],
      "metadata": {
        "id": "7zaH3jQVWV-U",
        "colab": {
          "base_uri": "https://localhost:8080/"
        },
        "outputId": "8d316370-148d-466c-bd86-aa07355def28"
      },
      "execution_count": 51,
      "outputs": [
        {
          "output_type": "stream",
          "name": "stdout",
          "text": [
            "+---------------------------------------------+---------------------------------------------+---------------------------------------------+----------------------------+---------------------------------------------+-------------+---------------------------------------+-----------------+---------------------+--------------------+------------------------------------------+------------------------+---------------------------------------------+---------+----------------+---------------------+-----------------------+-----------------------+-------------+---------------+----------------+------------------+--------------------------------------------------+---------------------+\n",
            "|Agente_Causador_Acidente                     |Codigo_Ocupacao                              |Identificação_da_doenca                      |CNAE_COD_Atividade_Economica|CNAE_Atividade_Economica                     |Emitente_CAT |Especie_do_beneficio                   |Filiação_Segurado|Indica_Obito_Acidente|Municipio_Empregador|Natureza_da_Lesao                         |Origem_Cadastramento_CAT|Parte_Corpo_Atingida                         |Sexo     |Tipo_do_Acidente|UF_Municipio_Acidente|UF_Municipio_Empregador|Data_Despacho_Beneficio|Data_Acidente|Data_Nascimento|Data_Emissão_CAT|CNPJ_Empregador   |CNAE                                              |Quant_dias_Emisão_CAT|\n",
            "+---------------------------------------------+---------------------------------------------+---------------------------------------------+----------------------------+---------------------------------------------+-------------+---------------------------------------+-----------------+---------------------+--------------------+------------------------------------------+------------------------+---------------------------------------------+---------+----------------+---------------------+-----------------------+-----------------------+-------------+---------------+----------------+------------------+--------------------------------------------------+---------------------+\n",
            "|Não Informado                                |Não Informado                                |S51.9 Ferim do Antebraco Parte Ne            |0                           |Não Informado                                |Não Informado|Auxílio Doenca por Acidente do Trabalho|Não Informado    |ñ                    |000000-Ignorado     |Não Informado                             |Não Informado           |Não Informado                                |Masculino|Não Informado   |Alagoas              |Não Informado          |2022-02-01             |2022-01-12   |1969-07-31     |null            |Não Informado     |0-Não Informado                                   |null                 |\n",
            "|Não Informado                                |Não Informado                                |S66.2 Traum Musc Extens Tend Polegar Niv Punh|0                           |Não Informado                                |Não Informado|Auxílio Doenca por Acidente do Trabalho|Não Informado    |ñ                    |000000-Ignorado     |Não Informado                             |Não Informado           |Não Informado                                |Masculino|Não Informado   |Alagoas              |Não Informado          |2022-03-01             |2022-02-16   |1983-07-20     |null            |Não Informado     |0-Não Informado                                   |null                 |\n",
            "|Não Informado                                |Não Informado                                |S42.0 Frat da Clavicula                      |0                           |Não Informado                                |Não Informado|Auxílio Doenca por Acidente do Trabalho|Não Informado    |ñ                    |000000-Ignorado     |Não Informado                             |Não Informado           |Não Informado                                |Masculino|Não Informado   |Alagoas              |Não Informado          |2022-02-01             |2022-01-03   |1994-05-18     |null            |Não Informado     |0-Não Informado                                   |null                 |\n",
            "|Impacto de Pes. Contra Objeto em Movimento   |521125-Repositor de Mercadorias              |S20.0 Contusao da Mama                       |4930                        |Transporte Rodoviario de Carga               |Empregador   |Pa                                     |Empregado        |Não                  |140010-Boa Vista-Rr |Lesao Imediata                            |Internet                |Ombro                                        |Feminino |Típico          |Alagoas              |Roraima                |null                   |2022-06-14   |1988-01-10     |2022-06-15      |Não Informado     |4930-Transporte Rodoviario de Carga               |1                    |\n",
            "|Veiculo Rodoviario Motorizado                |Não Informado                                |S02.9 Frat do Cranio ou dos Ossos da Face Par|7020                        |Atividades de Consultoria em Gestao Empresari|Empregador   |Pa                                     |Empregado        |Não                  |140010-Boa Vista-Rr |Corte, Laceracao, Ferida Contusa, Punctura|Internet                |Perna Entre O Tornozelo e a Pelvis)          |Feminino |Trajeto         |Alagoas              |Roraima                |null                   |2022-05-25   |1969-10-30     |2022-06-13      |35.826.050.000.107|7020-Atividades de Consultoria em Gestao Empresari|19                   |\n",
            "|Escada Movel ou Fixada, Nic                  |717020-Servente de Obras                     |S61.1 Ferim de Dedos c/Lesao da Unha         |4211                        |Construcao de Rodovias e Ferrovias           |Empregador   |Pa                                     |Empregado        |Não                  |140010-Boa Vista-Rr |Corte, Laceracao, Ferida Contusa, Punctura|Internet                |Mao Exceto Punho ou Dedos)                   |Masculino|Típico          |Alagoas              |Roraima                |null                   |2022-06-13   |1960-02-20     |2022-06-14      |Não Informado     |4211-Construcao de Rodovias e Ferrovias           |1                    |\n",
            "|Impacto Sofrido por Pes., Nic                |521110-Vendedor de Comércio Varejista        |M25.5 Dor Articular                          |4751                        |Comercio Varejista Especializado de Equipamen|Empregador   |Pa                                     |Empregado        |Não                  |140010-Boa Vista-Rr |Escoriacao, Abrasao Ferimento Superficial)|Internet                |Perna Entre O Tornozelo e a Pelvis)          |Masculino|Trajeto         |Alagoas              |Roraima                |null                   |2022-10-02   |2002-11-25     |2022-10-03      |Não Informado     |4751-Comercio Varejista Especializado de Equipamen|1                    |\n",
            "|Esforco Excessivo ao Empurrar ou Puxar Objeto|414215-Conferente Carga e Descarga           |S43.0 Luxacao da Articulacao do Ombro        |4634                        |Comercio Atacadista de Carnes, Produtos da Ca|Empregador   |Pa                                     |Empregado        |Não                  |140010-Boa Vista-Rr |Luxacao                                   |Internet                |Braco Entre O Punho a O Ombro)               |Masculino|Típico          |Alagoas              |Roraima                |null                   |2022-10-15   |1987-10-09     |2022-10-17      |Não Informado     |4634-Comercio Atacadista de Carnes, Produtos da Ca|2                    |\n",
            "|Faca, Facao- Ferramenta Manual sem Forca Motr|141410-Comerciante Varejista                 |S61.0 Ferim de Dedos s/Lesao da Unha         |4693                        |Comercio Atacadista de Mercadorias em Geral, |Empregador   |Pa                                     |Empregado        |Não                  |140010-Boa Vista-Rr |Corte, Laceracao, Ferida Contusa, Punctura|Internet                |Dedo                                         |Masculino|Típico          |Alagoas              |Roraima                |null                   |2022-03-16   |2000-05-28     |2022-03-19      |Não Informado     |4693-Comercio Atacadista de Mercadorias em Geral, |3                    |\n",
            "|Não Informado                                |Não Informado                                |S42.3 Frat da Diafise do Umero               |0                           |Não Informado                                |Não Informado|Auxílio Doenca por Acidente do Trabalho|Não Informado    |ñ                    |000000-Ignorado     |Não Informado                             |Não Informado           |Não Informado                                |Feminino |Não Informado   |Alagoas              |Não Informado          |2022-05-01             |2022-01-29   |1966-03-16     |null            |Não Informado     |0-Não Informado                                   |null                 |\n",
            "|Motocicleta, Motoneta                        |992210-Encarregado de Equipe de Conservação D|V29.9 Motociclista Acid Trans Ne             |4213                        |Obras de Urbanizacao - Ruas, Pracas e Calcada|Empregador   |Pa                                     |Empregado        |Não                  |140010-Boa Vista-Rr |Escoriacao, Abrasao Ferimento Superficial)|Internet                |Partes Multiplas - Aplica-Se Quando Mais de U|Masculino|Trajeto         |Alagoas              |Roraima                |null                   |2022-10-19   |1983-09-11     |2022-10-20      |Não Informado     |4213-Obras de Urbanizacao - Ruas, Pracas e Calcada|1                    |\n",
            "|Ferramenta Manual sem Forca Motriz, Nic      |716610-Pintor de Obras                       |S62.2 Frat do Primeiro Metacarpiano          |8111                        |Servicos Combinados para Apoio a Edificios, E|Empregador   |Pa                                     |Empregado        |Não                  |140010-Boa Vista-Rr |Corte, Laceracao, Ferida Contusa, Punctura|Internet                |Punho                                        |Masculino|Típico          |Alagoas              |Roraima                |null                   |2022-06-17   |1975-12-31     |2022-06-20      |Não Informado     |8111-Servicos Combinados para Apoio a Edificios, E|3                    |\n",
            "|Não Informado                                |Não Informado                                |F43   Reacoes ao Stress Grave e Transt Adapta|0                           |Não Informado                                |Não Informado|Auxílio Doenca por Acidente do Trabalho|Não Informado    |ñ                    |000000-Ignorado     |Não Informado                             |Não Informado           |Não Informado                                |Feminino |Não Informado   |Alagoas              |Não Informado          |2022-02-01             |2022-01-24   |1976-09-17     |null            |Não Informado     |0-Não Informado                                   |null                 |\n",
            "|Não Informado                                |Não Informado                                |S92   Frat do Pe                             |0                           |Não Informado                                |Não Informado|Auxílio Doenca por Acidente do Trabalho|Não Informado    |ñ                    |000000-Ignorado     |Não Informado                             |Não Informado           |Não Informado                                |Masculino|Não Informado   |Alagoas              |Não Informado          |2022-03-01             |2022-02-10   |1994-01-21     |null            |Não Informado     |0-Não Informado                                   |null                 |\n",
            "|Não Informado                                |Não Informado                                |F44   Transt Dissociativos                   |0                           |Não Informado                                |Não Informado|Auxílio Doenca por Acidente do Trabalho|Não Informado    |ñ                    |000000-Ignorado     |Não Informado                             |Não Informado           |Não Informado                                |Feminino |Não Informado   |Alagoas              |Não Informado          |2022-02-01             |2022-02-01   |1992-03-10     |null            |Não Informado     |0-Não Informado                                   |null                 |\n",
            "|Não Informado                                |Não Informado                                |S52.1 Frat da Extremidade Super do Radio     |0                           |Não Informado                                |Não Informado|Auxílio Doenca por Acidente do Trabalho|Não Informado    |ñ                    |000000-Ignorado     |Não Informado                             |Não Informado           |Não Informado                                |Feminino |Não Informado   |Alagoas              |Não Informado          |2022-06-01             |2022-04-20   |1967-12-07     |null            |Não Informado     |0-Não Informado                                   |null                 |\n",
            "|Louca de Mesa e Outros Utensilios De Porcela |Não Informado                                |S61.8 Ferim de Outr Partes do Punho e da Mao |5611                        |Restaurantes e Outros Estabelecimentos de Ser|Empregador   |Pa                                     |Empregado        |Não                  |140010-Boa Vista-Rr |Corte, Laceracao, Ferida Contusa, Punctura|Internet                |Mao Exceto Punho ou Dedos)                   |Masculino|Típico          |Alagoas              |Roraima                |null                   |2022-03-08   |2003-05-14     |2022-03-11      |42.693.017.000.111|5611-Restaurantes e Outros Estabelecimentos de Ser|3                    |\n",
            "|Atrito ou Abrasao por Manusear Objeto        |517110-Bombeiro de Segurança do Trabalho     |S61.0 Ferim de Dedos s/Lesao da Unha         |161                         |Atividades de Apoio a Agricultura            |Empregador   |Pa                                     |Empregado        |Não                  |140010-Boa Vista-Rr |Corte, Laceracao, Ferida Contusa, Punctura|Internet                |Dedo                                         |Masculino|Típico          |Alagoas              |Roraima                |null                   |2022-06-02   |1962-12-24     |2022-06-03      |Não Informado     |161-Atividades de Apoio a Agricultura             |1                    |\n",
            "|Não Informado                                |Não Informado                                |T23.3 Queim de 3.Grau do Punho e da Mao      |0                           |Não Informado                                |Não Informado|Auxílio Doenca por Acidente do Trabalho|Não Informado    |ñ                    |000000-Ignorado     |Não Informado                             |Não Informado           |Não Informado                                |Masculino|Não Informado   |Alagoas              |Não Informado          |2022-06-01             |2022-04-10   |1973-09-13     |null            |Não Informado     |0-Não Informado                                   |null                 |\n",
            "|Não Informado                                |Não Informado                                |F32.1 Episodio Depressivo Moderado           |0                           |Não Informado                                |Não Informado|Auxílio Doenca por Acidente do Trabalho|Não Informado    |ñ                    |000000-Ignorado     |Não Informado                             |Não Informado           |Não Informado                                |Feminino |Não Informado   |Alagoas              |Não Informado          |2022-06-01             |2022-03-31   |1998-05-25     |null            |Não Informado     |0-Não Informado                                   |null                 |\n",
            "+---------------------------------------------+---------------------------------------------+---------------------------------------------+----------------------------+---------------------------------------------+-------------+---------------------------------------+-----------------+---------------------+--------------------+------------------------------------------+------------------------+---------------------------------------------+---------+----------------+---------------------+-----------------------+-----------------------+-------------+---------------+----------------+------------------+--------------------------------------------------+---------------------+\n",
            "only showing top 20 rows\n",
            "\n"
          ]
        }
      ]
    },
    {
      "cell_type": "markdown",
      "source": [
        "###6.2.2.SparkSQL"
      ],
      "metadata": {
        "id": "MPikfix7Egff"
      }
    },
    {
      "cell_type": "code",
      "source": [
        "#Criar tabela em tempo de execução para realização de consulta\n",
        "df.createOrReplaceTempView(\"dfsql\")"
      ],
      "metadata": {
        "id": "pmHNZI-WfNa4"
      },
      "execution_count": 52,
      "outputs": []
    },
    {
      "cell_type": "code",
      "source": [
        "spark.sql(\n",
        "    'SELECT * FROM dfsql limit 10;'\n",
        ").show()"
      ],
      "metadata": {
        "id": "c6EHVcv-fp1Y",
        "colab": {
          "base_uri": "https://localhost:8080/"
        },
        "outputId": "d4aee7ee-aae9-47f3-ee3c-e2bfa01b5349"
      },
      "execution_count": 53,
      "outputs": [
        {
          "output_type": "stream",
          "name": "stdout",
          "text": [
            "+------------------------+--------------------+-----------------------+----------------------------+------------------------+-------------+--------------------+-----------------+---------------------+--------------------+--------------------+------------------------+--------------------+---------+----------------+---------------------+-----------------------+-----------------------+-------------+---------------+----------------+------------------+--------------------+---------------------+\n",
            "|Agente_Causador_Acidente|     Codigo_Ocupacao|Identificação_da_doenca|CNAE_COD_Atividade_Economica|CNAE_Atividade_Economica| Emitente_CAT|Especie_do_beneficio|Filiação_Segurado|Indica_Obito_Acidente|Municipio_Empregador|   Natureza_da_Lesao|Origem_Cadastramento_CAT|Parte_Corpo_Atingida|     Sexo|Tipo_do_Acidente|UF_Municipio_Acidente|UF_Municipio_Empregador|Data_Despacho_Beneficio|Data_Acidente|Data_Nascimento|Data_Emissão_CAT|   CNPJ_Empregador|                CNAE|Quant_dias_Emisão_CAT|\n",
            "+------------------------+--------------------+-----------------------+----------------------------+------------------------+-------------+--------------------+-----------------+---------------------+--------------------+--------------------+------------------------+--------------------+---------+----------------+---------------------+-----------------------+-----------------------+-------------+---------------+----------------+------------------+--------------------+---------------------+\n",
            "|    Impacto Sofrido p...|717020-Servente d...|   S66.2 Traum Musc ...|                        4743|    Comercio Varejist...|   Empregador|                  Pa|        Empregado|                  Não|316250-São João D...|Corte, Laceracao,...|                Internet|Mao Exceto Punho ...|Masculino|          Típico|        Não Informado|                  Bahia|                   null|   2022-02-26|     1996-11-01|      2022-03-01|     Não Informado|4743-Comercio Var...|                    3|\n",
            "|    Cadeira Banco - M...|       Não Informado|   S92.5 Frat de Out...|                        4781|    Comercio Varejist...|   Empregador|                  Pa|        Empregado|                  Não|    355030-São Paulo|             Fratura|                Internet|                Dedo| Feminino|         Trajeto|             Maranhão|              São Paulo|                   null|   2022-02-24|     1982-05-13|      2022-03-02|     Não Informado|4781-Comercio Var...|                    6|\n",
            "|    Impacto de Pes. C...|913115-Mec. Manut...|   S01.8 Ferim na Ca...|                         113|    Cultivo de Cana-D...|   Empregador|                  Pa|        Empregado|                  Não|354570-Santa Albe...|Corte, Laceracao,...|                Internet|         Cabeca, Nic|Masculino|          Típico|             Maranhão|              São Paulo|                   null|   2022-03-02|     1983-04-18|      2022-03-02|     Não Informado|113-Cultivo de Ca...|                    0|\n",
            "|    Queda de Pes. em ...|         514215-Gari|   S93.0 Luxacao da ...|                        3811|    Coleta de Residuo...|   Empregador|                  Pa|        Empregado|                  Não|      351350-Cubatão|             Luxacao|                Internet|Articulacao do To...| Feminino|          Típico|             Maranhão|              São Paulo|                   null|   2022-02-27|     1997-09-29|      2022-03-02|     Não Informado|3811-Coleta de Re...|                    3|\n",
            "|           Não Informado|       Não Informado|   Z20.9 Contato Exp...|                        8610|    Atividades de Ate...|   Empregador|                  Pa|        Empregado|                  Não|     420240-Blumenau|      Lesao Imediata|                Internet|                Coxa|Masculino|          Típico|        Não Informado|         Santa Catarina|                   null|   2022-03-02|     1992-10-26|      2022-03-02|     Não Informado|8610-Atividades d...|                    0|\n",
            "|    Esmeril- Ferramen...|784205-Alimentado...|   S01.1 Ferim da Pa...|                        2539|    Servicos de Usina...|   Empregador|                  Pa|        Empregado|                  Não|        510515-Juína|Escoriacao, Abras...|                Internet|Face, Partes Mult...|Masculino|          Típico|        Não Informado|            Mato Grosso|                   null|   2022-03-02|     1995-06-20|      2022-03-02|11.684.464.000.180|2539-Servicos de ...|                    0|\n",
            "|    Impacto Sofrido p...|   848510-Açougueiro|   S40.0 Contusao do...|                        4711|    Comercio Varejist...|   Empregador|                  Pa|        Empregado|                  Não|     411370-Londrina|Contusao, Esmagam...|                Internet|               Ombro|Masculino|          Típico|              Roraima|                 Paraná|                   null|   2022-03-01|     2002-05-12|      2022-03-02|     Não Informado|4711-Comercio Var...|                    1|\n",
            "|    Queda de Pes. com...|  421125-Oper. Caixa|   S82.5 Frat do Mal...|                        4781|    Comercio Varejist...|   Empregador|                  Pa|        Empregado|                  Não|      352400-Itupeva|             Fratura|                Internet|Membros Superiore...| Feminino|         Trajeto|             Maranhão|              São Paulo|                   null|   2022-02-26|     2002-08-30|      2022-03-02|     Não Informado|4781-Comercio Var...|                    4|\n",
            "|    Impacto de Pes. C...|841310-Oper. Equi...|   S61.1 Ferim de De...|                        1071|    Fabricacao de Acu...|   Empregador|                  Pa|        Empregado|                  Não|      500240-Caarapó|Escoriacao, Abras...|                Internet|                Dedo|Masculino|          Típico|        Não Informado|     Mato Grosso do Sul|                   null|   2022-02-28|     1995-10-10|      2022-03-02|     Não Informado|1071-Fabricacao d...|                    2|\n",
            "|    Rua e Estrada - S...|782510-Motorista ...|   S60.0 Contusao de...|                        4930|    Transporte Rodovi...|Não Informado|                  Pa|        Empregado|                  Não|    355030-São Paulo|Escoriacao, Abras...|                Internet|Membros Superiore...|Masculino|         Trajeto|             Maranhão|              São Paulo|                   null|   2022-02-24|     1983-06-06|      2022-03-03|07.969.968.000.170|4930-Transporte R...|                    7|\n",
            "+------------------------+--------------------+-----------------------+----------------------------+------------------------+-------------+--------------------+-----------------+---------------------+--------------------+--------------------+------------------------+--------------------+---------+----------------+---------------------+-----------------------+-----------------------+-------------+---------------+----------------+------------------+--------------------+---------------------+\n",
            "\n"
          ]
        }
      ]
    },
    {
      "cell_type": "code",
      "source": [
        "#quais ocupações estão mais associadas a determinadas lesões\n",
        "\n",
        "spark.sql('SELECT Codigo_Ocupacao, Natureza_da_Lesao, COUNT(*) \\\n",
        "          FROM dfsql \\\n",
        "          GROUP BY Codigo_Ocupacao, Natureza_da_Lesao \\\n",
        "          ORDER BY COUNT(*) DESC').show(10, truncate=False)"
      ],
      "metadata": {
        "id": "bbLJzfrdMIEs",
        "colab": {
          "base_uri": "https://localhost:8080/"
        },
        "outputId": "16de1664-271e-49ed-cb47-04a5200d8d31"
      },
      "execution_count": 55,
      "outputs": [
        {
          "output_type": "stream",
          "name": "stdout",
          "text": [
            "+------------------------------------+------------------------------------------+--------+\n",
            "|Codigo_Ocupacao                     |Natureza_da_Lesao                         |count(1)|\n",
            "+------------------------------------+------------------------------------------+--------+\n",
            "|Não Informado                       |Não Informado                             |39955   |\n",
            "|784205-Alimentador de Linha de Prod.|Corte, Laceracao, Ferida Contusa, Punctura|1903    |\n",
            "|Não Informado                       |Fratura                                   |1896    |\n",
            "|Não Informado                       |Corte, Laceracao, Ferida Contusa, Punctura|1867    |\n",
            "|322205-Tec. de Enfermagem           |Lesao Imediata                            |1532    |\n",
            "|Não Informado                       |Lesao Imediata                            |1501    |\n",
            "|322205-Tec. de Enfermagem           |Corte, Laceracao, Ferida Contusa, Punctura|1462    |\n",
            "|784205-Alimentador de Linha de Prod.|Fratura                                   |1246    |\n",
            "|Não Informado                       |Contusao, Esmagamento Superficie Cutanea I|1193    |\n",
            "|322205-Tec. de Enfermagem           |Doenca Contagiosa ou Infecciosa Tuberculos|1050    |\n",
            "+------------------------------------+------------------------------------------+--------+\n",
            "only showing top 10 rows\n",
            "\n"
          ]
        }
      ]
    },
    {
      "cell_type": "code",
      "source": [
        "\n",
        "#Qual é a atividade econômica mais comum entre os acidentados?\n",
        "\n",
        "spark.sql('SELECT CNAE_Atividade_Economica, \\\n",
        "          COUNT(*) AS Numero_Acidentados\\\n",
        "          FROM dfsql \\\n",
        "          GROUP BY CNAE_Atividade_Economica \\\n",
        "          ORDER BY Numero_Acidentados DESC \\\n",
        "          LIMIT 5').show(10, truncate=False)\n"
      ],
      "metadata": {
        "id": "RUyi4wuBMwU3",
        "colab": {
          "base_uri": "https://localhost:8080/"
        },
        "outputId": "13fb8b69-42d8-45eb-8951-f7e3fe28f79c"
      },
      "execution_count": 56,
      "outputs": [
        {
          "output_type": "stream",
          "name": "stdout",
          "text": [
            "+---------------------------------------------+------------------+\n",
            "|CNAE_Atividade_Economica                     |Numero_Acidentados|\n",
            "+---------------------------------------------+------------------+\n",
            "|Não Informado                                |43857             |\n",
            "|Atividades de Atendimento Hospitalar         |12578             |\n",
            "|Comercio Varejista de Mercadorias em Geral, c|4789              |\n",
            "|Administracao Publica em Geral               |3236              |\n",
            "|Transporte Rodoviario de Carga               |3230              |\n",
            "+---------------------------------------------+------------------+\n",
            "\n"
          ]
        }
      ]
    },
    {
      "cell_type": "code",
      "source": [
        "#Qual é a relação entre a Natureza da Lesão e a Parte do Corpo Atingida?\n",
        "spark.sql('SELECT Natureza_da_Lesao, Parte_Corpo_Atingida \\\n",
        "           FROM dfsql \\\n",
        "           GROUP BY Natureza_da_Lesao, Parte_Corpo_Atingida').show(10, truncate=False)"
      ],
      "metadata": {
        "id": "_MrB3_lcM8Lm",
        "colab": {
          "base_uri": "https://localhost:8080/"
        },
        "outputId": "f68f933b-91ee-4040-8156-f83a97bcabd7"
      },
      "execution_count": 57,
      "outputs": [
        {
          "output_type": "stream",
          "name": "stdout",
          "text": [
            "+------------------------------------------+--------------------------------------------+\n",
            "|Natureza_da_Lesao                         |Parte_Corpo_Atingida                        |\n",
            "+------------------------------------------+--------------------------------------------+\n",
            "|Escoriacao, Abrasao Ferimento Superficial)|Antebraco Entre O Punho e O Cotovelo)       |\n",
            "|Doenca, Nic                               |Tronco, Nic                                 |\n",
            "|Hernia de Qualquer Natureza, Ruptura      |Abdome Inclusive Orgaos Internos)           |\n",
            "|Hernia de Qualquer Natureza, Ruptura      |Sistema Musculo-Esqueletico                 |\n",
            "|Asfixia, Estrangulamento, Afogamento      |Localizacao da Lesao, Nic                   |\n",
            "|Lesoes Multiplas                          |Cabeca, Partes Multiplas Qualquer Combinacao|\n",
            "|Fratura                                   |Coxa                                        |\n",
            "|Queimadura Quimica Lesao de Tecido Provoca|Braco Entre O Punho a O Ombro)              |\n",
            "|Perda ou Diminuicao de Sentido Audicao, Vi|Sistema Nervoso                             |\n",
            "|Perda ou Diminuicao Mediatas de Sentido Au|Boca Inclusive Labios, Dentes, Lingua, Garga|\n",
            "+------------------------------------------+--------------------------------------------+\n",
            "only showing top 10 rows\n",
            "\n"
          ]
        }
      ]
    }
  ],
  "metadata": {
    "colab": {
      "provenance": [],
      "collapsed_sections": [
        "kyV0ZiBSEMoa",
        "Jqm-Jl6mtGdz",
        "0J4VfGmUvghG",
        "5kLcqZYIDxLs",
        "lXFfuI9GQhGl",
        "o4x1SrdQT-XZ"
      ]
    },
    "kernelspec": {
      "display_name": "Python 3",
      "name": "python3"
    },
    "language_info": {
      "name": "python"
    }
  },
  "nbformat": 4,
  "nbformat_minor": 0
}
